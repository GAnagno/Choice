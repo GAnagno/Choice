{
 "cells": [
  {
   "cell_type": "markdown",
   "id": "61394a84",
   "metadata": {},
   "source": [
    "# Mathematical modelling of behavior"
   ]
  },
  {
   "cell_type": "markdown",
   "id": "fa6710a3",
   "metadata": {},
   "source": [
    "Before using a data file for modeling purposes, it is important to\n",
    "collect some information about its content. The objective of this lab is to extract some descriptive statistics from a database with choice data using the package `pandas`."
   ]
  },
  {
   "cell_type": "markdown",
   "id": "b081c2d3",
   "metadata": {},
   "source": [
    "We introduce some examples using the file `lpmc05.dat`. "
   ]
  },
  {
   "cell_type": "markdown",
   "id": "7bfe2e55",
   "metadata": {},
   "source": [
    "We first import `pandas`"
   ]
  },
  {
   "cell_type": "code",
   "execution_count": 1,
   "id": "bfa38132",
   "metadata": {},
   "outputs": [],
   "source": [
    "import pandas as pd\n",
    "import matplotlib.pyplot as plt"
   ]
  },
  {
   "cell_type": "markdown",
   "id": "f2af303d",
   "metadata": {},
   "source": [
    "# Reading and preparing the data"
   ]
  },
  {
   "cell_type": "markdown",
   "id": "81e01ce1",
   "metadata": {},
   "source": [
    "The\n",
    "description of the columns of the file is\n",
    "available [here](https://transp-or.epfl.ch/documents/technicalReports/CS_LPMC.pdf)."
   ]
  },
  {
   "cell_type": "code",
   "execution_count": 2,
   "id": "4688329a",
   "metadata": {},
   "outputs": [
    {
     "data": {
      "text/html": [
       "<div>\n",
       "<style scoped>\n",
       "    .dataframe tbody tr th:only-of-type {\n",
       "        vertical-align: middle;\n",
       "    }\n",
       "\n",
       "    .dataframe tbody tr th {\n",
       "        vertical-align: top;\n",
       "    }\n",
       "\n",
       "    .dataframe thead th {\n",
       "        text-align: right;\n",
       "    }\n",
       "</style>\n",
       "<table border=\"1\" class=\"dataframe\">\n",
       "  <thead>\n",
       "    <tr style=\"text-align: right;\">\n",
       "      <th></th>\n",
       "      <th>trip_id</th>\n",
       "      <th>household_id</th>\n",
       "      <th>person_n</th>\n",
       "      <th>trip_n</th>\n",
       "      <th>travel_mode</th>\n",
       "      <th>purpose</th>\n",
       "      <th>fueltype</th>\n",
       "      <th>faretype</th>\n",
       "      <th>bus_scale</th>\n",
       "      <th>survey_year</th>\n",
       "      <th>...</th>\n",
       "      <th>dur_pt_access</th>\n",
       "      <th>dur_pt_rail</th>\n",
       "      <th>dur_pt_bus</th>\n",
       "      <th>dur_pt_int</th>\n",
       "      <th>pt_interchanges</th>\n",
       "      <th>dur_driving</th>\n",
       "      <th>cost_transit</th>\n",
       "      <th>cost_driving_fuel</th>\n",
       "      <th>cost_driving_ccharge</th>\n",
       "      <th>driving_traffic_percent</th>\n",
       "    </tr>\n",
       "  </thead>\n",
       "  <tbody>\n",
       "    <tr>\n",
       "      <th>0</th>\n",
       "      <td>2</td>\n",
       "      <td>0</td>\n",
       "      <td>0</td>\n",
       "      <td>2</td>\n",
       "      <td>4</td>\n",
       "      <td>3</td>\n",
       "      <td>1</td>\n",
       "      <td>1</td>\n",
       "      <td>1.0</td>\n",
       "      <td>1</td>\n",
       "      <td>...</td>\n",
       "      <td>0.203056</td>\n",
       "      <td>0.0</td>\n",
       "      <td>0.210278</td>\n",
       "      <td>0.0</td>\n",
       "      <td>0</td>\n",
       "      <td>0.236667</td>\n",
       "      <td>1.5</td>\n",
       "      <td>0.79</td>\n",
       "      <td>0.0</td>\n",
       "      <td>0.203052</td>\n",
       "    </tr>\n",
       "    <tr>\n",
       "      <th>1</th>\n",
       "      <td>4</td>\n",
       "      <td>0</td>\n",
       "      <td>1</td>\n",
       "      <td>2</td>\n",
       "      <td>4</td>\n",
       "      <td>3</td>\n",
       "      <td>1</td>\n",
       "      <td>4</td>\n",
       "      <td>1.0</td>\n",
       "      <td>1</td>\n",
       "      <td>...</td>\n",
       "      <td>0.203056</td>\n",
       "      <td>0.0</td>\n",
       "      <td>0.189444</td>\n",
       "      <td>0.0</td>\n",
       "      <td>0</td>\n",
       "      <td>0.229167</td>\n",
       "      <td>1.5</td>\n",
       "      <td>0.78</td>\n",
       "      <td>0.0</td>\n",
       "      <td>0.130909</td>\n",
       "    </tr>\n",
       "    <tr>\n",
       "      <th>2</th>\n",
       "      <td>7</td>\n",
       "      <td>0</td>\n",
       "      <td>2</td>\n",
       "      <td>1</td>\n",
       "      <td>4</td>\n",
       "      <td>3</td>\n",
       "      <td>1</td>\n",
       "      <td>3</td>\n",
       "      <td>0.0</td>\n",
       "      <td>1</td>\n",
       "      <td>...</td>\n",
       "      <td>0.109444</td>\n",
       "      <td>0.0</td>\n",
       "      <td>0.055556</td>\n",
       "      <td>0.0</td>\n",
       "      <td>0</td>\n",
       "      <td>0.059444</td>\n",
       "      <td>0.0</td>\n",
       "      <td>0.15</td>\n",
       "      <td>0.0</td>\n",
       "      <td>0.112150</td>\n",
       "    </tr>\n",
       "    <tr>\n",
       "      <th>3</th>\n",
       "      <td>73</td>\n",
       "      <td>14</td>\n",
       "      <td>0</td>\n",
       "      <td>2</td>\n",
       "      <td>4</td>\n",
       "      <td>3</td>\n",
       "      <td>1</td>\n",
       "      <td>5</td>\n",
       "      <td>0.0</td>\n",
       "      <td>1</td>\n",
       "      <td>...</td>\n",
       "      <td>0.077778</td>\n",
       "      <td>0.0</td>\n",
       "      <td>0.036389</td>\n",
       "      <td>0.0</td>\n",
       "      <td>0</td>\n",
       "      <td>0.061389</td>\n",
       "      <td>0.0</td>\n",
       "      <td>0.16</td>\n",
       "      <td>0.0</td>\n",
       "      <td>0.221719</td>\n",
       "    </tr>\n",
       "    <tr>\n",
       "      <th>4</th>\n",
       "      <td>76</td>\n",
       "      <td>15</td>\n",
       "      <td>0</td>\n",
       "      <td>0</td>\n",
       "      <td>1</td>\n",
       "      <td>3</td>\n",
       "      <td>6</td>\n",
       "      <td>1</td>\n",
       "      <td>1.0</td>\n",
       "      <td>1</td>\n",
       "      <td>...</td>\n",
       "      <td>0.188611</td>\n",
       "      <td>0.0</td>\n",
       "      <td>0.074722</td>\n",
       "      <td>0.0</td>\n",
       "      <td>0</td>\n",
       "      <td>0.142778</td>\n",
       "      <td>1.5</td>\n",
       "      <td>0.33</td>\n",
       "      <td>0.0</td>\n",
       "      <td>0.342412</td>\n",
       "    </tr>\n",
       "    <tr>\n",
       "      <th>...</th>\n",
       "      <td>...</td>\n",
       "      <td>...</td>\n",
       "      <td>...</td>\n",
       "      <td>...</td>\n",
       "      <td>...</td>\n",
       "      <td>...</td>\n",
       "      <td>...</td>\n",
       "      <td>...</td>\n",
       "      <td>...</td>\n",
       "      <td>...</td>\n",
       "      <td>...</td>\n",
       "      <td>...</td>\n",
       "      <td>...</td>\n",
       "      <td>...</td>\n",
       "      <td>...</td>\n",
       "      <td>...</td>\n",
       "      <td>...</td>\n",
       "      <td>...</td>\n",
       "      <td>...</td>\n",
       "      <td>...</td>\n",
       "      <td>...</td>\n",
       "    </tr>\n",
       "    <tr>\n",
       "      <th>4995</th>\n",
       "      <td>81023</td>\n",
       "      <td>17599</td>\n",
       "      <td>0</td>\n",
       "      <td>1</td>\n",
       "      <td>3</td>\n",
       "      <td>5</td>\n",
       "      <td>6</td>\n",
       "      <td>1</td>\n",
       "      <td>1.0</td>\n",
       "      <td>3</td>\n",
       "      <td>...</td>\n",
       "      <td>0.147222</td>\n",
       "      <td>0.0</td>\n",
       "      <td>0.496111</td>\n",
       "      <td>0.0</td>\n",
       "      <td>0</td>\n",
       "      <td>0.351111</td>\n",
       "      <td>1.5</td>\n",
       "      <td>1.27</td>\n",
       "      <td>0.0</td>\n",
       "      <td>0.139241</td>\n",
       "    </tr>\n",
       "    <tr>\n",
       "      <th>4996</th>\n",
       "      <td>81029</td>\n",
       "      <td>17600</td>\n",
       "      <td>1</td>\n",
       "      <td>4</td>\n",
       "      <td>1</td>\n",
       "      <td>3</td>\n",
       "      <td>6</td>\n",
       "      <td>1</td>\n",
       "      <td>1.0</td>\n",
       "      <td>3</td>\n",
       "      <td>...</td>\n",
       "      <td>0.100000</td>\n",
       "      <td>0.0</td>\n",
       "      <td>0.025833</td>\n",
       "      <td>0.0</td>\n",
       "      <td>0</td>\n",
       "      <td>0.171389</td>\n",
       "      <td>1.5</td>\n",
       "      <td>0.39</td>\n",
       "      <td>0.0</td>\n",
       "      <td>0.207455</td>\n",
       "    </tr>\n",
       "    <tr>\n",
       "      <th>4997</th>\n",
       "      <td>81050</td>\n",
       "      <td>17605</td>\n",
       "      <td>1</td>\n",
       "      <td>0</td>\n",
       "      <td>4</td>\n",
       "      <td>1</td>\n",
       "      <td>1</td>\n",
       "      <td>5</td>\n",
       "      <td>0.0</td>\n",
       "      <td>3</td>\n",
       "      <td>...</td>\n",
       "      <td>0.133056</td>\n",
       "      <td>0.1</td>\n",
       "      <td>0.000000</td>\n",
       "      <td>0.0</td>\n",
       "      <td>0</td>\n",
       "      <td>0.265556</td>\n",
       "      <td>0.0</td>\n",
       "      <td>0.60</td>\n",
       "      <td>0.0</td>\n",
       "      <td>0.259414</td>\n",
       "    </tr>\n",
       "    <tr>\n",
       "      <th>4998</th>\n",
       "      <td>81074</td>\n",
       "      <td>17610</td>\n",
       "      <td>1</td>\n",
       "      <td>1</td>\n",
       "      <td>4</td>\n",
       "      <td>3</td>\n",
       "      <td>2</td>\n",
       "      <td>1</td>\n",
       "      <td>1.0</td>\n",
       "      <td>3</td>\n",
       "      <td>...</td>\n",
       "      <td>0.205833</td>\n",
       "      <td>0.0</td>\n",
       "      <td>0.391667</td>\n",
       "      <td>0.0</td>\n",
       "      <td>0</td>\n",
       "      <td>0.281667</td>\n",
       "      <td>1.5</td>\n",
       "      <td>0.86</td>\n",
       "      <td>0.0</td>\n",
       "      <td>0.368836</td>\n",
       "    </tr>\n",
       "    <tr>\n",
       "      <th>4999</th>\n",
       "      <td>81076</td>\n",
       "      <td>17611</td>\n",
       "      <td>1</td>\n",
       "      <td>1</td>\n",
       "      <td>3</td>\n",
       "      <td>4</td>\n",
       "      <td>6</td>\n",
       "      <td>1</td>\n",
       "      <td>1.0</td>\n",
       "      <td>3</td>\n",
       "      <td>...</td>\n",
       "      <td>0.261667</td>\n",
       "      <td>0.0</td>\n",
       "      <td>0.062500</td>\n",
       "      <td>0.0</td>\n",
       "      <td>0</td>\n",
       "      <td>0.106111</td>\n",
       "      <td>1.5</td>\n",
       "      <td>0.32</td>\n",
       "      <td>0.0</td>\n",
       "      <td>0.143979</td>\n",
       "    </tr>\n",
       "  </tbody>\n",
       "</table>\n",
       "<p>5000 rows × 32 columns</p>\n",
       "</div>"
      ],
      "text/plain": [
       "      trip_id  household_id  person_n  trip_n  travel_mode  purpose  fueltype  \\\n",
       "0           2             0         0       2            4        3         1   \n",
       "1           4             0         1       2            4        3         1   \n",
       "2           7             0         2       1            4        3         1   \n",
       "3          73            14         0       2            4        3         1   \n",
       "4          76            15         0       0            1        3         6   \n",
       "...       ...           ...       ...     ...          ...      ...       ...   \n",
       "4995    81023         17599         0       1            3        5         6   \n",
       "4996    81029         17600         1       4            1        3         6   \n",
       "4997    81050         17605         1       0            4        1         1   \n",
       "4998    81074         17610         1       1            4        3         2   \n",
       "4999    81076         17611         1       1            3        4         6   \n",
       "\n",
       "      faretype  bus_scale  survey_year  ...  dur_pt_access  dur_pt_rail  \\\n",
       "0            1        1.0            1  ...       0.203056          0.0   \n",
       "1            4        1.0            1  ...       0.203056          0.0   \n",
       "2            3        0.0            1  ...       0.109444          0.0   \n",
       "3            5        0.0            1  ...       0.077778          0.0   \n",
       "4            1        1.0            1  ...       0.188611          0.0   \n",
       "...        ...        ...          ...  ...            ...          ...   \n",
       "4995         1        1.0            3  ...       0.147222          0.0   \n",
       "4996         1        1.0            3  ...       0.100000          0.0   \n",
       "4997         5        0.0            3  ...       0.133056          0.1   \n",
       "4998         1        1.0            3  ...       0.205833          0.0   \n",
       "4999         1        1.0            3  ...       0.261667          0.0   \n",
       "\n",
       "      dur_pt_bus  dur_pt_int  pt_interchanges  dur_driving  cost_transit  \\\n",
       "0       0.210278         0.0                0     0.236667           1.5   \n",
       "1       0.189444         0.0                0     0.229167           1.5   \n",
       "2       0.055556         0.0                0     0.059444           0.0   \n",
       "3       0.036389         0.0                0     0.061389           0.0   \n",
       "4       0.074722         0.0                0     0.142778           1.5   \n",
       "...          ...         ...              ...          ...           ...   \n",
       "4995    0.496111         0.0                0     0.351111           1.5   \n",
       "4996    0.025833         0.0                0     0.171389           1.5   \n",
       "4997    0.000000         0.0                0     0.265556           0.0   \n",
       "4998    0.391667         0.0                0     0.281667           1.5   \n",
       "4999    0.062500         0.0                0     0.106111           1.5   \n",
       "\n",
       "      cost_driving_fuel  cost_driving_ccharge  driving_traffic_percent  \n",
       "0                  0.79                   0.0                 0.203052  \n",
       "1                  0.78                   0.0                 0.130909  \n",
       "2                  0.15                   0.0                 0.112150  \n",
       "3                  0.16                   0.0                 0.221719  \n",
       "4                  0.33                   0.0                 0.342412  \n",
       "...                 ...                   ...                      ...  \n",
       "4995               1.27                   0.0                 0.139241  \n",
       "4996               0.39                   0.0                 0.207455  \n",
       "4997               0.60                   0.0                 0.259414  \n",
       "4998               0.86                   0.0                 0.368836  \n",
       "4999               0.32                   0.0                 0.143979  \n",
       "\n",
       "[5000 rows x 32 columns]"
      ]
     },
     "execution_count": 2,
     "metadata": {},
     "output_type": "execute_result"
    }
   ],
   "source": [
    "data_file = './lpmc05.dat'\n",
    "df = pd.read_csv(data_file, sep='\\t')\n",
    "df"
   ]
  },
  {
   "cell_type": "markdown",
   "id": "be461782",
   "metadata": {},
   "source": [
    "- The database contains 5000 rows of data, corresponding to each\n",
    "observation in the sample.\n",
    "- It contains 32 columns, corresponding to\n",
    "the available variables."
   ]
  },
  {
   "cell_type": "markdown",
   "id": "565c959c",
   "metadata": {},
   "source": [
    "If we look at the column `purpose`, corresponding to the trip\n",
    "purpose, it contains a total of 5 unique values, numbered from 1 to\n",
    "5. \n"
   ]
  },
  {
   "cell_type": "code",
   "execution_count": 3,
   "id": "4af9b9f8",
   "metadata": {},
   "outputs": [
    {
     "data": {
      "text/plain": [
       "(array([3, 5, 2, 4, 1]),)"
      ]
     },
     "execution_count": 3,
     "metadata": {},
     "output_type": "execute_result"
    }
   ],
   "source": [
    "df['purpose'].unique(),"
   ]
  },
  {
   "cell_type": "markdown",
   "id": "9ffa56a2",
   "metadata": {},
   "source": [
    "In order to understand better the distribution of these values, we\n",
    "can calculate the frequency of each value, here sorted by decreasing\n",
    "order of frequency."
   ]
  },
  {
   "cell_type": "code",
   "execution_count": 4,
   "id": "898b442c",
   "metadata": {},
   "outputs": [
    {
     "data": {
      "text/plain": [
       "3    2621\n",
       "1     807\n",
       "5     675\n",
       "2     550\n",
       "4     347\n",
       "Name: purpose, dtype: int64"
      ]
     },
     "execution_count": 4,
     "metadata": {},
     "output_type": "execute_result"
    }
   ],
   "source": [
    "df['purpose'].value_counts()"
   ]
  },
  {
   "cell_type": "markdown",
   "id": "bb6fb900",
   "metadata": {},
   "source": [
    "The histogram of this distribution is also useful."
   ]
  },
  {
   "cell_type": "code",
   "execution_count": 5,
   "id": "a80cfc3d",
   "metadata": {},
   "outputs": [
    {
     "data": {
      "image/png": "[encoded data removed]",
      "text/plain": [
       "<Figure size 640x480 with 1 Axes>"
      ]
     },
     "metadata": {},
     "output_type": "display_data"
    }
   ],
   "source": [
    "#ax = df['purpose'].value_counts().plot(title='purpose', kind='bar')\n",
    "_ = df.groupby(['purpose']).count()['trip_id'].plot.bar(stacked=True)"
   ]
  },
  {
   "cell_type": "markdown",
   "id": "a89c261e",
   "metadata": {},
   "source": [
    "We do the same for the `travel_mode` variable."
   ]
  },
  {
   "cell_type": "code",
   "execution_count": 6,
   "id": "b5aa9c6c",
   "metadata": {},
   "outputs": [
    {
     "data": {
      "text/plain": [
       "4    2241\n",
       "3    1723\n",
       "1     852\n",
       "2     184\n",
       "Name: travel_mode, dtype: int64"
      ]
     },
     "execution_count": 6,
     "metadata": {},
     "output_type": "execute_result"
    }
   ],
   "source": [
    "df['travel_mode'].value_counts()"
   ]
  },
  {
   "cell_type": "code",
   "execution_count": 7,
   "id": "ef9c5f01",
   "metadata": {},
   "outputs": [
    {
     "data": {
      "image/png": "[encoded data removed]",
      "text/plain": [
       "<Figure size 640x480 with 1 Axes>"
      ]
     },
     "metadata": {},
     "output_type": "display_data"
    }
   ],
   "source": [
    "_ = df.groupby(['travel_mode']).count()['trip_id'].plot.bar(stacked=True)"
   ]
  },
  {
   "cell_type": "code",
   "execution_count": 8,
   "id": "07b5e052",
   "metadata": {},
   "outputs": [
    {
     "data": {
      "image/png": "[encoded data removed]",
      "text/plain": [
       "<Figure size 640x480 with 1 Axes>"
      ]
     },
     "metadata": {},
     "output_type": "display_data"
    }
   ],
   "source": [
    "ax = df.groupby(['travel_mode', 'fueltype'\n",
    "                 ]).count()['trip_id'].unstack().plot.bar(stacked=True)\n",
    "_ = ax.legend([\n",
    "    '1: petrol car',\n",
    "    '2: diesel car',\n",
    "    '3: hybrid car',\n",
    "    '4: petrol LGV',\n",
    "    '5: diesel LGV',\n",
    "    '6:average car',\n",
    "])"
   ]
  },
  {
   "cell_type": "code",
   "execution_count": 9,
   "id": "6ef9f761",
   "metadata": {
    "scrolled": false
   },
   "outputs": [
    {
     "data": {
      "image/png": "[encoded data removed]",
      "text/plain": [
       "<Figure size 640x480 with 1 Axes>"
      ]
     },
     "metadata": {},
     "output_type": "display_data"
    }
   ],
   "source": [
    "ax = df.groupby(['travel_mode','purpose']).count()['trip_id'].unstack().plot.bar(stacked=True)\n",
    "_ = ax.legend([\n",
    "    '1: home-based work',\n",
    "    '2: home-based education',\n",
    "    '3: home-based other',\n",
    "    '4: employers’ business',\n",
    "    '5: non-home- based other',\n",
    "])"
   ]
  },
  {
   "cell_type": "markdown",
   "id": "7e19dbf9",
   "metadata": {},
   "source": [
    "If we look at a continuous variable, such as `dur_walking`,\n",
    "representing the predicted duration of walking route in hours, we are interested in statistics\n",
    "such as the mean, the standard deviation, the minimum and maximum\n",
    "values, as well as some quantiles."
   ]
  },
  {
   "cell_type": "code",
   "execution_count": 10,
   "id": "c8665474",
   "metadata": {},
   "outputs": [
    {
     "data": {
      "text/plain": [
       "count    5000.000000\n",
       "mean        1.097102\n",
       "std         1.066575\n",
       "min         0.043611\n",
       "25%         0.354444\n",
       "50%         0.723194\n",
       "75%         1.480278\n",
       "max         8.707500\n",
       "Name: dur_walking, dtype: float64"
      ]
     },
     "execution_count": 10,
     "metadata": {},
     "output_type": "execute_result"
    }
   ],
   "source": [
    "df['dur_walking'].describe()"
   ]
  },
  {
   "cell_type": "markdown",
   "id": "71a61006",
   "metadata": {},
   "source": [
    "It is interesting to note that 75\\% of the values are lesser or equal\n",
    "to 1.48, while the maximum is 8.7. "
   ]
  },
  {
   "cell_type": "markdown",
   "id": "54412c01",
   "metadata": {},
   "source": [
    "An histogram can also be plotted."
   ]
  },
  {
   "cell_type": "code",
   "execution_count": 11,
   "id": "fe29feeb",
   "metadata": {},
   "outputs": [
    {
     "data": {
      "image/png": "[encoded data removed]",
      "text/plain": [
       "<Figure size 640x480 with 1 Axes>"
      ]
     },
     "metadata": {},
     "output_type": "display_data"
    }
   ],
   "source": [
    "_ = df['dur_walking'].hist()"
   ]
  },
  {
   "cell_type": "markdown",
   "id": "dba105dc",
   "metadata": {},
   "source": [
    "It may be\n",
    "made more readable by using a log scale."
   ]
  },
  {
   "cell_type": "code",
   "execution_count": 12,
   "id": "b7748274",
   "metadata": {},
   "outputs": [
    {
     "data": {
      "image/png": "[encoded data removed]",
      "text/plain": [
       "<Figure size 640x480 with 1 Axes>"
      ]
     },
     "metadata": {},
     "output_type": "display_data"
    }
   ],
   "source": [
    "_ = df['dur_walking'].hist(log=True)"
   ]
  },
  {
   "cell_type": "markdown",
   "id": "734d5c69",
   "metadata": {},
   "source": [
    "It is also interesting to investigate the correlation between\n",
    "two variables."
   ]
  },
  {
   "cell_type": "code",
   "execution_count": 13,
   "id": "587e9cae",
   "metadata": {},
   "outputs": [
    {
     "data": {
      "text/plain": [
       "0.9964159061632911"
      ]
     },
     "execution_count": 13,
     "metadata": {},
     "output_type": "execute_result"
    }
   ],
   "source": [
    "df['dur_walking'].corr(df['distance'])"
   ]
  },
  {
   "cell_type": "markdown",
   "id": "50223c16",
   "metadata": {},
   "source": [
    "The correlation can also be illustrated using a scatter plot."
   ]
  },
  {
   "cell_type": "code",
   "execution_count": 14,
   "id": "e8e09d08",
   "metadata": {},
   "outputs": [
    {
     "name": "stderr",
     "output_type": "stream",
     "text": [
      "/Users/georg/opt/anaconda3/envs/biogeme/lib/python3.10/site-packages/pandas/plotting/_matplotlib/core.py:1114: UserWarning: No data for colormapping provided via 'c'. Parameters 'cmap' will be ignored\n",
      "  scatter = ax.scatter(\n"
     ]
    },
    {
     "data": {
      "image/png": "[encoded data removed]",
      "text/plain": [
       "<Figure size 640x480 with 1 Axes>"
      ]
     },
     "metadata": {},
     "output_type": "display_data"
    }
   ],
   "source": [
    "_ = df.plot(kind='scatter', x='dur_walking', y='distance')"
   ]
  },
  {
   "cell_type": "code",
   "execution_count": 15,
   "id": "49cec830",
   "metadata": {},
   "outputs": [
    {
     "data": {
      "image/png": "[encoded data removed]",
      "text/plain": [
       "<Figure size 640x480 with 1 Axes>"
      ]
     },
     "metadata": {},
     "output_type": "display_data"
    }
   ],
   "source": [
    "_ = plt.scatter(\n",
    "    df.cost_driving_fuel, df.cost_transit, label='fuel')\n",
    "_ = plt.scatter(\n",
    "    df.cost_driving_fuel +\n",
    "    df.cost_driving_ccharge * df.driving_traffic_percent,\n",
    "    df.cost_transit, label='fuel + congestion')\n",
    "plt.ylabel('transit cost [GBP]' )\n",
    "plt.xlabel('driving cost [GBP]' )\n",
    "_ = plt.legend()"
   ]
  },
  {
   "cell_type": "code",
   "execution_count": 16,
   "id": "b8566936",
   "metadata": {},
   "outputs": [
    {
     "data": {
      "image/png": "[encoded data removed]",
      "text/plain": [
       "<Figure size 640x480 with 1 Axes>"
      ]
     },
     "metadata": {},
     "output_type": "display_data"
    }
   ],
   "source": [
    "_ = plt.scatter(\n",
    "    df.cost_driving_fuel +\n",
    "    df.cost_driving_ccharge * df.driving_traffic_percent,\n",
    "    df.cost_transit, label='unscaled')\n",
    "_ = plt.scatter(\n",
    "    df.cost_driving_fuel +\n",
    "    df.cost_driving_ccharge * df.driving_traffic_percent,\n",
    "    df.cost_transit*df.bus_scale, label='scaled')\n",
    "plt.ylabel('transit cost [GBP]' )\n",
    "plt.xlabel('driving cost [GBP]' )\n",
    "_ = plt.legend()"
   ]
  },
  {
   "cell_type": "code",
   "execution_count": 17,
   "id": "050d5860",
   "metadata": {},
   "outputs": [
    {
     "data": {
      "image/png": "[encoded data removed]",
      "text/plain": [
       "<Figure size 640x480 with 1 Axes>"
      ]
     },
     "metadata": {},
     "output_type": "display_data"
    }
   ],
   "source": [
    "_ = plt.scatter(\n",
    "    df.cost_driving_fuel +\n",
    "    df.cost_driving_ccharge * df.driving_traffic_percent, df.cost_transit)\n",
    "_ = plt.scatter(\n",
    "    df[df.faretype == 1].cost_driving_fuel +\n",
    "    df[df.faretype == 1].cost_driving_ccharge *\n",
    "    df[df.faretype == 1].driving_traffic_percent,\n",
    "    df[df.faretype == 1].cost_transit,label='full-fare')\n",
    "_ = plt.scatter(df[df.faretype == 2].cost_driving_fuel +\n",
    "                df[df.faretype == 2].cost_driving_ccharge *\n",
    "                df[df.faretype == 2].driving_traffic_percent,\n",
    "                df[df.faretype == 2].cost_transit,\n",
    "                label='16+')\n",
    "_ = plt.scatter(df[df.faretype == 3].cost_driving_fuel +\n",
    "                df[df.faretype == 3].cost_driving_ccharge *\n",
    "                df[df.faretype == 3].driving_traffic_percent,\n",
    "                df[df.faretype == 3].cost_transit,\n",
    "                label='child')\n",
    "_ = plt.scatter(df[df.faretype == 4].cost_driving_fuel +\n",
    "                df[df.faretype == 4].cost_driving_ccharge *\n",
    "                df[df.faretype == 4].driving_traffic_percent,\n",
    "                df[df.faretype == 4].cost_transit,\n",
    "                label='disabled')\n",
    "_ = plt.scatter(df[df.faretype == 5].cost_driving_fuel +\n",
    "                df[df.faretype == 5].cost_driving_ccharge *\n",
    "                df[df.faretype == 5].driving_traffic_percent,\n",
    "                df[df.faretype == 5].cost_transit,\n",
    "                label='free')\n",
    "plt.ylabel('rail cost [GBP]' )\n",
    "plt.xlabel('driving cost [GBP]' )\n",
    "_ = plt.legend()"
   ]
  },
  {
   "cell_type": "code",
   "execution_count": 18,
   "id": "aa4ffffe",
   "metadata": {},
   "outputs": [
    {
     "data": {
      "image/png": "[encoded data removed]",
      "text/plain": [
       "<Figure size 640x480 with 1 Axes>"
      ]
     },
     "metadata": {},
     "output_type": "display_data"
    }
   ],
   "source": [
    "_ = plt.scatter(df.dur_walking,\n",
    "                df.dur_pt_rail + df.dur_pt_bus + df.dur_pt_access +\n",
    "                df.dur_pt_int * df.pt_interchanges,\n",
    "                label='public transport')\n",
    "_ = plt.scatter(df.dur_walking, df.dur_driving, label='driving')\n",
    "_ = plt.scatter(df.dur_walking, df.dur_cycling, label='cycling')\n",
    "plt.ylabel('travel duration [hours]')\n",
    "plt.xlabel('walking duration [hours]')\n",
    "_ = plt.legend()"
   ]
  },
  {
   "cell_type": "markdown",
   "id": "9b106443",
   "metadata": {},
   "source": [
    "# Model specification"
   ]
  },
  {
   "cell_type": "markdown",
   "id": "b9941b3c",
   "metadata": {},
   "source": [
    "We import the necessary packages and functions."
   ]
  },
  {
   "cell_type": "markdown",
   "id": "cb82c5fa",
   "metadata": {},
   "source": [
    "First, the interface between Biogeme and Pandas."
   ]
  },
  {
   "cell_type": "code",
   "execution_count": 19,
   "id": "640c1def",
   "metadata": {},
   "outputs": [],
   "source": [
    "import biogeme.database as db"
   ]
  },
  {
   "cell_type": "markdown",
   "id": "87c40760",
   "metadata": {},
   "source": [
    "Then, the core of Biogeme itself."
   ]
  },
  {
   "cell_type": "code",
   "execution_count": 20,
   "id": "18258fbb",
   "metadata": {},
   "outputs": [],
   "source": [
    "import biogeme.biogeme as bio"
   ]
  },
  {
   "cell_type": "markdown",
   "id": "37fad70a",
   "metadata": {},
   "source": [
    "Finally, we import some expressions that will be used to build the choice model."
   ]
  },
  {
   "cell_type": "code",
   "execution_count": 21,
   "id": "3a2ea392",
   "metadata": {},
   "outputs": [],
   "source": [
    "from biogeme.expressions import Beta, Variable, log, exp, Elem, Derive"
   ]
  },
  {
   "cell_type": "markdown",
   "id": "fc056f3a",
   "metadata": {},
   "source": [
    "We then import the database into Biogeme."
   ]
  },
  {
   "cell_type": "code",
   "execution_count": 22,
   "id": "fc1b1b5f",
   "metadata": {},
   "outputs": [],
   "source": [
    "database = db.Database('lpmc', df)"
   ]
  },
  {
   "cell_type": "markdown",
   "id": "0bc62f23",
   "metadata": {},
   "source": [
    "We identify the columns that will be used as variable in our model. "
   ]
  },
  {
   "cell_type": "code",
   "execution_count": 23,
   "id": "69be7ee2",
   "metadata": {},
   "outputs": [],
   "source": [
    "travel_mode = Variable('travel_mode')\n",
    "driving_license = Variable('driving_license')\n",
    "fueltype = Variable('fueltype')\n",
    "age = Variable('age')\n",
    "dur_walking = Variable('dur_walking')\n",
    "dur_cycling = Variable('dur_cycling')\n",
    "dur_pt_rail = Variable('dur_pt_rail')\n",
    "dur_pt_bus = Variable('dur_pt_bus')\n",
    "dur_pt_access = Variable('dur_pt_access')\n",
    "dur_pt_int = Variable('dur_pt_int')\n",
    "pt_interchanges = Variable('pt_interchanges')\n",
    "dur_driving = Variable('dur_driving')\n",
    "bus_scale = Variable('bus_scale')\n",
    "cost_transit = Variable('cost_transit')\n",
    "cost_driving_fuel = Variable('cost_driving_fuel')\n",
    "cost_driving_ccharge = Variable('cost_driving_ccharge')\n",
    "driving_traffic_percent = Variable('driving_traffic_percent')\n",
    "age = Variable('age')"
   ]
  },
  {
   "cell_type": "markdown",
   "id": "94296d72",
   "metadata": {},
   "source": [
    "We can aso define new variables from existing one."
   ]
  },
  {
   "cell_type": "code",
   "execution_count": 24,
   "id": "5eea8fbf",
   "metadata": {},
   "outputs": [],
   "source": [
    "dur_pt = database.DefineVariable(\n",
    "    'dur_pt',\n",
    "    dur_pt_rail + dur_pt_bus + dur_pt_access + dur_pt_int * pt_interchanges,\n",
    ")"
   ]
  },
  {
   "cell_type": "code",
   "execution_count": 25,
   "id": "f33f49ae",
   "metadata": {},
   "outputs": [],
   "source": [
    "cost_pt = database.DefineVariable(\n",
    "    'cost_pt',\n",
    "    cost_transit * bus_scale,\n",
    ")"
   ]
  },
  {
   "cell_type": "code",
   "execution_count": 26,
   "id": "5819f470",
   "metadata": {},
   "outputs": [],
   "source": [
    "cost_driving = database.DefineVariable(\n",
    "    'cost_driving',\n",
    "    cost_driving_fuel + cost_driving_ccharge * driving_traffic_percent,\n",
    ")"
   ]
  },
  {
   "cell_type": "markdown",
   "id": "4af28547",
   "metadata": {},
   "source": [
    "Start with a model specification that includes alternative specific constants, and cost and travel time of the different alternatives associated with generic parameters. Report both the specification (i.e., the utility functions) and the estimation results (parameter values, t-tests or p-values, null and final log likelihoods)."
   ]
  },
  {
   "cell_type": "markdown",
   "id": "2ea7c99f",
   "metadata": {},
   "source": [
    "We are now ready to specify the choice model. We start with a simple model, that contains only generic attributes:\n",
    "\\begin{align*}\n",
    "V_1 &= \\beta_\\text{time} \\text{time}_1 \\\\\n",
    "V_2 &= \\text{cte}_2 + \\beta_\\text{time} \\text{time}_2 \\\\\n",
    "V_3 &= \\text{cte}_3 + \\beta_\\text{cost}  \\text{cost}_3 + \\beta_\\text{time} \\text{time}_3 \\\\\n",
    "V_4 &= \\text{cte}_4 + \\beta_\\text{cost}  \\text{cost}_4 + \\beta_\\text{time} \\text{time}_4 \\\\\n",
    "\\end{align*}"
   ]
  },
  {
   "cell_type": "markdown",
   "id": "c6bee841",
   "metadata": {},
   "source": [
    "We define the unknown parameter using the Biogeme expression `Beta`, that takes 5 parameters:\n",
    "- the name of the parameter (it is advised to use the exact same name for the corresponding Python variable),\n",
    "- the starting value for the estimation (usually, 0),\n",
    "- a lower bound on the value of the coefficient, or `None` for no bound,\n",
    "- an upper bound, or `None`for no bound,\n",
    "- a parameter that is 1 if the value of the parameter must be fixed to its starting value, and 0 if it has to be estimated."
   ]
  },
  {
   "cell_type": "markdown",
   "id": "1a1d8dd1",
   "metadata": {},
   "source": [
    "# Model 0, generic coefficients"
   ]
  },
  {
   "cell_type": "code",
   "execution_count": 27,
   "id": "ec448f6c",
   "metadata": {},
   "outputs": [],
   "source": [
    "constant_2 = Beta('constant_2', 0, None, None, 0)\n",
    "constant_3 = Beta('constant_3', 0, None, None, 0)\n",
    "constant_4 = Beta('constant_4', 0, None, None, 0)\n",
    "beta_cost = Beta('beta_cost', 0, None, None, 0)\n",
    "beta_time = Beta('beta_time', 0, None, None, 0)"
   ]
  },
  {
   "cell_type": "markdown",
   "id": "c78032f1",
   "metadata": {},
   "source": [
    "We now write the utility functions:"
   ]
  },
  {
   "cell_type": "code",
   "execution_count": 28,
   "id": "bc39f1e8",
   "metadata": {},
   "outputs": [],
   "source": [
    "Opt1 = (beta_time * dur_walking)\n",
    "Opt2 = (constant_2 + beta_time * dur_cycling)\n",
    "Opt3 = (constant_3 + beta_cost * cost_pt + beta_time * dur_pt)\n",
    "Opt4 = (constant_4 + beta_cost * cost_driving + beta_time * dur_driving)"
   ]
  },
  {
   "cell_type": "markdown",
   "id": "aff220f4",
   "metadata": {},
   "source": [
    "We associate each utility function with the id of the corresponding alternative. It must be consistent with the definition of the chosen alternative."
   ]
  },
  {
   "cell_type": "code",
   "execution_count": 29,
   "id": "2cfb54e1",
   "metadata": {},
   "outputs": [],
   "source": [
    "V = {1: Opt1, 2: Opt2, 3: Opt3, 4: Opt4}"
   ]
  },
  {
   "cell_type": "markdown",
   "id": "13152054",
   "metadata": {},
   "source": [
    "We obtain the choice model, that is a logit model. As Biogeme requests the contribution of each observation to the log likelihood function, we calculate the log of the logit model. $$\\frac{a_i e^{V_i}}{\\sum_{i=1}^J a_j e^{V_j}}$$"
   ]
  },
  {
   "cell_type": "markdown",
   "id": "6cc0a161",
   "metadata": {},
   "source": [
    "We import a catalog of models, including the logit model."
   ]
  },
  {
   "cell_type": "code",
   "execution_count": 30,
   "id": "8ada76d9",
   "metadata": {},
   "outputs": [],
   "source": [
    "from biogeme import models\n",
    "from biogeme import results as res"
   ]
  },
  {
   "cell_type": "code",
   "execution_count": 31,
   "id": "6e1b5c95",
   "metadata": {},
   "outputs": [],
   "source": [
    "logprob = models.loglogit(V, None, travel_mode)"
   ]
  },
  {
   "cell_type": "markdown",
   "id": "2e2c08ee",
   "metadata": {},
   "source": [
    "We initialize Biogeme with this expression, and the database."
   ]
  },
  {
   "cell_type": "code",
   "execution_count": 32,
   "id": "6db4e8ae",
   "metadata": {},
   "outputs": [],
   "source": [
    "biogeme = bio.BIOGEME(database, logprob)\n",
    "biogeme.modelName = 'logit_lpmc_base'"
   ]
  },
  {
   "cell_type": "markdown",
   "id": "8b020115",
   "metadata": {},
   "source": [
    "The results will be stored in a dict."
   ]
  },
  {
   "cell_type": "code",
   "execution_count": 33,
   "id": "97549a25",
   "metadata": {},
   "outputs": [],
   "source": [
    "all_results = {}"
   ]
  },
  {
   "cell_type": "markdown",
   "id": "0a5aa929",
   "metadata": {},
   "source": [
    "We are now ready to estimate the parameter. Biogeme tries to read a file `__logit_lpmc_base.iter` containing intermediary results from a previous estimation run. If it does not find it, it triggers a warning that can be ignored."
   ]
  },
  {
   "cell_type": "code",
   "execution_count": 34,
   "id": "5db9939c",
   "metadata": {},
   "outputs": [],
   "source": [
    "all_results['Base'] =  biogeme.estimate()"
   ]
  },
  {
   "cell_type": "markdown",
   "id": "70d7e3f1",
   "metadata": {},
   "source": [
    "We first display some summary information:"
   ]
  },
  {
   "cell_type": "code",
   "execution_count": 35,
   "id": "6a61620d",
   "metadata": {},
   "outputs": [
    {
     "name": "stdout",
     "output_type": "stream",
     "text": [
      "Number of estimated parameters:\t5\n",
      "Sample size:\t5000\n",
      "Excluded observations:\t0\n",
      "Init log likelihood:\t-4837.64\n",
      "Final log likelihood:\t-4837.64\n",
      "Likelihood ratio test for the init. model:\t-0\n",
      "Rho-square for the init. model:\t0\n",
      "Rho-square-bar for the init. model:\t-0.00103\n",
      "Akaike Information Criterion:\t9685.281\n",
      "Bayesian Information Criterion:\t9717.867\n",
      "Final gradient norm:\t1.8157E-02\n",
      "Nbr of threads:\t8\n",
      "\n"
     ]
    }
   ],
   "source": [
    "print(all_results['Base'].printGeneralStatistics())"
   ]
  },
  {
   "cell_type": "markdown",
   "id": "c54bade3",
   "metadata": {},
   "source": [
    "Then we display the estimation results"
   ]
  },
  {
   "cell_type": "code",
   "execution_count": 36,
   "id": "e8dfdef0",
   "metadata": {},
   "outputs": [
    {
     "data": {
      "text/html": [
       "<div>\n",
       "<style scoped>\n",
       "    .dataframe tbody tr th:only-of-type {\n",
       "        vertical-align: middle;\n",
       "    }\n",
       "\n",
       "    .dataframe tbody tr th {\n",
       "        vertical-align: top;\n",
       "    }\n",
       "\n",
       "    .dataframe thead th {\n",
       "        text-align: right;\n",
       "    }\n",
       "</style>\n",
       "<table border=\"1\" class=\"dataframe\">\n",
       "  <thead>\n",
       "    <tr style=\"text-align: right;\">\n",
       "      <th></th>\n",
       "      <th>Value</th>\n",
       "      <th>Rob. Std err</th>\n",
       "      <th>Rob. t-test</th>\n",
       "      <th>Rob. p-value</th>\n",
       "    </tr>\n",
       "  </thead>\n",
       "  <tbody>\n",
       "    <tr>\n",
       "      <th>beta_cost</th>\n",
       "      <td>-0.217267</td>\n",
       "      <td>0.016727</td>\n",
       "      <td>-12.989313</td>\n",
       "      <td>0.000000e+00</td>\n",
       "    </tr>\n",
       "    <tr>\n",
       "      <th>beta_time</th>\n",
       "      <td>-4.583652</td>\n",
       "      <td>0.188989</td>\n",
       "      <td>-24.253600</td>\n",
       "      <td>0.000000e+00</td>\n",
       "    </tr>\n",
       "    <tr>\n",
       "      <th>constant_2</th>\n",
       "      <td>-3.407951</td>\n",
       "      <td>0.101156</td>\n",
       "      <td>-33.690105</td>\n",
       "      <td>0.000000e+00</td>\n",
       "    </tr>\n",
       "    <tr>\n",
       "      <th>constant_3</th>\n",
       "      <td>-0.306573</td>\n",
       "      <td>0.055020</td>\n",
       "      <td>-5.572056</td>\n",
       "      <td>2.517502e-08</td>\n",
       "    </tr>\n",
       "    <tr>\n",
       "      <th>constant_4</th>\n",
       "      <td>-0.956693</td>\n",
       "      <td>0.078542</td>\n",
       "      <td>-12.180602</td>\n",
       "      <td>0.000000e+00</td>\n",
       "    </tr>\n",
       "  </tbody>\n",
       "</table>\n",
       "</div>"
      ],
      "text/plain": [
       "               Value  Rob. Std err  Rob. t-test  Rob. p-value\n",
       "beta_cost  -0.217267      0.016727   -12.989313  0.000000e+00\n",
       "beta_time  -4.583652      0.188989   -24.253600  0.000000e+00\n",
       "constant_2 -3.407951      0.101156   -33.690105  0.000000e+00\n",
       "constant_3 -0.306573      0.055020    -5.572056  2.517502e-08\n",
       "constant_4 -0.956693      0.078542   -12.180602  0.000000e+00"
      ]
     },
     "execution_count": 36,
     "metadata": {},
     "output_type": "execute_result"
    }
   ],
   "source": [
    "all_results['Base'].getEstimatedParameters()"
   ]
  },
  {
   "cell_type": "markdown",
   "id": "f188fa6b",
   "metadata": {},
   "source": [
    "# Model 1, alternative specific time coefficient"
   ]
  },
  {
   "cell_type": "markdown",
   "id": "1dc28f76",
   "metadata": {},
   "source": [
    "Using Model 0 as the base model, include alternative- specific parameters for one of the attributes of Model 0. Report both the specification and the estimation results (as defined previously)."
   ]
  },
  {
   "cell_type": "markdown",
   "id": "c4bba834",
   "metadata": {},
   "source": [
    "\\begin{align*}\n",
    "V_1 &= \\beta_\\text{time,1} \\text{time}_1 \\\\\n",
    "V_2 &= \\text{cte}_2 + \\beta_\\text{time,2} \\text{time}_2 \\\\\n",
    "V_3 &= \\text{cte}_3 + \\beta_\\text{cost}  \\text{cost}_3 + \\beta_\\text{time,3} \\text{time}_3 \\\\\n",
    "V_4 &= \\text{cte}_4 + \\beta_\\text{cost}  \\text{cost}_4 + \\beta_\\text{time,4} \\text{time}_4 \\\\\n",
    "\\end{align*}"
   ]
  },
  {
   "cell_type": "code",
   "execution_count": 37,
   "id": "fa0802b9",
   "metadata": {},
   "outputs": [],
   "source": [
    "constant_2 = Beta('constant_2', 0, None, None, 0)\n",
    "constant_3 = Beta('constant_3', 0, None, None, 0)\n",
    "constant_4 = Beta('constant_4', 0, None, None, 0)\n",
    "beta_cost = Beta('beta_cost', 0, None, None, 0)\n",
    "beta_time_1 = Beta('beta_time_1', 0, None, None, 0)\n",
    "beta_time_2 = Beta('beta_time_2', 0, None, None, 0)\n",
    "beta_time_3 = Beta('beta_time_3', 0, None, None, 0)\n",
    "beta_time_4 = Beta('beta_time_4', 0, None, None, 0)\n",
    "Opt1_alt_spec = (beta_time_1 * dur_walking)\n",
    "Opt2_alt_spec = (constant_2 + beta_time_2 * dur_cycling)\n",
    "Opt3_alt_spec = (constant_3 + beta_cost * cost_pt + beta_time_3 * dur_pt)\n",
    "Opt4_alt_spec = (constant_4 + beta_cost * cost_driving +\n",
    "                 beta_time_4 * dur_driving)\n",
    "V_alt_spec = {\n",
    "    1: Opt1_alt_spec,\n",
    "    2: Opt2_alt_spec,\n",
    "    3: Opt3_alt_spec,\n",
    "    4: Opt4_alt_spec\n",
    "}\n",
    "logprob_alt_spec = models.loglogit(V_alt_spec, None, travel_mode)\n",
    "biogeme_alt_spec = bio.BIOGEME(database, logprob_alt_spec)\n",
    "biogeme_alt_spec.modelName = 'logit_lpmc_alt_spec'\n",
    "all_results['Alt. spec.'] = biogeme_alt_spec.estimate()"
   ]
  },
  {
   "cell_type": "code",
   "execution_count": 38,
   "id": "5af56d43",
   "metadata": {},
   "outputs": [
    {
     "name": "stdout",
     "output_type": "stream",
     "text": [
      "Number of estimated parameters:\t8\n",
      "Sample size:\t5000\n",
      "Excluded observations:\t0\n",
      "Init log likelihood:\t-4375.85\n",
      "Final log likelihood:\t-4375.85\n",
      "Likelihood ratio test for the init. model:\t6.63731e-08\n",
      "Rho-square for the init. model:\t7.58e-12\n",
      "Rho-square-bar for the init. model:\t-0.00183\n",
      "Akaike Information Criterion:\t8767.7\n",
      "Bayesian Information Criterion:\t8819.837\n",
      "Final gradient norm:\t9.1220E-03\n",
      "Nbr of threads:\t8\n",
      "\n"
     ]
    }
   ],
   "source": [
    "print(all_results['Alt. spec.'].printGeneralStatistics())"
   ]
  },
  {
   "cell_type": "code",
   "execution_count": 39,
   "id": "ddc4dac0",
   "metadata": {},
   "outputs": [
    {
     "data": {
      "text/html": [
       "<div>\n",
       "<style scoped>\n",
       "    .dataframe tbody tr th:only-of-type {\n",
       "        vertical-align: middle;\n",
       "    }\n",
       "\n",
       "    .dataframe tbody tr th {\n",
       "        vertical-align: top;\n",
       "    }\n",
       "\n",
       "    .dataframe thead th {\n",
       "        text-align: right;\n",
       "    }\n",
       "</style>\n",
       "<table border=\"1\" class=\"dataframe\">\n",
       "  <thead>\n",
       "    <tr style=\"text-align: right;\">\n",
       "      <th></th>\n",
       "      <th>Value</th>\n",
       "      <th>Rob. Std err</th>\n",
       "      <th>Rob. t-test</th>\n",
       "      <th>Rob. p-value</th>\n",
       "    </tr>\n",
       "  </thead>\n",
       "  <tbody>\n",
       "    <tr>\n",
       "      <th>beta_cost</th>\n",
       "      <td>-0.202341</td>\n",
       "      <td>0.018845</td>\n",
       "      <td>-10.736851</td>\n",
       "      <td>0.0</td>\n",
       "    </tr>\n",
       "    <tr>\n",
       "      <th>beta_time_1</th>\n",
       "      <td>-8.529398</td>\n",
       "      <td>0.370743</td>\n",
       "      <td>-23.006259</td>\n",
       "      <td>0.0</td>\n",
       "    </tr>\n",
       "    <tr>\n",
       "      <th>beta_time_2</th>\n",
       "      <td>-5.584310</td>\n",
       "      <td>0.445763</td>\n",
       "      <td>-12.527543</td>\n",
       "      <td>0.0</td>\n",
       "    </tr>\n",
       "    <tr>\n",
       "      <th>beta_time_3</th>\n",
       "      <td>-3.147052</td>\n",
       "      <td>0.234275</td>\n",
       "      <td>-13.433128</td>\n",
       "      <td>0.0</td>\n",
       "    </tr>\n",
       "    <tr>\n",
       "      <th>beta_time_4</th>\n",
       "      <td>-6.858916</td>\n",
       "      <td>0.396436</td>\n",
       "      <td>-17.301438</td>\n",
       "      <td>0.0</td>\n",
       "    </tr>\n",
       "    <tr>\n",
       "      <th>constant_2</th>\n",
       "      <td>-4.548469</td>\n",
       "      <td>0.179697</td>\n",
       "      <td>-25.311894</td>\n",
       "      <td>0.0</td>\n",
       "    </tr>\n",
       "    <tr>\n",
       "      <th>constant_3</th>\n",
       "      <td>-2.497109</td>\n",
       "      <td>0.125931</td>\n",
       "      <td>-19.829198</td>\n",
       "      <td>0.0</td>\n",
       "    </tr>\n",
       "    <tr>\n",
       "      <th>constant_4</th>\n",
       "      <td>-1.853711</td>\n",
       "      <td>0.120485</td>\n",
       "      <td>-15.385400</td>\n",
       "      <td>0.0</td>\n",
       "    </tr>\n",
       "  </tbody>\n",
       "</table>\n",
       "</div>"
      ],
      "text/plain": [
       "                Value  Rob. Std err  Rob. t-test  Rob. p-value\n",
       "beta_cost   -0.202341      0.018845   -10.736851           0.0\n",
       "beta_time_1 -8.529398      0.370743   -23.006259           0.0\n",
       "beta_time_2 -5.584310      0.445763   -12.527543           0.0\n",
       "beta_time_3 -3.147052      0.234275   -13.433128           0.0\n",
       "beta_time_4 -6.858916      0.396436   -17.301438           0.0\n",
       "constant_2  -4.548469      0.179697   -25.311894           0.0\n",
       "constant_3  -2.497109      0.125931   -19.829198           0.0\n",
       "constant_4  -1.853711      0.120485   -15.385400           0.0"
      ]
     },
     "execution_count": 39,
     "metadata": {},
     "output_type": "execute_result"
    }
   ],
   "source": [
    "all_results['Alt. spec.'].getEstimatedParameters()"
   ]
  },
  {
   "cell_type": "code",
   "execution_count": 40,
   "id": "b5d4ab55",
   "metadata": {},
   "outputs": [
    {
     "data": {
      "text/plain": [
       "LRTuple(message='H0 can be rejected at level 5.0%', statistic=923.5807146781699, threshold=7.814727903251179)"
      ]
     },
     "execution_count": 40,
     "metadata": {},
     "output_type": "execute_result"
    }
   ],
   "source": [
    "all_results['Alt. spec.'].likelihood_ratio_test(all_results['Base'], 0.05)"
   ]
  },
  {
   "cell_type": "markdown",
   "id": "ab2f0cc9",
   "metadata": {},
   "source": [
    "# Model 2, socioeconomic interaction"
   ]
  },
  {
   "cell_type": "markdown",
   "id": "51b54177",
   "metadata": {},
   "source": [
    "Using Model 1 as the base model, include one additional alternative attribute and one interaction of a socioeconomic characteristic with either the ASCs or one of the attributes. Report both the specification and the estimation results (as defined previously)."
   ]
  },
  {
   "cell_type": "markdown",
   "id": "b8d4f62b",
   "metadata": {},
   "source": [
    "\\begin{align*}\n",
    "V_1 &= \\beta_\\text{time,1} \\text{time}_1\\left(\\frac{age}{100}\\right) \\\\\n",
    "V_2 &= \\text{cte}_2 + \\beta_\\text{time,2} \\text{time}_2\\left(\\frac{age}{100}\\right) \\\\\n",
    "V_3 &= \\text{cte}_3 + \\beta_\\text{cost}  \\text{cost}_3 + \\beta_\\text{time,3} \\text{time}_3\\left(\\frac{age}{100}\\right) \\\\\n",
    "V_4 &= \\text{cte}_4 + \\beta_\\text{cost}  \\text{cost}_4 + \\beta_\\text{time,4} \\text{time}_4\\left(\\frac{age}{100}\\right)  + {\\sum_{j=1}^{J-1} \\beta_\\text{fuel}^j\\delta_j } \\\\\n",
    "\\end{align*}"
   ]
  },
  {
   "cell_type": "code",
   "execution_count": 41,
   "id": "16b17731",
   "metadata": {},
   "outputs": [],
   "source": [
    "constant_2 = Beta('constant_2', 0, None, None, 0)\n",
    "constant_3 = Beta('constant_3', 0, None, None, 0)\n",
    "constant_4 = Beta('constant_4', 0, None, None, 0)\n",
    "beta_cost = Beta('beta_cost', 0, None, None, 0)\n",
    "beta_time_1 = Beta('beta_time_1', 0, None, None, 0)\n",
    "beta_time_2 = Beta('beta_time_2', 0, None, None, 0)\n",
    "beta_time_3 = Beta('beta_time_3', 0, None, None, 0)\n",
    "beta_time_4 = Beta('beta_time_4', 0, None, None, 0)\n",
    "beta_fuel_type_123 = Beta('beta_fuel_type_123', 0, None, None, 0)\n",
    "beta_fuel_type_45 = Beta('beta_fuel_type_45', 0, None, None, 0)\n",
    "Opt1_socioeco = (beta_time_1 * dur_walking * (age / 100))\n",
    "Opt2_socioeco = (constant_2 + beta_time_2 * dur_cycling * (age / 100))\n",
    "Opt3_socioeco = (constant_3 + beta_cost * cost_pt + beta_time_3 * dur_pt *\n",
    "                 (age / 100))\n",
    "Opt4_socioeco = (constant_4 + beta_cost * cost_driving +\n",
    "                 beta_time_4 * dur_driving * (age / 100) + beta_fuel_type_123 *\n",
    "                 ((fueltype == 1) | (fueltype == 2) | (fueltype == 3) |\n",
    "                  (fueltype == 4)) + beta_fuel_type_45 * ((fueltype == 4) |\n",
    "                                                          (fueltype == 5)))\n",
    "V_socioeco = {\n",
    "    1: Opt1_socioeco,\n",
    "    2: Opt2_socioeco,\n",
    "    3: Opt3_socioeco,\n",
    "    4: Opt4_socioeco\n",
    "}\n",
    "\n",
    "logprob_socioeco = models.loglogit(V_socioeco, None, travel_mode)\n",
    "biogeme_socioeco = bio.BIOGEME(database, logprob_socioeco)\n",
    "biogeme_socioeco.modelName = 'logit_lpmc_socioeco'\n",
    "all_results['Socioeco.'] = biogeme_socioeco.estimate()"
   ]
  },
  {
   "cell_type": "code",
   "execution_count": 42,
   "id": "0a482628",
   "metadata": {
    "scrolled": true
   },
   "outputs": [
    {
     "name": "stdout",
     "output_type": "stream",
     "text": [
      "Number of estimated parameters:\t10\n",
      "Sample size:\t5000\n",
      "Excluded observations:\t0\n",
      "Init log likelihood:\t-4120.895\n",
      "Final log likelihood:\t-4120.895\n",
      "Likelihood ratio test for the init. model:\t-0\n",
      "Rho-square for the init. model:\t0\n",
      "Rho-square-bar for the init. model:\t-0.00243\n",
      "Akaike Information Criterion:\t8261.791\n",
      "Bayesian Information Criterion:\t8326.963\n",
      "Final gradient norm:\t1.7694E-02\n",
      "Nbr of threads:\t8\n",
      "\n"
     ]
    }
   ],
   "source": [
    "print(all_results['Socioeco.'].printGeneralStatistics())"
   ]
  },
  {
   "cell_type": "code",
   "execution_count": 43,
   "id": "f3722978",
   "metadata": {},
   "outputs": [
    {
     "data": {
      "text/html": [
       "<div>\n",
       "<style scoped>\n",
       "    .dataframe tbody tr th:only-of-type {\n",
       "        vertical-align: middle;\n",
       "    }\n",
       "\n",
       "    .dataframe tbody tr th {\n",
       "        vertical-align: top;\n",
       "    }\n",
       "\n",
       "    .dataframe thead th {\n",
       "        text-align: right;\n",
       "    }\n",
       "</style>\n",
       "<table border=\"1\" class=\"dataframe\">\n",
       "  <thead>\n",
       "    <tr style=\"text-align: right;\">\n",
       "      <th></th>\n",
       "      <th>Value</th>\n",
       "      <th>Rob. Std err</th>\n",
       "      <th>Rob. t-test</th>\n",
       "      <th>Rob. p-value</th>\n",
       "    </tr>\n",
       "  </thead>\n",
       "  <tbody>\n",
       "    <tr>\n",
       "      <th>beta_cost</th>\n",
       "      <td>-0.194949</td>\n",
       "      <td>0.020602</td>\n",
       "      <td>-9.462566</td>\n",
       "      <td>0.0</td>\n",
       "    </tr>\n",
       "    <tr>\n",
       "      <th>beta_fuel_type_123</th>\n",
       "      <td>2.430359</td>\n",
       "      <td>0.092627</td>\n",
       "      <td>26.238027</td>\n",
       "      <td>0.0</td>\n",
       "    </tr>\n",
       "    <tr>\n",
       "      <th>beta_fuel_type_45</th>\n",
       "      <td>2.957180</td>\n",
       "      <td>0.291300</td>\n",
       "      <td>10.151660</td>\n",
       "      <td>0.0</td>\n",
       "    </tr>\n",
       "    <tr>\n",
       "      <th>beta_time_1</th>\n",
       "      <td>-16.126538</td>\n",
       "      <td>0.646841</td>\n",
       "      <td>-24.931224</td>\n",
       "      <td>0.0</td>\n",
       "    </tr>\n",
       "    <tr>\n",
       "      <th>beta_time_2</th>\n",
       "      <td>-13.769144</td>\n",
       "      <td>1.270806</td>\n",
       "      <td>-10.834968</td>\n",
       "      <td>0.0</td>\n",
       "    </tr>\n",
       "    <tr>\n",
       "      <th>beta_time_3</th>\n",
       "      <td>-8.653043</td>\n",
       "      <td>0.637559</td>\n",
       "      <td>-13.572152</td>\n",
       "      <td>0.0</td>\n",
       "    </tr>\n",
       "    <tr>\n",
       "      <th>beta_time_4</th>\n",
       "      <td>-16.257464</td>\n",
       "      <td>1.069463</td>\n",
       "      <td>-15.201526</td>\n",
       "      <td>0.0</td>\n",
       "    </tr>\n",
       "    <tr>\n",
       "      <th>constant_2</th>\n",
       "      <td>-3.577606</td>\n",
       "      <td>0.153487</td>\n",
       "      <td>-23.308800</td>\n",
       "      <td>0.0</td>\n",
       "    </tr>\n",
       "    <tr>\n",
       "      <th>constant_3</th>\n",
       "      <td>-1.307433</td>\n",
       "      <td>0.086481</td>\n",
       "      <td>-15.118119</td>\n",
       "      <td>0.0</td>\n",
       "    </tr>\n",
       "    <tr>\n",
       "      <th>constant_4</th>\n",
       "      <td>-2.762014</td>\n",
       "      <td>0.116809</td>\n",
       "      <td>-23.645621</td>\n",
       "      <td>0.0</td>\n",
       "    </tr>\n",
       "  </tbody>\n",
       "</table>\n",
       "</div>"
      ],
      "text/plain": [
       "                        Value  Rob. Std err  Rob. t-test  Rob. p-value\n",
       "beta_cost           -0.194949      0.020602    -9.462566           0.0\n",
       "beta_fuel_type_123   2.430359      0.092627    26.238027           0.0\n",
       "beta_fuel_type_45    2.957180      0.291300    10.151660           0.0\n",
       "beta_time_1        -16.126538      0.646841   -24.931224           0.0\n",
       "beta_time_2        -13.769144      1.270806   -10.834968           0.0\n",
       "beta_time_3         -8.653043      0.637559   -13.572152           0.0\n",
       "beta_time_4        -16.257464      1.069463   -15.201526           0.0\n",
       "constant_2          -3.577606      0.153487   -23.308800           0.0\n",
       "constant_3          -1.307433      0.086481   -15.118119           0.0\n",
       "constant_4          -2.762014      0.116809   -23.645621           0.0"
      ]
     },
     "execution_count": 43,
     "metadata": {},
     "output_type": "execute_result"
    }
   ],
   "source": [
    "socioeco_estimates = all_results['Socioeco.'].getEstimatedParameters()\n",
    "socioeco_estimates"
   ]
  },
  {
   "cell_type": "markdown",
   "id": "dd6eb798",
   "metadata": {},
   "source": [
    "# Davidson McKinnon test"
   ]
  },
  {
   "cell_type": "markdown",
   "id": "4471d7a7",
   "metadata": {},
   "source": [
    "We test the null hypothesis that the alternative specific model is the true model. To test this hypothesis, we need to perform a **Davidson McKinnon test**, where $M_1$ is the alternative specific model, and $M_2$ is the socioeconomic model."
   ]
  },
  {
   "cell_type": "markdown",
   "id": "6664faf0",
   "metadata": {},
   "source": [
    "We write a composite specification."
   ]
  },
  {
   "cell_type": "code",
   "execution_count": 44,
   "id": "a8b92ac7",
   "metadata": {},
   "outputs": [],
   "source": [
    "alpha = Beta('alpha', 0, None, None, 0)"
   ]
  },
  {
   "cell_type": "markdown",
   "id": "0ac7092c",
   "metadata": {},
   "source": [
    "We fix the values of the parameters of the socioeconomic specification to their estimated value. We also change the name of the beta to avoid duplicates in the composite model."
   ]
  },
  {
   "cell_type": "code",
   "execution_count": 45,
   "id": "c8a04cd1",
   "metadata": {},
   "outputs": [
    {
     "data": {
      "text/plain": [
       "{'beta_cost': -0.19494867198115687,\n",
       " 'beta_fuel_type_123': 2.4303592575107182,\n",
       " 'beta_fuel_type_45': 2.957180107851512,\n",
       " 'beta_time_1': -16.126537989417205,\n",
       " 'beta_time_2': -13.769143882941922,\n",
       " 'beta_time_3': -8.653042803486636,\n",
       " 'beta_time_4': -16.257463751357104,\n",
       " 'constant_2': -3.577605854057555,\n",
       " 'constant_3': -1.3074325466619154,\n",
       " 'constant_4': -2.762014013879864}"
      ]
     },
     "execution_count": 45,
     "metadata": {},
     "output_type": "execute_result"
    }
   ],
   "source": [
    "socioeco_betas = all_results['Socioeco.'].getBetaValues()\n",
    "socioeco_betas"
   ]
  },
  {
   "cell_type": "code",
   "execution_count": 46,
   "id": "30551102",
   "metadata": {},
   "outputs": [],
   "source": [
    "Opt1_socioeco.fix_betas(beta_values=socioeco_betas, prefix='socioeco_')\n",
    "Opt2_socioeco.fix_betas(beta_values=socioeco_betas, prefix='socioeco_')\n",
    "Opt3_socioeco.fix_betas(beta_values=socioeco_betas, prefix='socioeco_')\n",
    "Opt4_socioeco.fix_betas(beta_values=socioeco_betas, prefix='socioeco_')"
   ]
  },
  {
   "cell_type": "markdown",
   "id": "d1c31191",
   "metadata": {},
   "source": [
    "We create the composite specification"
   ]
  },
  {
   "cell_type": "code",
   "execution_count": 47,
   "id": "0f3c7f6a",
   "metadata": {},
   "outputs": [],
   "source": [
    "Opt1_compo = (1-alpha) * Opt1_alt_spec + alpha * Opt1_socioeco\n",
    "Opt2_compo = (1-alpha) * Opt2_alt_spec + alpha * Opt2_socioeco\n",
    "Opt3_compo = (1-alpha) * Opt3_alt_spec + alpha * Opt3_socioeco\n",
    "Opt4_compo = (1-alpha) * Opt3_alt_spec + alpha * Opt3_socioeco"
   ]
  },
  {
   "cell_type": "markdown",
   "id": "83732a79",
   "metadata": {},
   "source": [
    "We estimate the composite model"
   ]
  },
  {
   "cell_type": "code",
   "execution_count": 48,
   "id": "fab2d621",
   "metadata": {},
   "outputs": [],
   "source": [
    "V_compo = {1: Opt1_compo, 2: Opt2_compo, 3: Opt3_compo, 4: Opt4_compo}\n",
    "logprob_compo = models.loglogit(V_compo, None, travel_mode)\n",
    "biogeme_compo = bio.BIOGEME(database, logprob_compo)\n",
    "biogeme_compo.modelName = 'logit_lpmc_compo'\n",
    "results_compo = biogeme_compo.estimate()"
   ]
  },
  {
   "cell_type": "code",
   "execution_count": 49,
   "id": "6375e5b9",
   "metadata": {},
   "outputs": [
    {
     "data": {
      "text/html": [
       "<div>\n",
       "<style scoped>\n",
       "    .dataframe tbody tr th:only-of-type {\n",
       "        vertical-align: middle;\n",
       "    }\n",
       "\n",
       "    .dataframe tbody tr th {\n",
       "        vertical-align: top;\n",
       "    }\n",
       "\n",
       "    .dataframe thead th {\n",
       "        text-align: right;\n",
       "    }\n",
       "</style>\n",
       "<table border=\"1\" class=\"dataframe\">\n",
       "  <thead>\n",
       "    <tr style=\"text-align: right;\">\n",
       "      <th></th>\n",
       "      <th>Value</th>\n",
       "      <th>Rob. Std err</th>\n",
       "      <th>Rob. t-test</th>\n",
       "      <th>Rob. p-value</th>\n",
       "    </tr>\n",
       "  </thead>\n",
       "  <tbody>\n",
       "    <tr>\n",
       "      <th>alpha</th>\n",
       "      <td>0.314365</td>\n",
       "      <td>0.065205</td>\n",
       "      <td>4.821164</td>\n",
       "      <td>1.427231e-06</td>\n",
       "    </tr>\n",
       "    <tr>\n",
       "      <th>beta_cost</th>\n",
       "      <td>-0.443103</td>\n",
       "      <td>0.079800</td>\n",
       "      <td>-5.552670</td>\n",
       "      <td>2.813382e-08</td>\n",
       "    </tr>\n",
       "    <tr>\n",
       "      <th>beta_time_1</th>\n",
       "      <td>-7.533126</td>\n",
       "      <td>0.648542</td>\n",
       "      <td>-11.615474</td>\n",
       "      <td>0.000000e+00</td>\n",
       "    </tr>\n",
       "    <tr>\n",
       "      <th>beta_time_2</th>\n",
       "      <td>-1.074099</td>\n",
       "      <td>0.777999</td>\n",
       "      <td>-1.380592</td>\n",
       "      <td>1.674043e-01</td>\n",
       "    </tr>\n",
       "    <tr>\n",
       "      <th>beta_time_3</th>\n",
       "      <td>1.356882</td>\n",
       "      <td>0.696212</td>\n",
       "      <td>1.948950</td>\n",
       "      <td>5.130145e-02</td>\n",
       "    </tr>\n",
       "    <tr>\n",
       "      <th>constant_2</th>\n",
       "      <td>-4.670181</td>\n",
       "      <td>0.280150</td>\n",
       "      <td>-16.670271</td>\n",
       "      <td>0.000000e+00</td>\n",
       "    </tr>\n",
       "    <tr>\n",
       "      <th>constant_3</th>\n",
       "      <td>-2.481741</td>\n",
       "      <td>0.213371</td>\n",
       "      <td>-11.631128</td>\n",
       "      <td>0.000000e+00</td>\n",
       "    </tr>\n",
       "  </tbody>\n",
       "</table>\n",
       "</div>"
      ],
      "text/plain": [
       "                Value  Rob. Std err  Rob. t-test  Rob. p-value\n",
       "alpha        0.314365      0.065205     4.821164  1.427231e-06\n",
       "beta_cost   -0.443103      0.079800    -5.552670  2.813382e-08\n",
       "beta_time_1 -7.533126      0.648542   -11.615474  0.000000e+00\n",
       "beta_time_2 -1.074099      0.777999    -1.380592  1.674043e-01\n",
       "beta_time_3  1.356882      0.696212     1.948950  5.130145e-02\n",
       "constant_2  -4.670181      0.280150   -16.670271  0.000000e+00\n",
       "constant_3  -2.481741      0.213371   -11.631128  0.000000e+00"
      ]
     },
     "execution_count": 49,
     "metadata": {},
     "output_type": "execute_result"
    }
   ],
   "source": [
    "composite_parameters = results_compo.getEstimatedParameters()\n",
    "composite_parameters"
   ]
  },
  {
   "cell_type": "markdown",
   "id": "d1562c6a",
   "metadata": {},
   "source": [
    "$t$-test for $\\alpha$."
   ]
  },
  {
   "cell_type": "code",
   "execution_count": 50,
   "id": "88021dd7",
   "metadata": {},
   "outputs": [
    {
     "data": {
      "text/plain": [
       "4.8211638509454255"
      ]
     },
     "execution_count": 50,
     "metadata": {},
     "output_type": "execute_result"
    }
   ],
   "source": [
    "composite_parameters.loc['alpha', 'Rob. t-test']"
   ]
  },
  {
   "cell_type": "markdown",
   "id": "7a89b321",
   "metadata": {},
   "source": [
    "$p$-value for $\\alpha$."
   ]
  },
  {
   "cell_type": "code",
   "execution_count": 51,
   "id": "3870cdf0",
   "metadata": {},
   "outputs": [
    {
     "name": "stdout",
     "output_type": "stream",
     "text": [
      "1.4272306425588965e-06\n"
     ]
    }
   ],
   "source": [
    "print(composite_parameters.loc['alpha', 'Rob. p-value'])"
   ]
  },
  {
   "cell_type": "markdown",
   "id": "604f49ea",
   "metadata": {},
   "source": [
    "Under the null hypothesis, the true value of $\\alpha$ is 0. This hypothesis can be safely rejected here. Therefore, the socioeconomic specification is preferred."
   ]
  },
  {
   "cell_type": "markdown",
   "id": "531ec858",
   "metadata": {},
   "source": [
    "# Model 3, non-linear"
   ]
  },
  {
   "cell_type": "code",
   "execution_count": 52,
   "id": "e18e6bcd",
   "metadata": {},
   "outputs": [],
   "source": [
    "# Running this code unfixes the socioeco. betas\n",
    "constant_2 = Beta('constant_2', 0, None, None, 0)\n",
    "constant_3 = Beta('constant_3', 0, None, None, 0)\n",
    "constant_4 = Beta('constant_4', 0, None, None, 0)\n",
    "beta_cost = Beta('beta_cost', 0, None, None, 0)\n",
    "beta_time_1 = Beta('beta_time_1', 0, None, None, 0)\n",
    "beta_time_2 = Beta('beta_time_2', 0, None, None, 0)\n",
    "beta_time_3 = Beta('beta_time_3', 0, None, None, 0)\n",
    "beta_time_4 = Beta('beta_time_4', 0, None, None, 0)\n",
    "beta_fuel_type_123 = Beta('beta_fuel_type_123', 0, None, None, 0)\n",
    "beta_fuel_type_45 = Beta('beta_fuel_type_45', 0, None, None, 0)\n",
    "Opt1_socioeco = (beta_time_1 * dur_walking * (age / 100))\n",
    "Opt2_socioeco = (constant_2 + beta_time_2 * dur_cycling * (age / 100))\n",
    "Opt3_socioeco = (constant_3 + beta_cost * cost_pt + beta_time_3 * dur_pt *\n",
    "                 (age / 100))\n",
    "Opt4_socioeco = (constant_4 + beta_cost * cost_driving +\n",
    "                 beta_time_4 * dur_driving * (age / 100) + beta_fuel_type_123 *\n",
    "                 ((fueltype == 1) | (fueltype == 2) | (fueltype == 3) |\n",
    "                  (fueltype == 4)) + beta_fuel_type_45 * ((fueltype == 4) |\n",
    "                                                          (fueltype == 5)))\n",
    "V_socioeco = {\n",
    "    1: Opt1_socioeco,\n",
    "    2: Opt2_socioeco,\n",
    "    3: Opt3_socioeco,\n",
    "    4: Opt4_socioeco\n",
    "}\n",
    "\n",
    "logprob_socioeco = models.loglogit(V_socioeco, None, travel_mode)\n",
    "biogeme_socioeco = bio.BIOGEME(database, logprob_socioeco)\n",
    "biogeme_socioeco.modelName = 'logit_lpmc_socioeco'\n",
    "all_results['Socioeco.'] = biogeme_socioeco.estimate()"
   ]
  },
  {
   "cell_type": "markdown",
   "id": "d87b3e68",
   "metadata": {},
   "source": [
    "Using Model 2 as the base model, include an appropriate non-linear transformation of one of the variables. Report both the specification and the estimation results (as defined previously)."
   ]
  },
  {
   "cell_type": "code",
   "execution_count": 53,
   "id": "97a2c1d9",
   "metadata": {},
   "outputs": [],
   "source": [
    "ell = Beta('ell', 1, None, None, 0)"
   ]
  },
  {
   "cell_type": "markdown",
   "id": "eddb546e",
   "metadata": {},
   "source": [
    "\\begin{align*}\n",
    "V_1 &= \\beta_\\text{time,1} \\text{time}_1\\left(\\frac{age}{100}\\right)^{\\ell} \\\\\n",
    "V_2 &= \\text{cte}_2 + \\beta_\\text{time,2} \\text{time}_2\\left(\\frac{age}{100}\\right)^{\\ell} \\\\\n",
    "V_3 &= \\text{cte}_3 + \\beta_\\text{cost}  \\text{cost}_3 + \\beta_\\text{time,3} \\text{time}_3\\left(\\frac{age}{100}\\right)^{\\ell} \\\\\n",
    "V_4 &= \\text{cte}_4 + \\beta_\\text{cost}  \\text{cost}_4 + \\beta_\\text{time,4} \\text{time}_4\\left(\\frac{age}{100}\\right)^{\\ell}  + {\\sum_{j=1}^{J-1} \\beta_\\text{fuel}^j\\delta_j } \\\\\n",
    "\\end{align*}"
   ]
  },
  {
   "cell_type": "code",
   "execution_count": 54,
   "id": "ca3e441a",
   "metadata": {},
   "outputs": [],
   "source": [
    "constant_2 = Beta('constant_2', 0, None, None, 0)\n",
    "constant_3 = Beta('constant_3', 0, None, None, 0)\n",
    "constant_4 = Beta('constant_4', 0, None, None, 0)\n",
    "beta_cost = Beta('beta_cost', 0, None, None, 0)\n",
    "beta_time_1 = Beta('beta_time_1', 0, None, None, 0)\n",
    "beta_time_2 = Beta('beta_time_2', 0, None, None, 0)\n",
    "beta_time_3 = Beta('beta_time_3', 0, None, None, 0)\n",
    "beta_time_4 = Beta('beta_time_4', 0, None, None, 0)\n",
    "beta_fuel_type_123 = Beta('beta_fuel_type_123', 0, None, None, 0)\n",
    "beta_fuel_type_45 = Beta('beta_fuel_type_45', 0, None, None, 0)\n",
    "Opt1_nonlinear = (beta_time_1 * dur_walking * (age / 100)**ell)\n",
    "Opt2_nonlinear = (constant_2 + beta_time_2 * dur_cycling * (age / 100)**ell)\n",
    "Opt3_nonlinear = (constant_3 + beta_cost * cost_pt + beta_time_3 * dur_pt *\n",
    "                 (age / 100)**ell)\n",
    "Opt4_nonlinear = (constant_4 + beta_cost * cost_driving +\n",
    "                 beta_time_4 * dur_driving * (age / 100)**ell + beta_fuel_type_123 *\n",
    "                 ((fueltype == 1) | (fueltype == 2) | (fueltype == 3) |\n",
    "                  (fueltype == 4)) + beta_fuel_type_45 * ((fueltype == 4) |\n",
    "                                                          (fueltype == 5)))\n",
    "V_nonlinear = {\n",
    "    1: Opt1_nonlinear,\n",
    "    2: Opt2_nonlinear,\n",
    "    3: Opt3_nonlinear,\n",
    "    4: Opt4_nonlinear\n",
    "}\n",
    "\n",
    "logprob_nonlinear = models.loglogit(V_nonlinear, None, travel_mode)\n",
    "biogeme_nonlinear = bio.BIOGEME(database, logprob_nonlinear)\n",
    "biogeme_nonlinear.modelName = 'logit_lpmc_nonlinear'\n",
    "all_results['Nonlinear.'] = biogeme_nonlinear.estimate()"
   ]
  },
  {
   "cell_type": "code",
   "execution_count": 55,
   "id": "5b440071",
   "metadata": {
    "scrolled": true
   },
   "outputs": [
    {
     "name": "stdout",
     "output_type": "stream",
     "text": [
      "Number of estimated parameters:\t11\n",
      "Sample size:\t5000\n",
      "Excluded observations:\t0\n",
      "Init log likelihood:\t-3892.398\n",
      "Final log likelihood:\t-3892.398\n",
      "Likelihood ratio test for the init. model:\t2.680299e-07\n",
      "Rho-square for the init. model:\t3.44e-11\n",
      "Rho-square-bar for the init. model:\t-0.00283\n",
      "Akaike Information Criterion:\t7806.796\n",
      "Bayesian Information Criterion:\t7878.486\n",
      "Final gradient norm:\t2.4045E-02\n",
      "Nbr of threads:\t8\n",
      "\n"
     ]
    }
   ],
   "source": [
    "print(all_results['Nonlinear.'].printGeneralStatistics())"
   ]
  },
  {
   "cell_type": "code",
   "execution_count": 56,
   "id": "39744e23",
   "metadata": {},
   "outputs": [
    {
     "data": {
      "text/html": [
       "<div>\n",
       "<style scoped>\n",
       "    .dataframe tbody tr th:only-of-type {\n",
       "        vertical-align: middle;\n",
       "    }\n",
       "\n",
       "    .dataframe tbody tr th {\n",
       "        vertical-align: top;\n",
       "    }\n",
       "\n",
       "    .dataframe thead th {\n",
       "        text-align: right;\n",
       "    }\n",
       "</style>\n",
       "<table border=\"1\" class=\"dataframe\">\n",
       "  <thead>\n",
       "    <tr style=\"text-align: right;\">\n",
       "      <th></th>\n",
       "      <th>Value</th>\n",
       "      <th>Rob. Std err</th>\n",
       "      <th>Rob. t-test</th>\n",
       "      <th>Rob. p-value</th>\n",
       "    </tr>\n",
       "  </thead>\n",
       "  <tbody>\n",
       "    <tr>\n",
       "      <th>beta_cost</th>\n",
       "      <td>-0.212166</td>\n",
       "      <td>0.021652</td>\n",
       "      <td>-9.798791</td>\n",
       "      <td>0.000000</td>\n",
       "    </tr>\n",
       "    <tr>\n",
       "      <th>beta_fuel_type_123</th>\n",
       "      <td>2.408309</td>\n",
       "      <td>0.092566</td>\n",
       "      <td>26.017250</td>\n",
       "      <td>0.000000</td>\n",
       "    </tr>\n",
       "    <tr>\n",
       "      <th>beta_fuel_type_45</th>\n",
       "      <td>3.131389</td>\n",
       "      <td>0.298679</td>\n",
       "      <td>10.484140</td>\n",
       "      <td>0.000000</td>\n",
       "    </tr>\n",
       "    <tr>\n",
       "      <th>beta_time_1</th>\n",
       "      <td>-9.315314</td>\n",
       "      <td>0.543253</td>\n",
       "      <td>-17.147289</td>\n",
       "      <td>0.000000</td>\n",
       "    </tr>\n",
       "    <tr>\n",
       "      <th>beta_time_2</th>\n",
       "      <td>-5.640613</td>\n",
       "      <td>0.540203</td>\n",
       "      <td>-10.441659</td>\n",
       "      <td>0.000000</td>\n",
       "    </tr>\n",
       "    <tr>\n",
       "      <th>beta_time_3</th>\n",
       "      <td>-2.975948</td>\n",
       "      <td>0.303201</td>\n",
       "      <td>-9.815102</td>\n",
       "      <td>0.000000</td>\n",
       "    </tr>\n",
       "    <tr>\n",
       "      <th>beta_time_4</th>\n",
       "      <td>-6.807138</td>\n",
       "      <td>0.489666</td>\n",
       "      <td>-13.901592</td>\n",
       "      <td>0.000000</td>\n",
       "    </tr>\n",
       "    <tr>\n",
       "      <th>constant_2</th>\n",
       "      <td>-4.596789</td>\n",
       "      <td>0.186570</td>\n",
       "      <td>-24.638467</td>\n",
       "      <td>0.000000</td>\n",
       "    </tr>\n",
       "    <tr>\n",
       "      <th>constant_3</th>\n",
       "      <td>-2.590865</td>\n",
       "      <td>0.134635</td>\n",
       "      <td>-19.243553</td>\n",
       "      <td>0.000000</td>\n",
       "    </tr>\n",
       "    <tr>\n",
       "      <th>constant_4</th>\n",
       "      <td>-3.723677</td>\n",
       "      <td>0.152516</td>\n",
       "      <td>-24.414973</td>\n",
       "      <td>0.000000</td>\n",
       "    </tr>\n",
       "    <tr>\n",
       "      <th>ell</th>\n",
       "      <td>0.082345</td>\n",
       "      <td>0.032693</td>\n",
       "      <td>2.518691</td>\n",
       "      <td>0.011779</td>\n",
       "    </tr>\n",
       "  </tbody>\n",
       "</table>\n",
       "</div>"
      ],
      "text/plain": [
       "                       Value  Rob. Std err  Rob. t-test  Rob. p-value\n",
       "beta_cost          -0.212166      0.021652    -9.798791      0.000000\n",
       "beta_fuel_type_123  2.408309      0.092566    26.017250      0.000000\n",
       "beta_fuel_type_45   3.131389      0.298679    10.484140      0.000000\n",
       "beta_time_1        -9.315314      0.543253   -17.147289      0.000000\n",
       "beta_time_2        -5.640613      0.540203   -10.441659      0.000000\n",
       "beta_time_3        -2.975948      0.303201    -9.815102      0.000000\n",
       "beta_time_4        -6.807138      0.489666   -13.901592      0.000000\n",
       "constant_2         -4.596789      0.186570   -24.638467      0.000000\n",
       "constant_3         -2.590865      0.134635   -19.243553      0.000000\n",
       "constant_4         -3.723677      0.152516   -24.414973      0.000000\n",
       "ell                 0.082345      0.032693     2.518691      0.011779"
      ]
     },
     "execution_count": 56,
     "metadata": {},
     "output_type": "execute_result"
    }
   ],
   "source": [
    "nonlinear_estimates = all_results['Nonlinear.'].getEstimatedParameters()\n",
    "nonlinear_estimates"
   ]
  },
  {
   "cell_type": "markdown",
   "id": "8b9bce51",
   "metadata": {},
   "source": [
    "# Test non linear specifications"
   ]
  },
  {
   "cell_type": "code",
   "execution_count": 57,
   "id": "be56b237",
   "metadata": {},
   "outputs": [],
   "source": [
    "from scipy.stats import norm\n",
    "from biogeme.results import calcPValue"
   ]
  },
  {
   "cell_type": "markdown",
   "id": "2c2fabb8",
   "metadata": {},
   "source": [
    "Under the null hypothesis, the statistic $$\\frac{\\widehat{\\lambda}-1}{\\widehat{\\sigma}_\\lambda}$$ follows approximatively a $N(0, 1)$. "
   ]
  },
  {
   "cell_type": "code",
   "execution_count": 58,
   "id": "465907c8",
   "metadata": {},
   "outputs": [
    {
     "data": {
      "text/plain": [
       "-28.068463474057985"
      ]
     },
     "execution_count": 58,
     "metadata": {},
     "output_type": "execute_result"
    }
   ],
   "source": [
    "t_test_lambda = (nonlinear_estimates.loc['ell', 'Value'] -\n",
    "                 1) / nonlinear_estimates.loc['ell', 'Rob. Std err']\n",
    "t_test_lambda"
   ]
  },
  {
   "cell_type": "markdown",
   "id": "91ba4ef7",
   "metadata": {},
   "source": [
    "The threshold for the 5% confidence level is..."
   ]
  },
  {
   "cell_type": "code",
   "execution_count": 59,
   "id": "ada37862",
   "metadata": {},
   "outputs": [
    {
     "data": {
      "text/plain": [
       "1.6448536269514722"
      ]
     },
     "execution_count": 59,
     "metadata": {},
     "output_type": "execute_result"
    }
   ],
   "source": [
    "norm.ppf(.95)"
   ]
  },
  {
   "cell_type": "markdown",
   "id": "000823fd",
   "metadata": {},
   "source": [
    "Therefore, the null hypothesis can be rejected at the 10% level of confidence. "
   ]
  },
  {
   "cell_type": "code",
   "execution_count": 60,
   "id": "35eebcfb",
   "metadata": {},
   "outputs": [
    {
     "data": {
      "text/plain": [
       "0.0"
      ]
     },
     "execution_count": 60,
     "metadata": {},
     "output_type": "execute_result"
    }
   ],
   "source": [
    "calcPValue(t_test_lambda)"
   ]
  },
  {
   "cell_type": "markdown",
   "id": "10387018",
   "metadata": {},
   "source": [
    "##### If we reject the null hypothesis that the true model is the linear model, there is a 0.0% probability to make an error."
   ]
  },
  {
   "cell_type": "code",
   "execution_count": 61,
   "id": "8c46da93",
   "metadata": {},
   "outputs": [
    {
     "data": {
      "text/plain": [
       "LRTuple(message='H0 can be rejected at level 5.0%', statistic=456.99417180480395, threshold=3.841458820694124)"
      ]
     },
     "execution_count": 61,
     "metadata": {},
     "output_type": "execute_result"
    }
   ],
   "source": [
    "all_results['Nonlinear.'].likelihood_ratio_test(all_results['Socioeco.'], 0.05)"
   ]
  },
  {
   "cell_type": "markdown",
   "id": "d5c4ca98",
   "metadata": {},
   "source": [
    "# Model 4, nested"
   ]
  },
  {
   "cell_type": "markdown",
   "id": "6ec0200b",
   "metadata": {},
   "source": [
    "Using Model 3 as the base model, propose and test a nested or cross-nested structure. Report the nesting structure by means of a graph, together with the specification and the estimation results (as defined previously)."
   ]
  },
  {
   "cell_type": "markdown",
   "id": "82fbf290",
   "metadata": {},
   "source": [
    "There are three possibilities to partition the choice set:\n",
    "\n",
    "- [walking, cycling]  and [public transport, driving],\n",
    "- [walking, cycling, driving] and [public transport],\n",
    "- [walking] and [cycling, public transport, driving].\n",
    "\n",
    "The first one groups motorized alternatives together. The second one groups private modes together. The third one groups vehicular modes together. "
   ]
  },
  {
   "cell_type": "code",
   "execution_count": 62,
   "id": "a33fe053",
   "metadata": {},
   "outputs": [],
   "source": [
    "MU = Beta('MU', 1, 0, None, 0)\n",
    "pedestrian = 1, [1]\n",
    "vehicular = MU, [2, 3, 4]\n",
    "nests = pedestrian, vehicular\n",
    "logprob_nested = models.lognested(V_nonlinear, None, nests, travel_mode)\n",
    "biogeme_nested = bio.BIOGEME(database, logprob_nested)\n",
    "biogeme_nested.modelName = 'logit_lpmc_nested'\n",
    "all_results['Nested.'] = biogeme_nested.estimate()"
   ]
  },
  {
   "cell_type": "code",
   "execution_count": 63,
   "id": "c1c793bb",
   "metadata": {},
   "outputs": [
    {
     "data": {
      "text/plain": [
       "LRTuple(message='H0 can be rejected at level 5.0%', statistic=16.943699561491485, threshold=3.841458820694124)"
      ]
     },
     "execution_count": 63,
     "metadata": {},
     "output_type": "execute_result"
    }
   ],
   "source": [
    "all_results['Nested.'].likelihood_ratio_test(all_results['Nonlinear.'], significance_level=0.05)"
   ]
  },
  {
   "cell_type": "markdown",
   "id": "28b6f72c",
   "metadata": {},
   "source": [
    "# Comparison of the results"
   ]
  },
  {
   "cell_type": "code",
   "execution_count": 64,
   "id": "294474a2",
   "metadata": {
    "scrolled": false
   },
   "outputs": [
    {
     "data": {
      "text/html": [
       "<div>\n",
       "<style scoped>\n",
       "    .dataframe tbody tr th:only-of-type {\n",
       "        vertical-align: middle;\n",
       "    }\n",
       "\n",
       "    .dataframe tbody tr th {\n",
       "        vertical-align: top;\n",
       "    }\n",
       "\n",
       "    .dataframe thead th {\n",
       "        text-align: right;\n",
       "    }\n",
       "</style>\n",
       "<table border=\"1\" class=\"dataframe\">\n",
       "  <thead>\n",
       "    <tr style=\"text-align: right;\">\n",
       "      <th></th>\n",
       "      <th>Base</th>\n",
       "      <th>Alt. spec.</th>\n",
       "      <th>Socioeco.</th>\n",
       "      <th>Nonlinear.</th>\n",
       "      <th>Nested.</th>\n",
       "    </tr>\n",
       "  </thead>\n",
       "  <tbody>\n",
       "    <tr>\n",
       "      <th>Number of estimated parameters</th>\n",
       "      <td>5</td>\n",
       "      <td>8</td>\n",
       "      <td>10</td>\n",
       "      <td>11</td>\n",
       "      <td>12</td>\n",
       "    </tr>\n",
       "    <tr>\n",
       "      <th>Sample size</th>\n",
       "      <td>5000</td>\n",
       "      <td>5000</td>\n",
       "      <td>5000</td>\n",
       "      <td>5000</td>\n",
       "      <td>5000</td>\n",
       "    </tr>\n",
       "    <tr>\n",
       "      <th>Final log likelihood</th>\n",
       "      <td>-4837.640324</td>\n",
       "      <td>-4375.849966</td>\n",
       "      <td>-4120.895316</td>\n",
       "      <td>-3892.39823</td>\n",
       "      <td>-3883.92638</td>\n",
       "    </tr>\n",
       "    <tr>\n",
       "      <th>Akaike Information Criterion</th>\n",
       "      <td>9685.280647</td>\n",
       "      <td>8767.699933</td>\n",
       "      <td>8261.790631</td>\n",
       "      <td>7806.796459</td>\n",
       "      <td>7791.85276</td>\n",
       "    </tr>\n",
       "    <tr>\n",
       "      <th>Bayesian Information Criterion</th>\n",
       "      <td>9717.866613</td>\n",
       "      <td>8819.837478</td>\n",
       "      <td>8326.962563</td>\n",
       "      <td>7878.485585</td>\n",
       "      <td>7870.059078</td>\n",
       "    </tr>\n",
       "    <tr>\n",
       "      <th>beta_cost</th>\n",
       "      <td>-0.217267</td>\n",
       "      <td>-0.202341</td>\n",
       "      <td>-0.194949</td>\n",
       "      <td>-0.212166</td>\n",
       "      <td>-0.143401</td>\n",
       "    </tr>\n",
       "    <tr>\n",
       "      <th>beta_time</th>\n",
       "      <td>-4.583652</td>\n",
       "      <td></td>\n",
       "      <td></td>\n",
       "      <td></td>\n",
       "      <td></td>\n",
       "    </tr>\n",
       "    <tr>\n",
       "      <th>constant_2</th>\n",
       "      <td>-3.407951</td>\n",
       "      <td>-4.548469</td>\n",
       "      <td>-3.577606</td>\n",
       "      <td>-4.596789</td>\n",
       "      <td>-3.626451</td>\n",
       "    </tr>\n",
       "    <tr>\n",
       "      <th>constant_3</th>\n",
       "      <td>-0.306573</td>\n",
       "      <td>-2.497109</td>\n",
       "      <td>-1.307433</td>\n",
       "      <td>-2.590865</td>\n",
       "      <td>-2.280683</td>\n",
       "    </tr>\n",
       "    <tr>\n",
       "      <th>constant_4</th>\n",
       "      <td>-0.956693</td>\n",
       "      <td>-1.853711</td>\n",
       "      <td>-2.762014</td>\n",
       "      <td>-3.723677</td>\n",
       "      <td>-3.049967</td>\n",
       "    </tr>\n",
       "    <tr>\n",
       "      <th>beta_time_1</th>\n",
       "      <td></td>\n",
       "      <td>-8.529398</td>\n",
       "      <td>-16.126538</td>\n",
       "      <td>-9.315314</td>\n",
       "      <td>-8.514422</td>\n",
       "    </tr>\n",
       "    <tr>\n",
       "      <th>beta_time_2</th>\n",
       "      <td></td>\n",
       "      <td>-5.58431</td>\n",
       "      <td>-13.769144</td>\n",
       "      <td>-5.640613</td>\n",
       "      <td>-3.747696</td>\n",
       "    </tr>\n",
       "    <tr>\n",
       "      <th>beta_time_3</th>\n",
       "      <td></td>\n",
       "      <td>-3.147052</td>\n",
       "      <td>-8.653043</td>\n",
       "      <td>-2.975948</td>\n",
       "      <td>-1.969282</td>\n",
       "    </tr>\n",
       "    <tr>\n",
       "      <th>beta_time_4</th>\n",
       "      <td></td>\n",
       "      <td>-6.858916</td>\n",
       "      <td>-16.257464</td>\n",
       "      <td>-6.807138</td>\n",
       "      <td>-4.65137</td>\n",
       "    </tr>\n",
       "    <tr>\n",
       "      <th>beta_fuel_type_123</th>\n",
       "      <td></td>\n",
       "      <td></td>\n",
       "      <td>2.430359</td>\n",
       "      <td>2.408309</td>\n",
       "      <td>1.702253</td>\n",
       "    </tr>\n",
       "    <tr>\n",
       "      <th>beta_fuel_type_45</th>\n",
       "      <td></td>\n",
       "      <td></td>\n",
       "      <td>2.95718</td>\n",
       "      <td>3.131389</td>\n",
       "      <td>2.28357</td>\n",
       "    </tr>\n",
       "    <tr>\n",
       "      <th>ell</th>\n",
       "      <td></td>\n",
       "      <td></td>\n",
       "      <td></td>\n",
       "      <td>0.082345</td>\n",
       "      <td>0.074095</td>\n",
       "    </tr>\n",
       "    <tr>\n",
       "      <th>MU</th>\n",
       "      <td></td>\n",
       "      <td></td>\n",
       "      <td></td>\n",
       "      <td></td>\n",
       "      <td>1.488149</td>\n",
       "    </tr>\n",
       "  </tbody>\n",
       "</table>\n",
       "</div>"
      ],
      "text/plain": [
       "                                       Base   Alt. spec.    Socioeco.  \\\n",
       "Number of estimated parameters            5            8           10   \n",
       "Sample size                            5000         5000         5000   \n",
       "Final log likelihood           -4837.640324 -4375.849966 -4120.895316   \n",
       "Akaike Information Criterion    9685.280647  8767.699933  8261.790631   \n",
       "Bayesian Information Criterion  9717.866613  8819.837478  8326.962563   \n",
       "beta_cost                         -0.217267    -0.202341    -0.194949   \n",
       "beta_time                         -4.583652                             \n",
       "constant_2                        -3.407951    -4.548469    -3.577606   \n",
       "constant_3                        -0.306573    -2.497109    -1.307433   \n",
       "constant_4                        -0.956693    -1.853711    -2.762014   \n",
       "beta_time_1                                    -8.529398   -16.126538   \n",
       "beta_time_2                                     -5.58431   -13.769144   \n",
       "beta_time_3                                    -3.147052    -8.653043   \n",
       "beta_time_4                                    -6.858916   -16.257464   \n",
       "beta_fuel_type_123                                           2.430359   \n",
       "beta_fuel_type_45                                             2.95718   \n",
       "ell                                                                     \n",
       "MU                                                                      \n",
       "\n",
       "                                 Nonlinear.      Nested.  \n",
       "Number of estimated parameters           11           12  \n",
       "Sample size                            5000         5000  \n",
       "Final log likelihood            -3892.39823  -3883.92638  \n",
       "Akaike Information Criterion    7806.796459   7791.85276  \n",
       "Bayesian Information Criterion  7878.485585  7870.059078  \n",
       "beta_cost                         -0.212166    -0.143401  \n",
       "beta_time                                                 \n",
       "constant_2                        -4.596789    -3.626451  \n",
       "constant_3                        -2.590865    -2.280683  \n",
       "constant_4                        -3.723677    -3.049967  \n",
       "beta_time_1                       -9.315314    -8.514422  \n",
       "beta_time_2                       -5.640613    -3.747696  \n",
       "beta_time_3                       -2.975948    -1.969282  \n",
       "beta_time_4                       -6.807138     -4.65137  \n",
       "beta_fuel_type_123                 2.408309     1.702253  \n",
       "beta_fuel_type_45                  3.131389      2.28357  \n",
       "ell                                0.082345     0.074095  \n",
       "MU                                              1.488149  "
      ]
     },
     "execution_count": 64,
     "metadata": {},
     "output_type": "execute_result"
    }
   ],
   "source": [
    "res.compileEstimationResults(all_results)"
   ]
  },
  {
   "cell_type": "markdown",
   "id": "6efe46d5",
   "metadata": {},
   "source": [
    "# Market shares"
   ]
  },
  {
   "cell_type": "markdown",
   "id": "a4a26ed8",
   "metadata": {},
   "source": [
    "We consider four segments of the population, characterized by two age categories  (41 or older, and 40 or younger), and gender. "
   ]
  },
  {
   "cell_type": "markdown",
   "id": "2cb00ceb",
   "metadata": {},
   "source": [
    "The census data report the following number $N_g$ of individuals in each segment $g$."
   ]
  },
  {
   "cell_type": "code",
   "execution_count": 65,
   "id": "946e84cc",
   "metadata": {},
   "outputs": [],
   "source": [
    "census = {\n",
    "    'male_41_more':  1633263,\n",
    "    'male_40_less':  2676249,\n",
    "    'female_41_more':  1765143,\n",
    "    'female_40_less':  2599058,\n",
    "}"
   ]
  },
  {
   "cell_type": "markdown",
   "id": "04acb320",
   "metadata": {},
   "source": [
    "The total size $N$ of the population is the sum over all segments."
   ]
  },
  {
   "cell_type": "code",
   "execution_count": 66,
   "id": "09eaf75f",
   "metadata": {},
   "outputs": [
    {
     "data": {
      "text/plain": [
       "8673713"
      ]
     },
     "execution_count": 66,
     "metadata": {},
     "output_type": "execute_result"
    }
   ],
   "source": [
    "total = sum(census.values())\n",
    "total"
   ]
  },
  {
   "cell_type": "markdown",
   "id": "c5858bd8",
   "metadata": {},
   "source": [
    "Identify each segment in the database."
   ]
  },
  {
   "cell_type": "code",
   "execution_count": 67,
   "id": "91133473",
   "metadata": {},
   "outputs": [],
   "source": [
    "filters = {\n",
    "    'male_41_more': (df.age > 40) & (df.female == 0),\n",
    "    'male_40_less': (df.age <= 40) & (df.female == 0),\n",
    "    'female_41_more': (df.age > 40) & (df.female == 1),\n",
    "    'female_40_less': (df.age <= 40) & (df.female == 1),\n",
    "}"
   ]
  },
  {
   "cell_type": "markdown",
   "id": "a094fffc",
   "metadata": {},
   "source": [
    "We count the number \n",
    "$S_g$ of individuals in each segment $g$ in the sample."
   ]
  },
  {
   "cell_type": "code",
   "execution_count": 68,
   "id": "e15e08ad",
   "metadata": {},
   "outputs": [
    {
     "data": {
      "text/plain": [
       "{'male_41_more': 1122,\n",
       " 'male_40_less': 1236,\n",
       " 'female_41_more': 1166,\n",
       " 'female_40_less': 1476}"
      ]
     },
     "execution_count": 68,
     "metadata": {},
     "output_type": "execute_result"
    }
   ],
   "source": [
    "sample_segments = {\n",
    "    k: v.sum() for k, v in filters.items()\n",
    "}\n",
    "sample_segments"
   ]
  },
  {
   "cell_type": "markdown",
   "id": "2e159875",
   "metadata": {},
   "source": [
    "We check the total sample size $S$."
   ]
  },
  {
   "cell_type": "code",
   "execution_count": 69,
   "id": "9e0b1bef",
   "metadata": {},
   "outputs": [
    {
     "data": {
      "text/plain": [
       "5000"
      ]
     },
     "execution_count": 69,
     "metadata": {},
     "output_type": "execute_result"
    }
   ],
   "source": [
    "total_sample = sum(sample_segments.values())\n",
    "total_sample"
   ]
  },
  {
   "cell_type": "markdown",
   "id": "b549489d",
   "metadata": {},
   "source": [
    "The weight $w_g$ associated with segment $g$ is defined as\n",
    "$$\n",
    "w_g = \\frac{N_g}{N}\\frac{S}{S_g}.\n",
    "$$"
   ]
  },
  {
   "cell_type": "code",
   "execution_count": 70,
   "id": "19d76c55",
   "metadata": {},
   "outputs": [
    {
     "data": {
      "text/plain": [
       "{'male_41_more': 0.8391280199118027,\n",
       " 'male_40_less': 1.2481678838116963,\n",
       " 'female_41_more': 0.8726624736367851,\n",
       " 'female_40_less': 1.015066675479139}"
      ]
     },
     "execution_count": 70,
     "metadata": {},
     "output_type": "execute_result"
    }
   ],
   "source": [
    "weights = {\n",
    "    k: census[k] * total_sample / (v * total) \n",
    "    for k, v in sample_segments.items()\n",
    "}\n",
    "weights"
   ]
  },
  {
   "cell_type": "markdown",
   "id": "4116dc24",
   "metadata": {},
   "source": [
    "We insert the weight as a new column in the database."
   ]
  },
  {
   "cell_type": "code",
   "execution_count": 71,
   "id": "bec4df8e",
   "metadata": {},
   "outputs": [],
   "source": [
    "for k, f in filters.items():\n",
    "    df.loc[f, 'Weight'] = weights[k] "
   ]
  },
  {
   "cell_type": "markdown",
   "id": "3f27fab4",
   "metadata": {},
   "source": [
    "We check that the sum of the weights is the sample size."
   ]
  },
  {
   "cell_type": "code",
   "execution_count": 72,
   "id": "ecd3ba85",
   "metadata": {},
   "outputs": [
    {
     "data": {
      "text/plain": [
       "5000.0"
      ]
     },
     "execution_count": 72,
     "metadata": {},
     "output_type": "execute_result"
    }
   ],
   "source": [
    "sum_weights = df['Weight'].sum()\n",
    "sum_weights"
   ]
  },
  {
   "cell_type": "markdown",
   "id": "78deab4d",
   "metadata": {},
   "source": [
    "# Perform sample enumeration"
   ]
  },
  {
   "cell_type": "code",
   "execution_count": 73,
   "id": "df6e5ade",
   "metadata": {},
   "outputs": [],
   "source": [
    "biogeme_nested = bio.BIOGEME(database, logprob_nested)\n",
    "biogeme_nested.modelName = 'logit_lpmc_nested'\n",
    "results = biogeme_nested.estimate()"
   ]
  },
  {
   "cell_type": "markdown",
   "id": "9d2d7fc0",
   "metadata": {},
   "source": [
    "We calculate the choice probability of each alternative for each observation. We include the weight in the simulation results."
   ]
  },
  {
   "cell_type": "code",
   "execution_count": 74,
   "id": "1e483ab9",
   "metadata": {},
   "outputs": [],
   "source": [
    "Weight = Variable('Weight')"
   ]
  },
  {
   "cell_type": "code",
   "execution_count": 75,
   "id": "1c5a829b",
   "metadata": {},
   "outputs": [],
   "source": [
    "prob_walk = models.nested(V_nonlinear, None, nests, 1)\n",
    "prob_bike = models.nested(V_nonlinear, None, nests, 2)\n",
    "prob_tran = models.nested(V_nonlinear, None, nests, 3)\n",
    "prob_auto = models.nested(V_nonlinear, None, nests, 4)"
   ]
  },
  {
   "cell_type": "code",
   "execution_count": 76,
   "id": "7d2480b0",
   "metadata": {},
   "outputs": [],
   "source": [
    "simulate = {\n",
    "    'Weight': Weight,\n",
    "    'Prob. walk': prob_walk,\n",
    "    'Prob. bike': prob_bike,\n",
    "    'Prob. tran': prob_tran,\n",
    "    'Prob. auto': prob_auto,\n",
    "}"
   ]
  },
  {
   "cell_type": "code",
   "execution_count": 77,
   "id": "53ef4e0f",
   "metadata": {},
   "outputs": [],
   "source": [
    "biosim = bio.BIOGEME(database, simulate)\n",
    "simulated_values = biosim.simulate(results.getBetaValues())"
   ]
  },
  {
   "cell_type": "code",
   "execution_count": 78,
   "id": "aa8cce38",
   "metadata": {},
   "outputs": [],
   "source": [
    "simulated_values['walk'] = (df.travel_mode==1).astype(int)\n",
    "simulated_values['bike'] = (df.travel_mode==2).astype(int)\n",
    "simulated_values['tran'] = (df.travel_mode==3).astype(int)\n",
    "simulated_values['auto'] = (df.travel_mode==4).astype(int)"
   ]
  },
  {
   "cell_type": "markdown",
   "id": "093f9b45",
   "metadata": {},
   "source": [
    "Market shares are calculated using the weighted mean of the\n",
    "individual probabilities."
   ]
  },
  {
   "cell_type": "code",
   "execution_count": 79,
   "id": "26aea79c",
   "metadata": {},
   "outputs": [],
   "source": [
    "simulated_values['Weighted walk'] = (\n",
    "    simulated_values['Weight'] * \n",
    "    simulated_values['Prob. walk']\n",
    ")\n",
    "simulated_values['Weighted bike'] = (\n",
    "    simulated_values['Weight'] * \n",
    "    simulated_values['Prob. bike']\n",
    ")\n",
    "simulated_values['Weighted tran'] = (\n",
    "    simulated_values['Weight'] * \n",
    "    simulated_values['Prob. tran']\n",
    ")\n",
    "simulated_values['Weighted auto'] = (\n",
    "    simulated_values['Weight'] * \n",
    "    simulated_values['Prob. auto']\n",
    ")"
   ]
  },
  {
   "cell_type": "code",
   "execution_count": 80,
   "id": "5465d5f4",
   "metadata": {},
   "outputs": [
    {
     "name": "stdout",
     "output_type": "stream",
     "text": [
      "Market share for walk: 17.0%\n",
      "Market share for bike: 3.7%\n",
      "Market share for tran: 34.9%\n",
      "Market share for auto: 44.4%\n"
     ]
    }
   ],
   "source": [
    "market_share_walk = simulated_values['Weighted walk'].mean()\n",
    "print(f'Market share for walk: {100*market_share_walk:.1f}%')\n",
    "market_share_bike = simulated_values['Weighted bike'].mean()\n",
    "print(f'Market share for bike: {100*market_share_bike:.1f}%')\n",
    "market_share_tran = simulated_values['Weighted tran'].mean()\n",
    "print(f'Market share for tran: {100*market_share_tran:.1f}%')\n",
    "market_share_auto = simulated_values['Weighted auto'].mean()\n",
    "print(f'Market share for auto: {100*market_share_auto:.1f}%')"
   ]
  },
  {
   "cell_type": "code",
   "execution_count": 81,
   "id": "adf74936",
   "metadata": {},
   "outputs": [],
   "source": [
    "simulated_values['Choose walk'] = (\n",
    "    simulated_values['Weight'] * \n",
    "    simulated_values['walk']\n",
    ")\n",
    "simulated_values['Choose bike'] = (\n",
    "    simulated_values['Weight'] * \n",
    "    simulated_values['bike']\n",
    ")\n",
    "simulated_values['Choose tran'] = (\n",
    "    simulated_values['Weight'] * \n",
    "    simulated_values['tran']\n",
    ")\n",
    "simulated_values['Choose auto'] = (\n",
    "    simulated_values['Weight'] * \n",
    "    simulated_values['auto']\n",
    ")"
   ]
  },
  {
   "cell_type": "code",
   "execution_count": 82,
   "id": "4525d374",
   "metadata": {},
   "outputs": [
    {
     "name": "stdout",
     "output_type": "stream",
     "text": [
      "Real share for walk: 17.2%\n",
      "Real share for bike: 3.8%\n",
      "Real share for tran: 35.1%\n",
      "Real share for auto: 43.9%\n"
     ]
    }
   ],
   "source": [
    "real_share_walk = simulated_values['Choose walk'].mean()\n",
    "print(f'Real share for walk: {100*real_share_walk:.1f}%')\n",
    "real_share_bike = simulated_values['Choose bike'].mean()\n",
    "print(f'Real share for bike: {100*real_share_bike:.1f}%')\n",
    "real_share_tran = simulated_values['Choose tran'].mean()\n",
    "print(f'Real share for tran: {100*real_share_tran:.1f}%')\n",
    "real_share_auto = simulated_values['Choose auto'].mean()\n",
    "print(f'Real share for auto: {100*real_share_auto:.1f}%')"
   ]
  },
  {
   "cell_type": "markdown",
   "id": "ca8927a9",
   "metadata": {},
   "source": [
    "# Confidence intervals"
   ]
  },
  {
   "cell_type": "markdown",
   "id": "1c6324f8",
   "metadata": {},
   "source": [
    "In order to calculate confidence intervals, we need to re-estimate the parameters using bootstrapping."
   ]
  },
  {
   "cell_type": "code",
   "execution_count": 83,
   "id": "4b537962",
   "metadata": {},
   "outputs": [
    {
     "name": "stderr",
     "output_type": "stream",
     "text": [
      "100%|█████████████████████████████████████████| 100/100 [02:07<00:00,  1.27s/it]\n"
     ]
    }
   ],
   "source": [
    "results_bootstrapping = biogeme_nested.estimate(bootstrap=100)"
   ]
  },
  {
   "cell_type": "markdown",
   "id": "e8192bb4",
   "metadata": {},
   "source": [
    "We obtain a sample of values for the parameters. We use then to calculate empirically (that is, using simulation), the 90% confidence intervals on the simulated quantities."
   ]
  },
  {
   "cell_type": "code",
   "execution_count": 84,
   "id": "130c7c35",
   "metadata": {},
   "outputs": [],
   "source": [
    "betas = biogeme_nested.freeBetaNames()\n",
    "b = results_bootstrapping.getBetasForSensitivityAnalysis(betas)"
   ]
  },
  {
   "cell_type": "code",
   "execution_count": 85,
   "id": "2ab35299",
   "metadata": {},
   "outputs": [],
   "source": [
    "left, right = biosim.confidenceIntervals(b, 0.9)"
   ]
  },
  {
   "cell_type": "code",
   "execution_count": 86,
   "id": "d94e7c4b",
   "metadata": {},
   "outputs": [],
   "source": [
    "left['Weighted walk'] = (\n",
    "    left['Weight'] * \n",
    "    left['Prob. walk']\n",
    ")\n",
    "left['Weighted bike'] = (\n",
    "    left['Weight'] * \n",
    "    left['Prob. bike']\n",
    ")\n",
    "left['Weighted tran'] = (\n",
    "    left['Weight'] * \n",
    "    left['Prob. tran']\n",
    ")\n",
    "left['Weighted auto'] = (\n",
    "    left['Weight'] * \n",
    "    left['Prob. auto']\n",
    ")"
   ]
  },
  {
   "cell_type": "code",
   "execution_count": 87,
   "id": "d2ca217b",
   "metadata": {},
   "outputs": [],
   "source": [
    "left_market_share_walk = left['Weighted walk'].mean()\n",
    "left_market_share_bike = left['Weighted bike'].mean()\n",
    "left_market_share_tran = left['Weighted tran'].mean()\n",
    "left_market_share_auto = left['Weighted auto'].mean()"
   ]
  },
  {
   "cell_type": "code",
   "execution_count": 88,
   "id": "8ae8490d",
   "metadata": {},
   "outputs": [],
   "source": [
    "right['Weighted walk'] = (\n",
    "    right['Weight'] * \n",
    "    right['Prob. walk']\n",
    ")\n",
    "right['Weighted bike'] = (\n",
    "    right['Weight'] * \n",
    "    right['Prob. bike']\n",
    ")\n",
    "right['Weighted tran'] = (\n",
    "    right['Weight'] * \n",
    "    right['Prob. tran']\n",
    ")\n",
    "right['Weighted auto'] = (\n",
    "    right['Weight'] * \n",
    "    right['Prob. auto']\n",
    ")"
   ]
  },
  {
   "cell_type": "code",
   "execution_count": 89,
   "id": "0ac35306",
   "metadata": {},
   "outputs": [],
   "source": [
    "right_market_share_walk = right['Weighted walk'].mean()\n",
    "right_market_share_bike = right['Weighted bike'].mean()\n",
    "right_market_share_tran = right['Weighted tran'].mean()\n",
    "right_market_share_auto = right['Weighted auto'].mean()"
   ]
  },
  {
   "cell_type": "code",
   "execution_count": 90,
   "id": "1a2d4739",
   "metadata": {},
   "outputs": [
    {
     "name": "stdout",
     "output_type": "stream",
     "text": [
      "Market share for walk: 17.0% CI: [15.6%-18.5]\n"
     ]
    }
   ],
   "source": [
    "print(\n",
    "    f'Market share for walk: {100*market_share_walk:.1f}% '\n",
    "    f'CI: ['\n",
    "    f'{100*left_market_share_walk:.1f}%-'\n",
    "    f'{100*right_market_share_walk:.1f}'\n",
    "    f']'\n",
    ")"
   ]
  },
  {
   "cell_type": "code",
   "execution_count": 91,
   "id": "5bc8bb5b",
   "metadata": {},
   "outputs": [
    {
     "name": "stdout",
     "output_type": "stream",
     "text": [
      "Market share for bike: 3.7% CI: [3.1%-4.4]\n"
     ]
    }
   ],
   "source": [
    "print(\n",
    "    f'Market share for bike: {100*market_share_bike:.1f}% '\n",
    "    f'CI: ['\n",
    "    f'{100*left_market_share_bike:.1f}%-'\n",
    "    f'{100*right_market_share_bike:.1f}'\n",
    "    f']'\n",
    ")"
   ]
  },
  {
   "cell_type": "code",
   "execution_count": 92,
   "id": "e6620c9f",
   "metadata": {},
   "outputs": [
    {
     "name": "stdout",
     "output_type": "stream",
     "text": [
      "Market share for tran: 34.9% CI: [32.8%-37.0]\n"
     ]
    }
   ],
   "source": [
    "print(\n",
    "    f'Market share for tran: {100*market_share_tran:.1f}% '\n",
    "    f'CI: ['\n",
    "    f'{100*left_market_share_tran:.1f}%-'\n",
    "    f'{100*right_market_share_tran:.1f}'\n",
    "    f']'\n",
    ")"
   ]
  },
  {
   "cell_type": "code",
   "execution_count": 93,
   "id": "2faec096",
   "metadata": {},
   "outputs": [
    {
     "name": "stdout",
     "output_type": "stream",
     "text": [
      "Market share for auto: 44.4% CI: [42.2%-46.5]\n"
     ]
    }
   ],
   "source": [
    "print(\n",
    "    f'Market share for auto: {100*market_share_auto:.1f}% '\n",
    "    f'CI: ['\n",
    "    f'{100*left_market_share_auto:.1f}%-'\n",
    "    f'{100*right_market_share_auto:.1f}'\n",
    "    f']'\n",
    ")"
   ]
  },
  {
   "cell_type": "markdown",
   "id": "7d24472d",
   "metadata": {},
   "source": [
    "# Forecasting"
   ]
  },
  {
   "cell_type": "markdown",
   "id": "5fe27010",
   "metadata": {},
   "source": [
    "Consider the following scenarios: (i) an increase of car cost by 15%; and (ii) a decrease of public transport cost by 15%."
   ]
  },
  {
   "cell_type": "code",
   "execution_count": 94,
   "id": "33dddf86",
   "metadata": {},
   "outputs": [],
   "source": [
    "def forecasting(scales=[1, 1]):\n",
    "    ell = Beta('ell', 1, None, None, 0)\n",
    "    constant_2 = Beta('constant_2', 0, None, None, 0)\n",
    "    constant_3 = Beta('constant_3', 0, None, None, 0)\n",
    "    constant_4 = Beta('constant_4', 0, None, None, 0)\n",
    "    beta_cost = Beta('beta_cost', 0, None, None, 0)\n",
    "    beta_time_1 = Beta('beta_time_1', 0, None, None, 0)\n",
    "    beta_time_2 = Beta('beta_time_2', 0, None, None, 0)\n",
    "    beta_time_3 = Beta('beta_time_3', 0, None, None, 0)\n",
    "    beta_time_4 = Beta('beta_time_4', 0, None, None, 0)\n",
    "    beta_fuel_type_123 = Beta('beta_fuel_type_123', 0, None, None, 0)\n",
    "    beta_fuel_type_45 = Beta('beta_fuel_type_45', 0, None, None, 0)\n",
    "    Opt1_scenario = (beta_time_1 * dur_walking * (age / 100)**ell)\n",
    "    Opt2_scenario = (constant_2 + beta_time_2 * dur_cycling * (age / 100)**ell)\n",
    "    Opt3_scenario = (constant_3 + beta_cost * scales[0] * cost_pt + beta_time_3 * dur_pt *\n",
    "                     (age / 100)**ell)\n",
    "    Opt4_scenario = (constant_4 + beta_cost * scales[1] * cost_driving +\n",
    "                     beta_time_4 * dur_driving * (age / 100)**ell + beta_fuel_type_123 *\n",
    "                     ((fueltype == 1) | (fueltype == 2) | (fueltype == 3) |\n",
    "                      (fueltype == 4)) + beta_fuel_type_45 * ((fueltype == 4) |\n",
    "                                                              (fueltype == 5)))\n",
    "    V_scenario = {\n",
    "        1: Opt1_scenario,\n",
    "        2: Opt2_scenario,\n",
    "        3: Opt3_scenario,\n",
    "        4: Opt4_scenario\n",
    "    }\n",
    "    prob_walk_scenario = models.nested(V_scenario, None, nests, 1)\n",
    "    prob_bike_scenario = models.nested(V_scenario, None, nests, 2)\n",
    "    prob_tran_scenario = models.nested(V_scenario, None, nests, 3)\n",
    "    prob_auto_scenario = models.nested(V_scenario, None, nests, 4)\n",
    "    vot_pt = Derive(Opt3_scenario, 'dur_pt') / Derive(Opt3_scenario, 'cost_pt')\n",
    "    vot_driving = Derive(Opt4_scenario, 'dur_driving') / Derive(\n",
    "        Opt4_scenario, 'cost_driving')\n",
    "    direct_elas_pt_cost = (Derive(prob_tran_scenario, 'cost_pt') * cost_pt /\n",
    "                           prob_tran_scenario)\n",
    "    cross_elas_pt_cost = (Derive(prob_tran_scenario, 'cost_driving') * cost_driving /\n",
    "                           prob_tran_scenario)\n",
    "    direct_elas_auto_cost = (Derive(prob_auto_scenario, 'cost_driving') * cost_driving /\n",
    "                           prob_auto_scenario)\n",
    "    cross_elas_auto_cost = (Derive(prob_auto_scenario, 'cost_pt') * cost_pt /\n",
    "                           prob_auto_scenario)\n",
    "    simulate_scenario = {\n",
    "        'Weight': Weight,\n",
    "        'Prob. walk': prob_walk_scenario,\n",
    "        'Prob. bike': prob_bike_scenario,\n",
    "        'Prob. tran': prob_tran_scenario,\n",
    "        'Prob. auto': prob_auto_scenario,\n",
    "        'Revenue': prob_tran_scenario * scales[0] * cost_pt,\n",
    "        'vot_pt': vot_pt,\n",
    "        'vot_driving': vot_driving,\n",
    "        'cost_pt': cost_pt,\n",
    "        'cost_driving': cost_driving,\n",
    "        'dur_pt': dur_pt,\n",
    "        'dur_driving': dur_driving,\n",
    "        'direct_elas_pt_cost': direct_elas_pt_cost,\n",
    "        'cross_elas_pt_cost': cross_elas_pt_cost,\n",
    "        'direct_elas_auto_cost': direct_elas_auto_cost,\n",
    "        'cross_elas_auto_cost': cross_elas_auto_cost,\n",
    "    }\n",
    "    biosim_scenario = bio.BIOGEME(database, simulate_scenario)\n",
    "    simulated_scenario = biosim_scenario.simulate(results.getBetaValues())\n",
    "    simulated_scenario['Weighted walk'] = (simulated_scenario['Weight'] *\n",
    "                                           simulated_scenario['Prob. walk'])\n",
    "    simulated_scenario['Weighted bike'] = (simulated_scenario['Weight'] *\n",
    "                                           simulated_scenario['Prob. bike'])\n",
    "    simulated_scenario['Weighted tran'] = (simulated_scenario['Weight'] *\n",
    "                                           simulated_scenario['Prob. tran'])\n",
    "    simulated_scenario['Weighted auto'] = (simulated_scenario['Weight'] *\n",
    "                                           simulated_scenario['Prob. auto'])\n",
    "    simulated_scenario['Total revenue'] = (simulated_scenario['Weight'] *\n",
    "                                           simulated_scenario['Revenue'])\n",
    "    return simulated_scenario"
   ]
  },
  {
   "cell_type": "code",
   "execution_count": 95,
   "id": "068d48d0",
   "metadata": {},
   "outputs": [],
   "source": [
    "simulated_scenario = forecasting(scales=[1,1.15])"
   ]
  },
  {
   "cell_type": "code",
   "execution_count": 96,
   "id": "b8ab262a",
   "metadata": {},
   "outputs": [
    {
     "name": "stdout",
     "output_type": "stream",
     "text": [
      "Market share for walk (increase of car cost by 15%): 17.1%\n",
      "Market share for bike (increase of car cost by 15%): 3.8%\n",
      "Market share for tran (increase of car cost by 15%): 35.3%\n",
      "Market share for auto (increase of car cost by 15%): 43.9%\n"
     ]
    }
   ],
   "source": [
    "market_share_walk_scenario = simulated_scenario['Weighted walk'].mean()\n",
    "print(f'Market share for walk (increase of car cost by 15%): {100*market_share_walk_scenario:.1f}%')\n",
    "market_share_bike_scenario = simulated_scenario['Weighted bike'].mean()\n",
    "print(f'Market share for bike (increase of car cost by 15%): {100*market_share_bike_scenario:.1f}%')\n",
    "market_share_tran_scenario = simulated_scenario['Weighted tran'].mean()\n",
    "print(f'Market share for tran (increase of car cost by 15%): {100*market_share_tran_scenario:.1f}%')\n",
    "market_share_auto_scenario = simulated_scenario['Weighted auto'].mean()\n",
    "print(f'Market share for auto (increase of car cost by 15%): {100*market_share_auto_scenario:.1f}%')"
   ]
  },
  {
   "cell_type": "code",
   "execution_count": 97,
   "id": "e613f1e0",
   "metadata": {},
   "outputs": [],
   "source": [
    "simulated_scenario = forecasting(scales=[.85,1])"
   ]
  },
  {
   "cell_type": "code",
   "execution_count": 98,
   "id": "6e883272",
   "metadata": {},
   "outputs": [
    {
     "name": "stdout",
     "output_type": "stream",
     "text": [
      "Market share for walk (decrease of pt cost by 15%): 17.0%\n",
      "Market share for bike (decrease of pt cost by 15%): 3.6%\n",
      "Market share for tran (decrease of pt cost by 15%): 35.5%\n",
      "Market share for auto (decrease of pt cost by 15%): 43.9%\n"
     ]
    }
   ],
   "source": [
    "market_share_walk_scenario = simulated_scenario['Weighted walk'].mean()\n",
    "print(\n",
    "    f'Market share for walk (decrease of pt cost by 15%): {100*market_share_walk_scenario:.1f}%'\n",
    ")\n",
    "market_share_bike_scenario = simulated_scenario['Weighted bike'].mean()\n",
    "print(\n",
    "    f'Market share for bike (decrease of pt cost by 15%): {100*market_share_bike_scenario:.1f}%'\n",
    ")\n",
    "market_share_tran_scenario = simulated_scenario['Weighted tran'].mean()\n",
    "print(\n",
    "    f'Market share for tran (decrease of pt cost by 15%): {100*market_share_tran_scenario:.1f}%'\n",
    ")\n",
    "market_share_auto_scenario = simulated_scenario['Weighted auto'].mean()\n",
    "print(\n",
    "    f'Market share for auto (decrease of pt cost by 15%): {100*market_share_auto_scenario:.1f}%'\n",
    ")"
   ]
  },
  {
   "cell_type": "markdown",
   "id": "d2b14f62",
   "metadata": {},
   "source": [
    "# Calculate the total revenues"
   ]
  },
  {
   "cell_type": "markdown",
   "id": "b1e85c20",
   "metadata": {},
   "source": [
    "Which scenario reports the highest public transportation total revenue? Explain why. Is it higher than the total revenue obtained without any of the policies? Can you explain why?"
   ]
  },
  {
   "cell_type": "code",
   "execution_count": 99,
   "id": "2dbbab0a",
   "metadata": {},
   "outputs": [
    {
     "data": {
      "text/plain": [
       "2827.8972485518107"
      ]
     },
     "execution_count": 99,
     "metadata": {},
     "output_type": "execute_result"
    }
   ],
   "source": [
    "simulated_scenario = forecasting(scales=[.85,1])\n",
    "simulated_scenario['Total revenue'].sum()"
   ]
  },
  {
   "cell_type": "code",
   "execution_count": 100,
   "id": "a1b62bf1",
   "metadata": {},
   "outputs": [
    {
     "data": {
      "text/plain": [
       "3275.849192704089"
      ]
     },
     "execution_count": 100,
     "metadata": {},
     "output_type": "execute_result"
    }
   ],
   "source": [
    "simulated_scenario = forecasting(scales=[1,1.15])\n",
    "simulated_scenario['Total revenue'].sum()"
   ]
  },
  {
   "cell_type": "code",
   "execution_count": 101,
   "id": "5be96a3f",
   "metadata": {},
   "outputs": [
    {
     "data": {
      "text/plain": [
       "3226.745109405945"
      ]
     },
     "execution_count": 101,
     "metadata": {},
     "output_type": "execute_result"
    }
   ],
   "source": [
    "base_scenario = forecasting(scales=[1,1])\n",
    "base_scenario['Total revenue'].sum()"
   ]
  },
  {
   "cell_type": "markdown",
   "id": "645da8c6",
   "metadata": {},
   "source": [
    "# Value of time"
   ]
  },
  {
   "cell_type": "markdown",
   "id": "3db21d2d",
   "metadata": {},
   "source": [
    "Calculate the average value of time for car and public transportation. Comment on the obtained results."
   ]
  },
  {
   "cell_type": "markdown",
   "id": "c1766b91",
   "metadata": {},
   "source": [
    "We now calculate the value of time, that is the willingess to pay to save travel time."
   ]
  },
  {
   "cell_type": "code",
   "execution_count": 102,
   "id": "b02f1793",
   "metadata": {},
   "outputs": [],
   "source": [
    "base_scenario.loc[base_scenario.cost_pt == 0, 'vot_pt'] = 0\n",
    "base_scenario.loc[base_scenario.cost_driving == 0, 'vot_driving'] = 0"
   ]
  },
  {
   "cell_type": "code",
   "execution_count": 103,
   "id": "35f2131b",
   "metadata": {},
   "outputs": [
    {
     "data": {
      "image/png": "[encoded data removed]",
      "text/plain": [
       "<Figure size 640x480 with 1 Axes>"
      ]
     },
     "metadata": {},
     "output_type": "display_data"
    }
   ],
   "source": [
    "_ = base_scenario[base_scenario['vot_pt'] != 0]['vot_pt'].hist(bins=200)"
   ]
  },
  {
   "cell_type": "code",
   "execution_count": 104,
   "id": "58485104",
   "metadata": {},
   "outputs": [],
   "source": [
    "avg_vot_pt = (\n",
    "    base_scenario['vot_pt'] * \n",
    "    base_scenario['Weight']\n",
    ").sum() / base_scenario['Weight'].sum()"
   ]
  },
  {
   "cell_type": "code",
   "execution_count": 105,
   "id": "65a7bf54",
   "metadata": {},
   "outputs": [
    {
     "name": "stdout",
     "output_type": "stream",
     "text": [
      "Average value of time for PT: 8.45 GBP/hour\n"
     ]
    }
   ],
   "source": [
    "print(f'Average value of time for PT: {avg_vot_pt:.3g} GBP/hour')"
   ]
  },
  {
   "cell_type": "code",
   "execution_count": 106,
   "id": "fc317adf",
   "metadata": {},
   "outputs": [
    {
     "data": {
      "image/png": "[encoded data removed]",
      "text/plain": [
       "<Figure size 640x480 with 1 Axes>"
      ]
     },
     "metadata": {},
     "output_type": "display_data"
    }
   ],
   "source": [
    "_ = base_scenario[base_scenario['vot_driving'] != 0]['vot_driving'].hist(bins=200)"
   ]
  },
  {
   "cell_type": "code",
   "execution_count": 107,
   "id": "bc3aad96",
   "metadata": {},
   "outputs": [],
   "source": [
    "avg_driving = (\n",
    "    base_scenario['vot_driving'] * \n",
    "    base_scenario['Weight']\n",
    ").sum() / base_scenario['Weight'].sum()"
   ]
  },
  {
   "cell_type": "code",
   "execution_count": 108,
   "id": "bd765aa0",
   "metadata": {},
   "outputs": [
    {
     "name": "stdout",
     "output_type": "stream",
     "text": [
      "Average value of time for car: 29.8 GBP/hour\n"
     ]
    }
   ],
   "source": [
    "print(f'Average value of time for car: {avg_driving:.3g} GBP/hour')"
   ]
  },
  {
   "cell_type": "markdown",
   "id": "defc8f4b",
   "metadata": {},
   "source": [
    "# Elasticities"
   ]
  },
  {
   "cell_type": "markdown",
   "id": "8a8033b5",
   "metadata": {},
   "source": [
    "Compute the direct and cross aggregate elasticities of car cost and public transport cost and comment on the obtained results. Report the normalization factors."
   ]
  },
  {
   "cell_type": "markdown",
   "id": "bbb402d4",
   "metadata": {},
   "source": [
    "The direct point elasticity of travel cost for public transportation is defined as \n",
    "$$ E_\\text{cost}^{P_n(\\text{PT})} = \\frac{\\partial P_n(\\text{PT})}{\\partial \\text{cost(PT)}} \\frac{\\text{cost(PT)}}{P_n(\\text{PT})}.$$"
   ]
  },
  {
   "cell_type": "markdown",
   "id": "60bf6dc1",
   "metadata": {},
   "source": [
    "The cross point elasticity of travel cost for public transportation is defined as \n",
    "$$ E_\\text{cost}^{P_n(\\text{PT})} = \\frac{\\partial P_n(\\text{PT})}{\\partial \\text{cost(car)}} \\frac{\\text{cost(car)}}{P_n(\\text{PT})}.$$"
   ]
  },
  {
   "cell_type": "markdown",
   "id": "cf04dc38",
   "metadata": {},
   "source": [
    "The direct point elasticity of travel cost for car is defined as \n",
    "$$ E_\\text{cost}^{P_n(\\text{car})} = \\frac{\\partial P_n(\\text{car})}{\\partial \\text{cost(car)}} \\frac{\\text{cost(car)}}{P_n(\\text{car})}.$$"
   ]
  },
  {
   "cell_type": "markdown",
   "id": "a21ecf76",
   "metadata": {},
   "source": [
    "The cross point elasticity of travel cost for car is defined as \n",
    "$$ E_\\text{cost}^{P_n(\\text{car})} = \\frac{\\partial P_n(\\text{car})}{\\partial \\text{cost(PT)}} \\frac{\\text{cost(PT)}}{P_n(\\text{car})}.$$"
   ]
  },
  {
   "cell_type": "markdown",
   "id": "572f62c5",
   "metadata": {},
   "source": [
    "Aggregate elasticities capture the relative change at the level of the market shares. They can be derived from disaggregate elasticities using the following formula:\n",
    "$$E^{\\widehat{W}(i)}_{x_{jk}}  =\\frac{1}{\\sum_{\\ell=1}^{N} \\omega_\\ell P_\\ell(i)}\\sum_{n=1}^{N}\\omega_n \n",
    "  P_n(i) E^{P_n(i)}_{x_{jnk}}.$$"
   ]
  },
  {
   "cell_type": "code",
   "execution_count": 109,
   "id": "949c56a8",
   "metadata": {},
   "outputs": [],
   "source": [
    "base_scenario['numerator_pt_direct'] = (\n",
    "    base_scenario['Weight'] *\n",
    "    base_scenario['Prob. tran'] *\n",
    "    base_scenario['direct_elas_pt_cost']\n",
    ")"
   ]
  },
  {
   "cell_type": "code",
   "execution_count": 110,
   "id": "0b46f9b4",
   "metadata": {},
   "outputs": [],
   "source": [
    "base_scenario['numerator_pt_cross'] = (\n",
    "    base_scenario['Weight'] *\n",
    "    base_scenario['Prob. tran'] *\n",
    "    base_scenario['cross_elas_pt_cost']\n",
    ")"
   ]
  },
  {
   "cell_type": "code",
   "execution_count": 111,
   "id": "dcac427a",
   "metadata": {},
   "outputs": [],
   "source": [
    "base_scenario['denominator_pt'] = (\n",
    "    base_scenario['Weight'] *\n",
    "    base_scenario['Prob. tran']\n",
    ")"
   ]
  },
  {
   "cell_type": "code",
   "execution_count": 112,
   "id": "1c6e06a6",
   "metadata": {},
   "outputs": [
    {
     "data": {
      "text/plain": [
       "-0.12918880497875326"
      ]
     },
     "execution_count": 112,
     "metadata": {},
     "output_type": "execute_result"
    }
   ],
   "source": [
    "agg_elast_pt_direct = base_scenario['numerator_pt_direct'].sum(\n",
    ") / base_scenario['denominator_pt'].sum()\n",
    "agg_elast_pt_direct"
   ]
  },
  {
   "cell_type": "code",
   "execution_count": 113,
   "id": "b09a422b",
   "metadata": {},
   "outputs": [
    {
     "data": {
      "text/plain": [
       "0.08343911311705098"
      ]
     },
     "execution_count": 113,
     "metadata": {},
     "output_type": "execute_result"
    }
   ],
   "source": [
    "agg_elast_pt_cross = base_scenario['numerator_pt_cross'].sum(\n",
    ") / base_scenario['denominator_pt'].sum()\n",
    "agg_elast_pt_cross"
   ]
  },
  {
   "cell_type": "code",
   "execution_count": 114,
   "id": "e71b4223",
   "metadata": {},
   "outputs": [],
   "source": [
    "base_scenario['numerator_auto_direct'] = (\n",
    "    base_scenario['Weight'] *\n",
    "    base_scenario['Prob. auto'] *\n",
    "    base_scenario['direct_elas_auto_cost']\n",
    ")"
   ]
  },
  {
   "cell_type": "code",
   "execution_count": 115,
   "id": "c0436b15",
   "metadata": {},
   "outputs": [],
   "source": [
    "base_scenario['numerator_auto_cross'] = (\n",
    "    base_scenario['Weight'] *\n",
    "    base_scenario['Prob. auto'] *\n",
    "    base_scenario['cross_elas_auto_cost']\n",
    ")"
   ]
  },
  {
   "cell_type": "code",
   "execution_count": 116,
   "id": "c9f7b950",
   "metadata": {},
   "outputs": [],
   "source": [
    "base_scenario['denominator_auto'] = (\n",
    "    base_scenario['Weight'] *\n",
    "    base_scenario['Prob. auto']\n",
    ")"
   ]
  },
  {
   "cell_type": "code",
   "execution_count": 117,
   "id": "32064750",
   "metadata": {},
   "outputs": [
    {
     "data": {
      "text/plain": [
       "-0.0774690927114544"
      ]
     },
     "execution_count": 117,
     "metadata": {},
     "output_type": "execute_result"
    }
   ],
   "source": [
    "agg_elast_auto_direct = base_scenario['numerator_auto_direct'].sum(\n",
    ") / base_scenario['denominator_auto'].sum()\n",
    "agg_elast_auto_direct"
   ]
  },
  {
   "cell_type": "code",
   "execution_count": 118,
   "id": "382a12eb",
   "metadata": {},
   "outputs": [
    {
     "data": {
      "text/plain": [
       "0.07660064598098186"
      ]
     },
     "execution_count": 118,
     "metadata": {},
     "output_type": "execute_result"
    }
   ],
   "source": [
    "agg_elast_auto_cross = base_scenario['numerator_auto_cross'].sum(\n",
    ") / base_scenario['denominator_auto'].sum()\n",
    "agg_elast_auto_cross"
   ]
  },
  {
   "cell_type": "markdown",
   "id": "4f1e6e52",
   "metadata": {},
   "source": [
    "We note that the demand is inelastic for both those indicators, as they are less than one (in absolute value)."
   ]
  },
  {
   "cell_type": "code",
   "execution_count": null,
   "id": "533171a2",
   "metadata": {},
   "outputs": [],
   "source": []
  }
 ],
 "metadata": {
  "kernelspec": {
   "display_name": "Python 3 (ipykernel)",
   "language": "python",
   "name": "python3"
  },
  "language_info": {
   "codemirror_mode": {
    "name": "ipython",
    "version": 3
   },
   "file_extension": ".py",
   "mimetype": "text/x-python",
   "name": "python",
   "nbconvert_exporter": "python",
   "pygments_lexer": "ipython3",
   "version": "3.10.4"
  }
 },
 "nbformat": 4,
 "nbformat_minor": 5
}
