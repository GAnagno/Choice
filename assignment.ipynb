{
 "cells": [
  {
   "cell_type": "markdown",
   "id": "fa6710a3",
   "metadata": {},
   "source": [
    "Before using a data file for modeling purposes, it is important to\n",
    "collect some information about its content. The objective of this lab is to extract some descriptive statistics from a database with choice data using the package `pandas`."
   ]
  },
  {
   "cell_type": "markdown",
   "id": "b081c2d3",
   "metadata": {},
   "source": [
    "We introduce some examples using the file `lpmc05.dat`. "
   ]
  },
  {
   "cell_type": "markdown",
   "id": "7bfe2e55",
   "metadata": {},
   "source": [
    "We first import `pandas`"
   ]
  },
  {
   "cell_type": "code",
   "execution_count": 1,
   "id": "bfa38132",
   "metadata": {},
   "outputs": [],
   "source": [
    "import pandas as pd\n",
    "import matplotlib.pyplot as plt"
   ]
  },
  {
   "cell_type": "markdown",
   "id": "f2af303d",
   "metadata": {},
   "source": [
    "# Reading and preparing the data"
   ]
  },
  {
   "cell_type": "markdown",
   "id": "81e01ce1",
   "metadata": {},
   "source": [
    "The\n",
    "description of the columns of the file is\n",
    "available [here](https://transp-or.epfl.ch/documents/technicalReports/CS_LPMC.pdf)."
   ]
  },
  {
   "cell_type": "code",
   "execution_count": 2,
   "id": "4688329a",
   "metadata": {},
   "outputs": [
    {
     "data": {
      "text/html": [
       "<div>\n",
       "<style scoped>\n",
       "    .dataframe tbody tr th:only-of-type {\n",
       "        vertical-align: middle;\n",
       "    }\n",
       "\n",
       "    .dataframe tbody tr th {\n",
       "        vertical-align: top;\n",
       "    }\n",
       "\n",
       "    .dataframe thead th {\n",
       "        text-align: right;\n",
       "    }\n",
       "</style>\n",
       "<table border=\"1\" class=\"dataframe\">\n",
       "  <thead>\n",
       "    <tr style=\"text-align: right;\">\n",
       "      <th></th>\n",
       "      <th>trip_id</th>\n",
       "      <th>household_id</th>\n",
       "      <th>person_n</th>\n",
       "      <th>trip_n</th>\n",
       "      <th>travel_mode</th>\n",
       "      <th>purpose</th>\n",
       "      <th>fueltype</th>\n",
       "      <th>faretype</th>\n",
       "      <th>bus_scale</th>\n",
       "      <th>survey_year</th>\n",
       "      <th>...</th>\n",
       "      <th>dur_pt_access</th>\n",
       "      <th>dur_pt_rail</th>\n",
       "      <th>dur_pt_bus</th>\n",
       "      <th>dur_pt_int</th>\n",
       "      <th>pt_interchanges</th>\n",
       "      <th>dur_driving</th>\n",
       "      <th>cost_transit</th>\n",
       "      <th>cost_driving_fuel</th>\n",
       "      <th>cost_driving_ccharge</th>\n",
       "      <th>driving_traffic_percent</th>\n",
       "    </tr>\n",
       "  </thead>\n",
       "  <tbody>\n",
       "    <tr>\n",
       "      <th>0</th>\n",
       "      <td>2</td>\n",
       "      <td>0</td>\n",
       "      <td>0</td>\n",
       "      <td>2</td>\n",
       "      <td>4</td>\n",
       "      <td>3</td>\n",
       "      <td>1</td>\n",
       "      <td>1</td>\n",
       "      <td>1.0</td>\n",
       "      <td>1</td>\n",
       "      <td>...</td>\n",
       "      <td>0.203056</td>\n",
       "      <td>0.0</td>\n",
       "      <td>0.210278</td>\n",
       "      <td>0.0</td>\n",
       "      <td>0</td>\n",
       "      <td>0.236667</td>\n",
       "      <td>1.5</td>\n",
       "      <td>0.79</td>\n",
       "      <td>0.0</td>\n",
       "      <td>0.203052</td>\n",
       "    </tr>\n",
       "    <tr>\n",
       "      <th>1</th>\n",
       "      <td>4</td>\n",
       "      <td>0</td>\n",
       "      <td>1</td>\n",
       "      <td>2</td>\n",
       "      <td>4</td>\n",
       "      <td>3</td>\n",
       "      <td>1</td>\n",
       "      <td>4</td>\n",
       "      <td>1.0</td>\n",
       "      <td>1</td>\n",
       "      <td>...</td>\n",
       "      <td>0.203056</td>\n",
       "      <td>0.0</td>\n",
       "      <td>0.189444</td>\n",
       "      <td>0.0</td>\n",
       "      <td>0</td>\n",
       "      <td>0.229167</td>\n",
       "      <td>1.5</td>\n",
       "      <td>0.78</td>\n",
       "      <td>0.0</td>\n",
       "      <td>0.130909</td>\n",
       "    </tr>\n",
       "    <tr>\n",
       "      <th>2</th>\n",
       "      <td>7</td>\n",
       "      <td>0</td>\n",
       "      <td>2</td>\n",
       "      <td>1</td>\n",
       "      <td>4</td>\n",
       "      <td>3</td>\n",
       "      <td>1</td>\n",
       "      <td>3</td>\n",
       "      <td>0.0</td>\n",
       "      <td>1</td>\n",
       "      <td>...</td>\n",
       "      <td>0.109444</td>\n",
       "      <td>0.0</td>\n",
       "      <td>0.055556</td>\n",
       "      <td>0.0</td>\n",
       "      <td>0</td>\n",
       "      <td>0.059444</td>\n",
       "      <td>0.0</td>\n",
       "      <td>0.15</td>\n",
       "      <td>0.0</td>\n",
       "      <td>0.112150</td>\n",
       "    </tr>\n",
       "    <tr>\n",
       "      <th>3</th>\n",
       "      <td>73</td>\n",
       "      <td>14</td>\n",
       "      <td>0</td>\n",
       "      <td>2</td>\n",
       "      <td>4</td>\n",
       "      <td>3</td>\n",
       "      <td>1</td>\n",
       "      <td>5</td>\n",
       "      <td>0.0</td>\n",
       "      <td>1</td>\n",
       "      <td>...</td>\n",
       "      <td>0.077778</td>\n",
       "      <td>0.0</td>\n",
       "      <td>0.036389</td>\n",
       "      <td>0.0</td>\n",
       "      <td>0</td>\n",
       "      <td>0.061389</td>\n",
       "      <td>0.0</td>\n",
       "      <td>0.16</td>\n",
       "      <td>0.0</td>\n",
       "      <td>0.221719</td>\n",
       "    </tr>\n",
       "    <tr>\n",
       "      <th>4</th>\n",
       "      <td>76</td>\n",
       "      <td>15</td>\n",
       "      <td>0</td>\n",
       "      <td>0</td>\n",
       "      <td>1</td>\n",
       "      <td>3</td>\n",
       "      <td>6</td>\n",
       "      <td>1</td>\n",
       "      <td>1.0</td>\n",
       "      <td>1</td>\n",
       "      <td>...</td>\n",
       "      <td>0.188611</td>\n",
       "      <td>0.0</td>\n",
       "      <td>0.074722</td>\n",
       "      <td>0.0</td>\n",
       "      <td>0</td>\n",
       "      <td>0.142778</td>\n",
       "      <td>1.5</td>\n",
       "      <td>0.33</td>\n",
       "      <td>0.0</td>\n",
       "      <td>0.342412</td>\n",
       "    </tr>\n",
       "    <tr>\n",
       "      <th>...</th>\n",
       "      <td>...</td>\n",
       "      <td>...</td>\n",
       "      <td>...</td>\n",
       "      <td>...</td>\n",
       "      <td>...</td>\n",
       "      <td>...</td>\n",
       "      <td>...</td>\n",
       "      <td>...</td>\n",
       "      <td>...</td>\n",
       "      <td>...</td>\n",
       "      <td>...</td>\n",
       "      <td>...</td>\n",
       "      <td>...</td>\n",
       "      <td>...</td>\n",
       "      <td>...</td>\n",
       "      <td>...</td>\n",
       "      <td>...</td>\n",
       "      <td>...</td>\n",
       "      <td>...</td>\n",
       "      <td>...</td>\n",
       "      <td>...</td>\n",
       "    </tr>\n",
       "    <tr>\n",
       "      <th>4995</th>\n",
       "      <td>81023</td>\n",
       "      <td>17599</td>\n",
       "      <td>0</td>\n",
       "      <td>1</td>\n",
       "      <td>3</td>\n",
       "      <td>5</td>\n",
       "      <td>6</td>\n",
       "      <td>1</td>\n",
       "      <td>1.0</td>\n",
       "      <td>3</td>\n",
       "      <td>...</td>\n",
       "      <td>0.147222</td>\n",
       "      <td>0.0</td>\n",
       "      <td>0.496111</td>\n",
       "      <td>0.0</td>\n",
       "      <td>0</td>\n",
       "      <td>0.351111</td>\n",
       "      <td>1.5</td>\n",
       "      <td>1.27</td>\n",
       "      <td>0.0</td>\n",
       "      <td>0.139241</td>\n",
       "    </tr>\n",
       "    <tr>\n",
       "      <th>4996</th>\n",
       "      <td>81029</td>\n",
       "      <td>17600</td>\n",
       "      <td>1</td>\n",
       "      <td>4</td>\n",
       "      <td>1</td>\n",
       "      <td>3</td>\n",
       "      <td>6</td>\n",
       "      <td>1</td>\n",
       "      <td>1.0</td>\n",
       "      <td>3</td>\n",
       "      <td>...</td>\n",
       "      <td>0.100000</td>\n",
       "      <td>0.0</td>\n",
       "      <td>0.025833</td>\n",
       "      <td>0.0</td>\n",
       "      <td>0</td>\n",
       "      <td>0.171389</td>\n",
       "      <td>1.5</td>\n",
       "      <td>0.39</td>\n",
       "      <td>0.0</td>\n",
       "      <td>0.207455</td>\n",
       "    </tr>\n",
       "    <tr>\n",
       "      <th>4997</th>\n",
       "      <td>81050</td>\n",
       "      <td>17605</td>\n",
       "      <td>1</td>\n",
       "      <td>0</td>\n",
       "      <td>4</td>\n",
       "      <td>1</td>\n",
       "      <td>1</td>\n",
       "      <td>5</td>\n",
       "      <td>0.0</td>\n",
       "      <td>3</td>\n",
       "      <td>...</td>\n",
       "      <td>0.133056</td>\n",
       "      <td>0.1</td>\n",
       "      <td>0.000000</td>\n",
       "      <td>0.0</td>\n",
       "      <td>0</td>\n",
       "      <td>0.265556</td>\n",
       "      <td>0.0</td>\n",
       "      <td>0.60</td>\n",
       "      <td>0.0</td>\n",
       "      <td>0.259414</td>\n",
       "    </tr>\n",
       "    <tr>\n",
       "      <th>4998</th>\n",
       "      <td>81074</td>\n",
       "      <td>17610</td>\n",
       "      <td>1</td>\n",
       "      <td>1</td>\n",
       "      <td>4</td>\n",
       "      <td>3</td>\n",
       "      <td>2</td>\n",
       "      <td>1</td>\n",
       "      <td>1.0</td>\n",
       "      <td>3</td>\n",
       "      <td>...</td>\n",
       "      <td>0.205833</td>\n",
       "      <td>0.0</td>\n",
       "      <td>0.391667</td>\n",
       "      <td>0.0</td>\n",
       "      <td>0</td>\n",
       "      <td>0.281667</td>\n",
       "      <td>1.5</td>\n",
       "      <td>0.86</td>\n",
       "      <td>0.0</td>\n",
       "      <td>0.368836</td>\n",
       "    </tr>\n",
       "    <tr>\n",
       "      <th>4999</th>\n",
       "      <td>81076</td>\n",
       "      <td>17611</td>\n",
       "      <td>1</td>\n",
       "      <td>1</td>\n",
       "      <td>3</td>\n",
       "      <td>4</td>\n",
       "      <td>6</td>\n",
       "      <td>1</td>\n",
       "      <td>1.0</td>\n",
       "      <td>3</td>\n",
       "      <td>...</td>\n",
       "      <td>0.261667</td>\n",
       "      <td>0.0</td>\n",
       "      <td>0.062500</td>\n",
       "      <td>0.0</td>\n",
       "      <td>0</td>\n",
       "      <td>0.106111</td>\n",
       "      <td>1.5</td>\n",
       "      <td>0.32</td>\n",
       "      <td>0.0</td>\n",
       "      <td>0.143979</td>\n",
       "    </tr>\n",
       "  </tbody>\n",
       "</table>\n",
       "<p>5000 rows × 32 columns</p>\n",
       "</div>"
      ],
      "text/plain": [
       "      trip_id  household_id  person_n  trip_n  travel_mode  purpose  fueltype  \\\n",
       "0           2             0         0       2            4        3         1   \n",
       "1           4             0         1       2            4        3         1   \n",
       "2           7             0         2       1            4        3         1   \n",
       "3          73            14         0       2            4        3         1   \n",
       "4          76            15         0       0            1        3         6   \n",
       "...       ...           ...       ...     ...          ...      ...       ...   \n",
       "4995    81023         17599         0       1            3        5         6   \n",
       "4996    81029         17600         1       4            1        3         6   \n",
       "4997    81050         17605         1       0            4        1         1   \n",
       "4998    81074         17610         1       1            4        3         2   \n",
       "4999    81076         17611         1       1            3        4         6   \n",
       "\n",
       "      faretype  bus_scale  survey_year  ...  dur_pt_access  dur_pt_rail  \\\n",
       "0            1        1.0            1  ...       0.203056          0.0   \n",
       "1            4        1.0            1  ...       0.203056          0.0   \n",
       "2            3        0.0            1  ...       0.109444          0.0   \n",
       "3            5        0.0            1  ...       0.077778          0.0   \n",
       "4            1        1.0            1  ...       0.188611          0.0   \n",
       "...        ...        ...          ...  ...            ...          ...   \n",
       "4995         1        1.0            3  ...       0.147222          0.0   \n",
       "4996         1        1.0            3  ...       0.100000          0.0   \n",
       "4997         5        0.0            3  ...       0.133056          0.1   \n",
       "4998         1        1.0            3  ...       0.205833          0.0   \n",
       "4999         1        1.0            3  ...       0.261667          0.0   \n",
       "\n",
       "      dur_pt_bus  dur_pt_int  pt_interchanges  dur_driving  cost_transit  \\\n",
       "0       0.210278         0.0                0     0.236667           1.5   \n",
       "1       0.189444         0.0                0     0.229167           1.5   \n",
       "2       0.055556         0.0                0     0.059444           0.0   \n",
       "3       0.036389         0.0                0     0.061389           0.0   \n",
       "4       0.074722         0.0                0     0.142778           1.5   \n",
       "...          ...         ...              ...          ...           ...   \n",
       "4995    0.496111         0.0                0     0.351111           1.5   \n",
       "4996    0.025833         0.0                0     0.171389           1.5   \n",
       "4997    0.000000         0.0                0     0.265556           0.0   \n",
       "4998    0.391667         0.0                0     0.281667           1.5   \n",
       "4999    0.062500         0.0                0     0.106111           1.5   \n",
       "\n",
       "      cost_driving_fuel  cost_driving_ccharge  driving_traffic_percent  \n",
       "0                  0.79                   0.0                 0.203052  \n",
       "1                  0.78                   0.0                 0.130909  \n",
       "2                  0.15                   0.0                 0.112150  \n",
       "3                  0.16                   0.0                 0.221719  \n",
       "4                  0.33                   0.0                 0.342412  \n",
       "...                 ...                   ...                      ...  \n",
       "4995               1.27                   0.0                 0.139241  \n",
       "4996               0.39                   0.0                 0.207455  \n",
       "4997               0.60                   0.0                 0.259414  \n",
       "4998               0.86                   0.0                 0.368836  \n",
       "4999               0.32                   0.0                 0.143979  \n",
       "\n",
       "[5000 rows x 32 columns]"
      ]
     },
     "execution_count": 2,
     "metadata": {},
     "output_type": "execute_result"
    }
   ],
   "source": [
    "data_file = './lpmc05.dat'\n",
    "df = pd.read_csv(data_file, sep='\\t')\n",
    "df"
   ]
  },
  {
   "cell_type": "markdown",
   "id": "be461782",
   "metadata": {},
   "source": [
    "- The database contains 5000 rows of data, corresponding to each\n",
    "observation in the sample.\n",
    "- It contains 32 columns, corresponding to\n",
    "the available variables."
   ]
  },
  {
   "cell_type": "markdown",
   "id": "6899fdfd",
   "metadata": {},
   "source": [
    "The list of columns is reported below."
   ]
  },
  {
   "cell_type": "code",
   "execution_count": 3,
   "id": "d86fed20",
   "metadata": {},
   "outputs": [
    {
     "data": {
      "text/plain": [
       "Index(['trip_id', 'household_id', 'person_n', 'trip_n', 'travel_mode',\n",
       "       'purpose', 'fueltype', 'faretype', 'bus_scale', 'survey_year',\n",
       "       'travel_year', 'travel_month', 'travel_date', 'day_of_week',\n",
       "       'start_time', 'age', 'female', 'driving_license', 'car_ownership',\n",
       "       'distance', 'dur_walking', 'dur_cycling', 'dur_pt_access',\n",
       "       'dur_pt_rail', 'dur_pt_bus', 'dur_pt_int', 'pt_interchanges',\n",
       "       'dur_driving', 'cost_transit', 'cost_driving_fuel',\n",
       "       'cost_driving_ccharge', 'driving_traffic_percent'],\n",
       "      dtype='object')"
      ]
     },
     "execution_count": 3,
     "metadata": {},
     "output_type": "execute_result"
    }
   ],
   "source": [
    "df.columns"
   ]
  },
  {
   "cell_type": "markdown",
   "id": "565c959c",
   "metadata": {},
   "source": [
    "If we look at the column `purpose`, corresponding to the trip\n",
    "purpose, it contains a total of 5 unique values, numbered from 1 to\n",
    "5. \n"
   ]
  },
  {
   "cell_type": "code",
   "execution_count": 4,
   "id": "4af9b9f8",
   "metadata": {},
   "outputs": [
    {
     "data": {
      "text/plain": [
       "(array([3, 5, 2, 4, 1]),)"
      ]
     },
     "execution_count": 4,
     "metadata": {},
     "output_type": "execute_result"
    }
   ],
   "source": [
    "df['purpose'].unique(),"
   ]
  },
  {
   "cell_type": "markdown",
   "id": "9ffa56a2",
   "metadata": {},
   "source": [
    "In order to understand better the distribution of these values, we\n",
    "can calculate the frequency of each value, here sorted by decreasing\n",
    "order of frequency."
   ]
  },
  {
   "cell_type": "code",
   "execution_count": 5,
   "id": "898b442c",
   "metadata": {},
   "outputs": [
    {
     "data": {
      "text/plain": [
       "3    2621\n",
       "1     807\n",
       "5     675\n",
       "2     550\n",
       "4     347\n",
       "Name: purpose, dtype: int64"
      ]
     },
     "execution_count": 5,
     "metadata": {},
     "output_type": "execute_result"
    }
   ],
   "source": [
    "df['purpose'].value_counts()"
   ]
  },
  {
   "cell_type": "markdown",
   "id": "bb6fb900",
   "metadata": {},
   "source": [
    "The histogram of this distribution is also useful."
   ]
  },
  {
   "cell_type": "code",
   "execution_count": 6,
   "id": "a80cfc3d",
   "metadata": {},
   "outputs": [
    {
     "data": {
      "image/png": "[encoded data removed]",
      "text/plain": [
       "<Figure size 640x480 with 1 Axes>"
      ]
     },
     "metadata": {},
     "output_type": "display_data"
    }
   ],
   "source": [
    "ax = df['purpose'].value_counts().plot(title='purpose', kind='bar')"
   ]
  },
  {
   "cell_type": "markdown",
   "id": "a89c261e",
   "metadata": {},
   "source": [
    "We do the same for the `travel_mode` variable."
   ]
  },
  {
   "cell_type": "code",
   "execution_count": 7,
   "id": "b5aa9c6c",
   "metadata": {},
   "outputs": [
    {
     "data": {
      "text/plain": [
       "4    2241\n",
       "3    1723\n",
       "1     852\n",
       "2     184\n",
       "Name: travel_mode, dtype: int64"
      ]
     },
     "execution_count": 7,
     "metadata": {},
     "output_type": "execute_result"
    }
   ],
   "source": [
    "df['travel_mode'].value_counts()"
   ]
  },
  {
   "cell_type": "code",
   "execution_count": 8,
   "id": "1f8065a7",
   "metadata": {},
   "outputs": [
    {
     "data": {
      "image/png": "[encoded data removed]",
      "text/plain": [
       "<Figure size 640x480 with 1 Axes>"
      ]
     },
     "metadata": {},
     "output_type": "display_data"
    }
   ],
   "source": [
    "ax = df['travel_mode'].value_counts().plot(title='travel_mode', kind='bar')"
   ]
  },
  {
   "cell_type": "markdown",
   "id": "7e19dbf9",
   "metadata": {},
   "source": [
    "If we look at a continuous variable, such as `dur_walking`,\n",
    "representing the predicted duration of walking route in hours, we are interested in statistics\n",
    "such as the mean, the standard deviation, the minimum and maximum\n",
    "values, as well as some quantiles."
   ]
  },
  {
   "cell_type": "code",
   "execution_count": 9,
   "id": "c8665474",
   "metadata": {},
   "outputs": [
    {
     "data": {
      "text/plain": [
       "count    5000.000000\n",
       "mean        1.097102\n",
       "std         1.066575\n",
       "min         0.043611\n",
       "25%         0.354444\n",
       "50%         0.723194\n",
       "75%         1.480278\n",
       "max         8.707500\n",
       "Name: dur_walking, dtype: float64"
      ]
     },
     "execution_count": 9,
     "metadata": {},
     "output_type": "execute_result"
    }
   ],
   "source": [
    "df['dur_walking'].describe()"
   ]
  },
  {
   "cell_type": "markdown",
   "id": "71a61006",
   "metadata": {},
   "source": [
    "It is interesting to note that 75\\% of the values are lesser or equal\n",
    "to 1.48, while the maximum is 8.7. "
   ]
  },
  {
   "cell_type": "markdown",
   "id": "54412c01",
   "metadata": {},
   "source": [
    "An histogram can also be plotted."
   ]
  },
  {
   "cell_type": "code",
   "execution_count": 10,
   "id": "fe29feeb",
   "metadata": {},
   "outputs": [
    {
     "data": {
      "image/png": "[encoded data removed]",
      "text/plain": [
       "<Figure size 640x480 with 1 Axes>"
      ]
     },
     "metadata": {},
     "output_type": "display_data"
    }
   ],
   "source": [
    "_ = df['dur_walking'].hist()"
   ]
  },
  {
   "cell_type": "markdown",
   "id": "dba105dc",
   "metadata": {},
   "source": [
    "It may be\n",
    "made more readable by using a log scale."
   ]
  },
  {
   "cell_type": "code",
   "execution_count": 11,
   "id": "b7748274",
   "metadata": {},
   "outputs": [
    {
     "data": {
      "image/png": "[encoded data removed]",
      "text/plain": [
       "<Figure size 640x480 with 1 Axes>"
      ]
     },
     "metadata": {},
     "output_type": "display_data"
    }
   ],
   "source": [
    "_ = df['dur_walking'].hist(log=True)"
   ]
  },
  {
   "cell_type": "markdown",
   "id": "734d5c69",
   "metadata": {},
   "source": [
    "It is also interesting to investigate the correlation between\n",
    "two variables."
   ]
  },
  {
   "cell_type": "code",
   "execution_count": 12,
   "id": "587e9cae",
   "metadata": {},
   "outputs": [
    {
     "data": {
      "text/plain": [
       "0.9964159061632911"
      ]
     },
     "execution_count": 12,
     "metadata": {},
     "output_type": "execute_result"
    }
   ],
   "source": [
    "df['dur_walking'].corr(df['distance'])"
   ]
  },
  {
   "cell_type": "markdown",
   "id": "50223c16",
   "metadata": {},
   "source": [
    "The correlation can also be illustrated using a scatter plot."
   ]
  },
  {
   "cell_type": "code",
   "execution_count": 14,
   "id": "e8e09d08",
   "metadata": {},
   "outputs": [
    {
     "data": {
      "image/png": "[encoded data removed]",
      "text/plain": [
       "<Figure size 640x480 with 1 Axes>"
      ]
     },
     "metadata": {},
     "output_type": "display_data"
    }
   ],
   "source": [
    "_ = df.plot(kind='scatter', x='dur_walking', y='distance', color='r')"
   ]
  },
  {
   "cell_type": "code",
   "execution_count": 15,
   "id": "49cec830",
   "metadata": {},
   "outputs": [
    {
     "data": {
      "image/png": "[encoded data removed]",
      "text/plain": [
       "<Figure size 640x480 with 1 Axes>"
      ]
     },
     "metadata": {},
     "output_type": "display_data"
    }
   ],
   "source": [
    "_ = plt.scatter(\n",
    "    df.cost_driving_fuel, df.cost_transit, label='fuel')\n",
    "_ = plt.scatter(\n",
    "    df.cost_driving_fuel +\n",
    "    df.cost_driving_ccharge * df.driving_traffic_percent,\n",
    "    df.cost_transit, label='fuel + congestion')\n",
    "plt.ylabel('transit cost [GBP]' )\n",
    "plt.xlabel('driving cost [GBP]' )\n",
    "_ = plt.legend()"
   ]
  },
  {
   "cell_type": "code",
   "execution_count": 16,
   "id": "b8566936",
   "metadata": {},
   "outputs": [
    {
     "data": {
      "image/png": "[encoded data removed]",
      "text/plain": [
       "<Figure size 640x480 with 1 Axes>"
      ]
     },
     "metadata": {},
     "output_type": "display_data"
    }
   ],
   "source": [
    "_ = plt.scatter(\n",
    "    df.cost_driving_fuel +\n",
    "    df.cost_driving_ccharge * df.driving_traffic_percent,\n",
    "    df.cost_transit, label='unscaled')\n",
    "_ = plt.scatter(\n",
    "    df.cost_driving_fuel +\n",
    "    df.cost_driving_ccharge * df.driving_traffic_percent,\n",
    "    df.cost_transit*df.bus_scale, label='scaled')\n",
    "plt.ylabel('transit cost [GBP]' )\n",
    "plt.xlabel('driving cost [GBP]' )\n",
    "_ = plt.legend()"
   ]
  },
  {
   "cell_type": "code",
   "execution_count": 17,
   "id": "050d5860",
   "metadata": {},
   "outputs": [
    {
     "data": {
      "image/png": "[encoded data removed]",
      "text/plain": [
       "<Figure size 640x480 with 1 Axes>"
      ]
     },
     "metadata": {},
     "output_type": "display_data"
    }
   ],
   "source": [
    "_ = plt.scatter(\n",
    "    df.cost_driving_fuel +\n",
    "    df.cost_driving_ccharge * df.driving_traffic_percent, df.cost_transit)\n",
    "_ = plt.scatter(\n",
    "    df[df.faretype == 1].cost_driving_fuel +\n",
    "    df[df.faretype == 1].cost_driving_ccharge *\n",
    "    df[df.faretype == 1].driving_traffic_percent,\n",
    "    df[df.faretype == 1].cost_transit,label='full-fare')\n",
    "_ = plt.scatter(df[df.faretype == 2].cost_driving_fuel +\n",
    "                df[df.faretype == 2].cost_driving_ccharge *\n",
    "                df[df.faretype == 2].driving_traffic_percent,\n",
    "                df[df.faretype == 2].cost_transit,\n",
    "                label='16+')\n",
    "_ = plt.scatter(df[df.faretype == 3].cost_driving_fuel +\n",
    "                df[df.faretype == 3].cost_driving_ccharge *\n",
    "                df[df.faretype == 3].driving_traffic_percent,\n",
    "                df[df.faretype == 3].cost_transit,\n",
    "                label='child')\n",
    "_ = plt.scatter(df[df.faretype == 4].cost_driving_fuel +\n",
    "                df[df.faretype == 4].cost_driving_ccharge *\n",
    "                df[df.faretype == 4].driving_traffic_percent,\n",
    "                df[df.faretype == 4].cost_transit,\n",
    "                label='disabled')\n",
    "_ = plt.scatter(df[df.faretype == 5].cost_driving_fuel +\n",
    "                df[df.faretype == 5].cost_driving_ccharge *\n",
    "                df[df.faretype == 5].driving_traffic_percent,\n",
    "                df[df.faretype == 5].cost_transit,\n",
    "                label='free')\n",
    "plt.ylabel('rail cost [GBP]' )\n",
    "plt.xlabel('driving cost [GBP]' )\n",
    "_ = plt.legend()"
   ]
  },
  {
   "cell_type": "code",
   "execution_count": 18,
   "id": "aa4ffffe",
   "metadata": {},
   "outputs": [
    {
     "data": {
      "image/png": "[encoded data removed]",
      "text/plain": [
       "<Figure size 640x480 with 1 Axes>"
      ]
     },
     "metadata": {},
     "output_type": "display_data"
    }
   ],
   "source": [
    "_ = plt.scatter(df.dur_walking,\n",
    "                df.dur_pt_rail + df.dur_pt_bus + df.dur_pt_access +\n",
    "                df.dur_pt_int * df.pt_interchanges,\n",
    "                label='public transport')\n",
    "_ = plt.scatter(df.dur_walking, df.dur_driving, label='driving')\n",
    "_ = plt.scatter(df.dur_walking, df.dur_cycling, label='cycling')\n",
    "plt.ylabel('travel duration [hours]')\n",
    "plt.xlabel('walking duration [hours]')\n",
    "_ = plt.legend()"
   ]
  },
  {
   "cell_type": "markdown",
   "id": "9b106443",
   "metadata": {},
   "source": [
    "# Model specification"
   ]
  },
  {
   "cell_type": "markdown",
   "id": "b9941b3c",
   "metadata": {},
   "source": [
    "We import the necessary packages and functions."
   ]
  },
  {
   "cell_type": "markdown",
   "id": "cb82c5fa",
   "metadata": {},
   "source": [
    "First, the interface between Biogeme and Pandas."
   ]
  },
  {
   "cell_type": "code",
   "execution_count": 19,
   "id": "640c1def",
   "metadata": {},
   "outputs": [],
   "source": [
    "import biogeme.database as db"
   ]
  },
  {
   "cell_type": "markdown",
   "id": "87c40760",
   "metadata": {},
   "source": [
    "Then, the core of Biogeme itself."
   ]
  },
  {
   "cell_type": "code",
   "execution_count": 20,
   "id": "18258fbb",
   "metadata": {},
   "outputs": [],
   "source": [
    "import biogeme.biogeme as bio"
   ]
  },
  {
   "cell_type": "markdown",
   "id": "37fad70a",
   "metadata": {},
   "source": [
    "Finally, we import some expressions that will be used to build the choice model."
   ]
  },
  {
   "cell_type": "code",
   "execution_count": 21,
   "id": "3a2ea392",
   "metadata": {},
   "outputs": [],
   "source": [
    "from biogeme.expressions import Beta, Variable, log, exp, Elem"
   ]
  },
  {
   "cell_type": "markdown",
   "id": "fc056f3a",
   "metadata": {},
   "source": [
    "We then import the database into Biogeme."
   ]
  },
  {
   "cell_type": "code",
   "execution_count": 22,
   "id": "fc1b1b5f",
   "metadata": {},
   "outputs": [],
   "source": [
    "database = db.Database('lpmc', df)"
   ]
  },
  {
   "cell_type": "markdown",
   "id": "0bc62f23",
   "metadata": {},
   "source": [
    "We identify the columns that will be used as variable in our model. "
   ]
  },
  {
   "cell_type": "code",
   "execution_count": 55,
   "id": "69be7ee2",
   "metadata": {},
   "outputs": [],
   "source": [
    "travel_mode = Variable('travel_mode')\n",
    "driving_license = Variable('driving_license')\n",
    "fueltype = Variable('fueltype')\n",
    "dur_walking = Variable('dur_walking')\n",
    "dur_cycling = Variable('dur_cycling')\n",
    "dur_pt_rail = Variable('dur_pt_rail')\n",
    "dur_pt_bus = Variable('dur_pt_bus')\n",
    "dur_pt_access = Variable('dur_pt_access')\n",
    "dur_pt_int = Variable('dur_pt_int')\n",
    "pt_interchanges = Variable('pt_interchanges')\n",
    "dur_driving = Variable('dur_driving')\n",
    "bus_scale = Variable('bus_scale')\n",
    "cost_transit = Variable('cost_transit')\n",
    "cost_driving_fuel = Variable('cost_driving_fuel')\n",
    "cost_driving_ccharge = Variable('cost_driving_ccharge')\n",
    "driving_traffic_percent = Variable('driving_traffic_percent')"
   ]
  },
  {
   "cell_type": "markdown",
   "id": "94296d72",
   "metadata": {},
   "source": [
    "We can aso define new variables from existing one."
   ]
  },
  {
   "cell_type": "code",
   "execution_count": 56,
   "id": "5eea8fbf",
   "metadata": {},
   "outputs": [
    {
     "data": {
      "text/plain": [
       "(((dur_pt_rail + dur_pt_bus) + dur_pt_access) + (dur_pt_int * pt_interchanges))"
      ]
     },
     "execution_count": 56,
     "metadata": {},
     "output_type": "execute_result"
    }
   ],
   "source": [
    "dur_pt = dur_pt_rail + dur_pt_bus + dur_pt_access + dur_pt_int * pt_interchanges\n",
    "dur_pt"
   ]
  },
  {
   "cell_type": "code",
   "execution_count": 57,
   "id": "f33f49ae",
   "metadata": {},
   "outputs": [
    {
     "data": {
      "text/plain": [
       "(cost_transit * bus_scale)"
      ]
     },
     "execution_count": 57,
     "metadata": {},
     "output_type": "execute_result"
    }
   ],
   "source": [
    "cost_pt = cost_transit * bus_scale\n",
    "cost_pt"
   ]
  },
  {
   "cell_type": "code",
   "execution_count": 58,
   "id": "5819f470",
   "metadata": {},
   "outputs": [
    {
     "data": {
      "text/plain": [
       "(cost_driving_fuel + (cost_driving_ccharge * driving_traffic_percent))"
      ]
     },
     "execution_count": 58,
     "metadata": {},
     "output_type": "execute_result"
    }
   ],
   "source": [
    "cost_driving = cost_driving_fuel + cost_driving_ccharge * driving_traffic_percent\n",
    "cost_driving"
   ]
  },
  {
   "cell_type": "markdown",
   "id": "4af28547",
   "metadata": {},
   "source": [
    "Start with a model specification that includes alternative specific constants, and cost and travel time of the different alternatives associated with generic parameters. Report both the specification (i.e., the utility functions) and the estimation results (parameter values, t-tests or p-values, null and final log likelihoods)."
   ]
  },
  {
   "cell_type": "markdown",
   "id": "2ea7c99f",
   "metadata": {},
   "source": [
    "We are now ready to specify the choice model. We start with a simple model, that contains only generic attributes:\n",
    "\\begin{align*}\n",
    "V_1 &= \\beta_\\text{time} \\text{time}_1 \\\\\n",
    "V_2 &= \\text{cte}_2 + \\beta_\\text{time} \\text{time}_2 \\\\\n",
    "V_3 &= \\text{cte}_3 + \\beta_\\text{cost}  \\text{cost}_3 + \\beta_\\text{time} \\text{time}_3 \\\\\n",
    "V_4 &= \\text{cte}_4 + \\beta_\\text{cost}  \\text{cost}_4 + \\beta_\\text{time} \\text{time}_4 \\\\\n",
    "\\end{align*}"
   ]
  },
  {
   "cell_type": "markdown",
   "id": "c6bee841",
   "metadata": {},
   "source": [
    "We define the unknown parameter using the Biogeme expression `Beta`, that takes 5 parameters:\n",
    "- the name of the parameter (it is advised to use the exact same name for the corresponding Python variable),\n",
    "- the starting value for the estimation (usually, 0),\n",
    "- a lower bound on the value of the coefficient, or `None` for no bound,\n",
    "- an upper bound, or `None`for no bound,\n",
    "- a parameter that is 1 if the value of the parameter must be fixed to its starting value, and 0 if it has to be estimated."
   ]
  },
  {
   "cell_type": "markdown",
   "id": "1a1d8dd1",
   "metadata": {},
   "source": [
    "# Model 0, generic coefficients"
   ]
  },
  {
   "cell_type": "code",
   "execution_count": 59,
   "id": "ec448f6c",
   "metadata": {},
   "outputs": [],
   "source": [
    "constant_2 = Beta('constant_2', 0, None, None, 0)\n",
    "constant_3 = Beta('constant_3', 0, None, None, 0)\n",
    "constant_4 = Beta('constant_4', 0, None, None, 0)\n",
    "beta_cost = Beta('beta_cost', 0, None, None, 0)\n",
    "beta_time = Beta('beta_time', 0, None, None, 0)"
   ]
  },
  {
   "cell_type": "markdown",
   "id": "c78032f1",
   "metadata": {},
   "source": [
    "We now write the utility functions:"
   ]
  },
  {
   "cell_type": "code",
   "execution_count": 60,
   "id": "bc39f1e8",
   "metadata": {},
   "outputs": [],
   "source": [
    "Opt1 = (beta_time * dur_walking)\n",
    "Opt2 = (constant_2 + beta_time * dur_cycling)\n",
    "Opt3 = (constant_3 + beta_cost * cost_pt + beta_time * dur_pt)\n",
    "Opt4 = (constant_4 + beta_cost * cost_driving + beta_time * dur_driving)"
   ]
  },
  {
   "cell_type": "markdown",
   "id": "aff220f4",
   "metadata": {},
   "source": [
    "We associate each utility function with the id of the corresponding alternative. It must be consistent with the definition of the chosen alternative."
   ]
  },
  {
   "cell_type": "code",
   "execution_count": 61,
   "id": "2cfb54e1",
   "metadata": {},
   "outputs": [],
   "source": [
    "V = {1: Opt1, 2: Opt2, 3: Opt3, 4: Opt4}"
   ]
  },
  {
   "cell_type": "markdown",
   "id": "13152054",
   "metadata": {},
   "source": [
    "We obtain the choice model, that is a logit model. As Biogeme requests the contribution of each observation to the log likelihood function, we calculate the log of the logit model. $$\\frac{a_i e^{V_i}}{\\sum_{i=1}^J a_j e^{V_j}}$$"
   ]
  },
  {
   "cell_type": "markdown",
   "id": "6cc0a161",
   "metadata": {},
   "source": [
    "We import a catalog of models, including the logit model."
   ]
  },
  {
   "cell_type": "code",
   "execution_count": 62,
   "id": "8ada76d9",
   "metadata": {},
   "outputs": [],
   "source": [
    "from biogeme import models\n",
    "from biogeme import results as res"
   ]
  },
  {
   "cell_type": "code",
   "execution_count": 63,
   "id": "6e1b5c95",
   "metadata": {},
   "outputs": [],
   "source": [
    "logprob = models.loglogit(V, None, travel_mode)"
   ]
  },
  {
   "cell_type": "markdown",
   "id": "2e2c08ee",
   "metadata": {},
   "source": [
    "We initialize Biogeme with this expression, and the database."
   ]
  },
  {
   "cell_type": "code",
   "execution_count": 64,
   "id": "6db4e8ae",
   "metadata": {},
   "outputs": [],
   "source": [
    "biogeme = bio.BIOGEME(database, logprob)\n",
    "biogeme.modelName = 'logit_lpmc_base'"
   ]
  },
  {
   "cell_type": "markdown",
   "id": "8b020115",
   "metadata": {},
   "source": [
    "The results will be stored in a dict."
   ]
  },
  {
   "cell_type": "code",
   "execution_count": 65,
   "id": "97549a25",
   "metadata": {},
   "outputs": [],
   "source": [
    "all_results = {}"
   ]
  },
  {
   "cell_type": "markdown",
   "id": "0a5aa929",
   "metadata": {},
   "source": [
    "We are now ready to estimate the parameter. Biogeme tries to read a file `__logit_lpmc_base.iter` containing intermediary results from a previous estimation run. If it does not find it, it triggers a warning that can be ignored."
   ]
  },
  {
   "cell_type": "code",
   "execution_count": 66,
   "id": "5db9939c",
   "metadata": {},
   "outputs": [],
   "source": [
    "all_results['Base'] =  biogeme.estimate()"
   ]
  },
  {
   "cell_type": "markdown",
   "id": "70d7e3f1",
   "metadata": {},
   "source": [
    "We first display some summary information:"
   ]
  },
  {
   "cell_type": "code",
   "execution_count": 67,
   "id": "6a61620d",
   "metadata": {},
   "outputs": [
    {
     "name": "stdout",
     "output_type": "stream",
     "text": [
      "Number of estimated parameters:\t5\n",
      "Sample size:\t5000\n",
      "Excluded observations:\t0\n",
      "Init log likelihood:\t-4837.64\n",
      "Final log likelihood:\t-4837.64\n",
      "Likelihood ratio test for the init. model:\t-0\n",
      "Rho-square for the init. model:\t0\n",
      "Rho-square-bar for the init. model:\t-0.00103\n",
      "Akaike Information Criterion:\t9685.281\n",
      "Bayesian Information Criterion:\t9717.867\n",
      "Final gradient norm:\t1.8157E-02\n",
      "Nbr of threads:\t8\n",
      "\n"
     ]
    }
   ],
   "source": [
    "print(all_results['Base'].printGeneralStatistics())"
   ]
  },
  {
   "cell_type": "markdown",
   "id": "c54bade3",
   "metadata": {},
   "source": [
    "Then we display the estimation results"
   ]
  },
  {
   "cell_type": "code",
   "execution_count": 68,
   "id": "e8dfdef0",
   "metadata": {},
   "outputs": [
    {
     "data": {
      "text/html": [
       "<div>\n",
       "<style scoped>\n",
       "    .dataframe tbody tr th:only-of-type {\n",
       "        vertical-align: middle;\n",
       "    }\n",
       "\n",
       "    .dataframe tbody tr th {\n",
       "        vertical-align: top;\n",
       "    }\n",
       "\n",
       "    .dataframe thead th {\n",
       "        text-align: right;\n",
       "    }\n",
       "</style>\n",
       "<table border=\"1\" class=\"dataframe\">\n",
       "  <thead>\n",
       "    <tr style=\"text-align: right;\">\n",
       "      <th></th>\n",
       "      <th>Value</th>\n",
       "      <th>Rob. Std err</th>\n",
       "      <th>Rob. t-test</th>\n",
       "      <th>Rob. p-value</th>\n",
       "    </tr>\n",
       "  </thead>\n",
       "  <tbody>\n",
       "    <tr>\n",
       "      <th>beta_cost</th>\n",
       "      <td>-0.217267</td>\n",
       "      <td>0.016727</td>\n",
       "      <td>-12.989313</td>\n",
       "      <td>0.000000e+00</td>\n",
       "    </tr>\n",
       "    <tr>\n",
       "      <th>beta_time</th>\n",
       "      <td>-4.583652</td>\n",
       "      <td>0.188989</td>\n",
       "      <td>-24.253600</td>\n",
       "      <td>0.000000e+00</td>\n",
       "    </tr>\n",
       "    <tr>\n",
       "      <th>constant_2</th>\n",
       "      <td>-3.407951</td>\n",
       "      <td>0.101156</td>\n",
       "      <td>-33.690105</td>\n",
       "      <td>0.000000e+00</td>\n",
       "    </tr>\n",
       "    <tr>\n",
       "      <th>constant_3</th>\n",
       "      <td>-0.306573</td>\n",
       "      <td>0.055020</td>\n",
       "      <td>-5.572056</td>\n",
       "      <td>2.517502e-08</td>\n",
       "    </tr>\n",
       "    <tr>\n",
       "      <th>constant_4</th>\n",
       "      <td>-0.956693</td>\n",
       "      <td>0.078542</td>\n",
       "      <td>-12.180602</td>\n",
       "      <td>0.000000e+00</td>\n",
       "    </tr>\n",
       "  </tbody>\n",
       "</table>\n",
       "</div>"
      ],
      "text/plain": [
       "               Value  Rob. Std err  Rob. t-test  Rob. p-value\n",
       "beta_cost  -0.217267      0.016727   -12.989313  0.000000e+00\n",
       "beta_time  -4.583652      0.188989   -24.253600  0.000000e+00\n",
       "constant_2 -3.407951      0.101156   -33.690105  0.000000e+00\n",
       "constant_3 -0.306573      0.055020    -5.572056  2.517502e-08\n",
       "constant_4 -0.956693      0.078542   -12.180602  0.000000e+00"
      ]
     },
     "execution_count": 68,
     "metadata": {},
     "output_type": "execute_result"
    }
   ],
   "source": [
    "all_results['Base'].getEstimatedParameters()"
   ]
  },
  {
   "cell_type": "markdown",
   "id": "f188fa6b",
   "metadata": {},
   "source": [
    "# Model 1, alternative specific time coefficient"
   ]
  },
  {
   "cell_type": "markdown",
   "id": "1dc28f76",
   "metadata": {},
   "source": [
    "Using Model 0 as the base model, include alternative- specific parameters for one of the attributes of Model 0. Report both the specification and the estimation results (as defined previously)."
   ]
  },
  {
   "cell_type": "markdown",
   "id": "7b0300ee",
   "metadata": {},
   "source": [
    "\\begin{align*}\n",
    "V_1 &= \\beta_\\text{time,1} \\text{time}_1 \\\\\n",
    "V_2 &= \\text{cte}_2 + \\beta_\\text{time,2} \\text{time}_2 \\\\\n",
    "V_3 &= \\text{cte}_3 + \\beta_\\text{cost}  \\text{cost}_3 + \\beta_\\text{time,3} \\text{time}_3 \\\\\n",
    "V_4 &= \\text{cte}_4 + \\beta_\\text{cost}  \\text{cost}_4 + \\beta_\\text{time,4} \\text{time}_4 \\\\\n",
    "\\end{align*}"
   ]
  },
  {
   "cell_type": "code",
   "execution_count": 69,
   "id": "fa0802b9",
   "metadata": {},
   "outputs": [],
   "source": [
    "constant_2 = Beta('constant_2', 0, None, None, 0)\n",
    "constant_3 = Beta('constant_3', 0, None, None, 0)\n",
    "constant_4 = Beta('constant_4', 0, None, None, 0)\n",
    "beta_time_1 = Beta('beta_time_1', 0, None, None, 0)\n",
    "beta_time_2 = Beta('beta_time_2', 0, None, None, 0)\n",
    "beta_time_3 = Beta('beta_time_3', 0, None, None, 0)\n",
    "beta_time_4 = Beta('beta_time_4', 0, None, None, 0)\n",
    "Opt1_alt_spec = (beta_time_1 * dur_walking)\n",
    "Opt2_alt_spec = (constant_2 + beta_time_2 * dur_cycling)\n",
    "Opt3_alt_spec = (constant_3 + beta_cost * cost_pt + beta_time_3 * dur_pt)\n",
    "Opt4_alt_spec = (constant_4 + beta_cost * cost_driving +\n",
    "                 beta_time_4 * dur_driving)\n",
    "V_alt_spec = {\n",
    "    1: Opt1_alt_spec,\n",
    "    2: Opt2_alt_spec,\n",
    "    3: Opt3_alt_spec,\n",
    "    4: Opt4_alt_spec\n",
    "}\n",
    "\n",
    "logprob_alt_spec = models.loglogit(V_alt_spec, None, travel_mode)\n",
    "biogeme_alt_spec = bio.BIOGEME(database, logprob_alt_spec)\n",
    "biogeme_alt_spec.modelName = 'logit_lpmc_alt_spec'\n",
    "all_results['Alt. spec.'] = biogeme_alt_spec.estimate()"
   ]
  },
  {
   "cell_type": "code",
   "execution_count": 70,
   "id": "5af56d43",
   "metadata": {},
   "outputs": [
    {
     "name": "stdout",
     "output_type": "stream",
     "text": [
      "Number of estimated parameters:\t8\n",
      "Sample size:\t5000\n",
      "Excluded observations:\t0\n",
      "Init log likelihood:\t-4375.85\n",
      "Final log likelihood:\t-4375.85\n",
      "Likelihood ratio test for the init. model:\t-0\n",
      "Rho-square for the init. model:\t0\n",
      "Rho-square-bar for the init. model:\t-0.00183\n",
      "Akaike Information Criterion:\t8767.7\n",
      "Bayesian Information Criterion:\t8819.837\n",
      "Final gradient norm:\t1.9343E-02\n",
      "Nbr of threads:\t8\n",
      "\n"
     ]
    }
   ],
   "source": [
    "print(all_results['Alt. spec.'].printGeneralStatistics())"
   ]
  },
  {
   "cell_type": "code",
   "execution_count": 71,
   "id": "ddc4dac0",
   "metadata": {},
   "outputs": [
    {
     "data": {
      "text/html": [
       "<div>\n",
       "<style scoped>\n",
       "    .dataframe tbody tr th:only-of-type {\n",
       "        vertical-align: middle;\n",
       "    }\n",
       "\n",
       "    .dataframe tbody tr th {\n",
       "        vertical-align: top;\n",
       "    }\n",
       "\n",
       "    .dataframe thead th {\n",
       "        text-align: right;\n",
       "    }\n",
       "</style>\n",
       "<table border=\"1\" class=\"dataframe\">\n",
       "  <thead>\n",
       "    <tr style=\"text-align: right;\">\n",
       "      <th></th>\n",
       "      <th>Value</th>\n",
       "      <th>Rob. Std err</th>\n",
       "      <th>Rob. t-test</th>\n",
       "      <th>Rob. p-value</th>\n",
       "    </tr>\n",
       "  </thead>\n",
       "  <tbody>\n",
       "    <tr>\n",
       "      <th>beta_cost</th>\n",
       "      <td>-0.202346</td>\n",
       "      <td>0.018846</td>\n",
       "      <td>-10.736992</td>\n",
       "      <td>0.0</td>\n",
       "    </tr>\n",
       "    <tr>\n",
       "      <th>beta_time_1</th>\n",
       "      <td>-8.529148</td>\n",
       "      <td>0.370724</td>\n",
       "      <td>-23.006724</td>\n",
       "      <td>0.0</td>\n",
       "    </tr>\n",
       "    <tr>\n",
       "      <th>beta_time_2</th>\n",
       "      <td>-5.584604</td>\n",
       "      <td>0.445793</td>\n",
       "      <td>-12.527356</td>\n",
       "      <td>0.0</td>\n",
       "    </tr>\n",
       "    <tr>\n",
       "      <th>beta_time_3</th>\n",
       "      <td>-3.146894</td>\n",
       "      <td>0.234270</td>\n",
       "      <td>-13.432750</td>\n",
       "      <td>0.0</td>\n",
       "    </tr>\n",
       "    <tr>\n",
       "      <th>beta_time_4</th>\n",
       "      <td>-6.858855</td>\n",
       "      <td>0.396436</td>\n",
       "      <td>-17.301285</td>\n",
       "      <td>0.0</td>\n",
       "    </tr>\n",
       "    <tr>\n",
       "      <th>constant_2</th>\n",
       "      <td>-4.548230</td>\n",
       "      <td>0.179690</td>\n",
       "      <td>-25.311552</td>\n",
       "      <td>0.0</td>\n",
       "    </tr>\n",
       "    <tr>\n",
       "      <th>constant_3</th>\n",
       "      <td>-2.497079</td>\n",
       "      <td>0.125927</td>\n",
       "      <td>-19.829523</td>\n",
       "      <td>0.0</td>\n",
       "    </tr>\n",
       "    <tr>\n",
       "      <th>constant_4</th>\n",
       "      <td>-1.853614</td>\n",
       "      <td>0.120481</td>\n",
       "      <td>-15.385168</td>\n",
       "      <td>0.0</td>\n",
       "    </tr>\n",
       "  </tbody>\n",
       "</table>\n",
       "</div>"
      ],
      "text/plain": [
       "                Value  Rob. Std err  Rob. t-test  Rob. p-value\n",
       "beta_cost   -0.202346      0.018846   -10.736992           0.0\n",
       "beta_time_1 -8.529148      0.370724   -23.006724           0.0\n",
       "beta_time_2 -5.584604      0.445793   -12.527356           0.0\n",
       "beta_time_3 -3.146894      0.234270   -13.432750           0.0\n",
       "beta_time_4 -6.858855      0.396436   -17.301285           0.0\n",
       "constant_2  -4.548230      0.179690   -25.311552           0.0\n",
       "constant_3  -2.497079      0.125927   -19.829523           0.0\n",
       "constant_4  -1.853614      0.120481   -15.385168           0.0"
      ]
     },
     "execution_count": 71,
     "metadata": {},
     "output_type": "execute_result"
    }
   ],
   "source": [
    "all_results['Alt. spec.'].getEstimatedParameters()"
   ]
  },
  {
   "cell_type": "code",
   "execution_count": 72,
   "id": "b5d4ab55",
   "metadata": {},
   "outputs": [
    {
     "data": {
      "text/plain": [
       "LRTuple(message='H0 can be rejected at level 5.0%', statistic=923.5807145558501, threshold=7.814727903251179)"
      ]
     },
     "execution_count": 72,
     "metadata": {},
     "output_type": "execute_result"
    }
   ],
   "source": [
    "all_results['Alt. spec.'].likelihood_ratio_test(all_results['Base'], 0.05)"
   ]
  },
  {
   "cell_type": "markdown",
   "id": "0d128e4d",
   "metadata": {},
   "source": [
    "# Model 2, socioeconomic interaction"
   ]
  },
  {
   "cell_type": "markdown",
   "id": "e671d69a",
   "metadata": {},
   "source": [
    "Using Model 1 as the base model, include one additional alternative attribute and one interaction of a socioeconomic characteristic with either the ASCs or one of the attributes. Report both the specification and the estimation results (as defined previously)."
   ]
  },
  {
   "cell_type": "markdown",
   "id": "203aff20",
   "metadata": {},
   "source": [
    "\\begin{align*}\n",
    "V_1 &= \\beta_\\text{time,1} \\text{time}_1 \\\\\n",
    "V_2 &= \\text{cte}_2 + \\text{cte}_{l,2} \\text{licence}_2 + \\beta_\\text{time,2} \\text{time}_2 \\\\\n",
    "V_3 &= \\text{cte}_3 + \\text{cte}_{l,3} \\text{licence}_3  + \\beta_\\text{cost}  \\text{cost}_3 + \\beta_\\text{time,3} \\text{time}_3  + \\beta_\\text{fuel,3} \\text{fueltype}_3  \\\\\n",
    "V_4 &= \\text{cte}_4 + \\text{cte}_{l,4} \\text{licence}_4 + \\beta_\\text{cost}  \\text{cost}_4 + \\beta_\\text{time,4} \\text{time}_4  + \\beta_\\text{fuel,4} \\text{fueltype}_4  \\\\\n",
    "\\end{align*}"
   ]
  },
  {
   "cell_type": "code",
   "execution_count": 73,
   "id": "16b17731",
   "metadata": {},
   "outputs": [],
   "source": [
    "constant_2 = Beta('constant_2', 0, None, None, 0)\n",
    "constant_licence_2 = Beta('constant_licence_2', 0, None, None, 0)\n",
    "constant_3 = Beta('constant_3', 0, None, None, 0)\n",
    "constant_licence_3 = Beta('constant_licence_3', 0, None, None, 0)\n",
    "constant_4 = Beta('constant_4', 0, None, None, 0)\n",
    "constant_licence_4 = Beta('constant_licence_4', 0, None, None, 0)\n",
    "beta_time_1 = Beta('beta_time_1', 0, None, None, 0)\n",
    "beta_time_2 = Beta('beta_time_2', 0, None, None, 0)\n",
    "beta_time_3 = Beta('beta_time_3', 0, None, None, 0)\n",
    "beta_time_4 = Beta('beta_time_4', 0, None, None, 0)\n",
    "beta_fuel_type_3 = Beta('beta_fuel_type_3', 0, None, None, 0)\n",
    "beta_fuel_type_4 = Beta('beta_fuel_type_4', 0, None, None, 0)\n",
    "Opt1_socioeco = (beta_time_1 * dur_walking)\n",
    "Opt2_socioeco = (constant_2 + constant_licence_2 * driving_license +\n",
    "                 beta_time_2 * dur_cycling)\n",
    "Opt3_socioeco = (constant_3 + constant_licence_3 * driving_license +\n",
    "                 beta_cost * cost_pt + beta_time_3 * dur_pt +\n",
    "                 beta_fuel_type_3 * fueltype)\n",
    "Opt4_socioeco = (constant_4 + constant_licence_4 * driving_license +\n",
    "                 beta_cost * cost_driving + beta_time_4 * dur_driving +\n",
    "                 beta_fuel_type_4 * fueltype)\n",
    "V_socioeco = {\n",
    "    1: Opt1_socioeco,\n",
    "    2: Opt2_socioeco,\n",
    "    3: Opt3_socioeco,\n",
    "    4: Opt4_socioeco\n",
    "}\n",
    "\n",
    "logprob_socioeco = models.loglogit(V_socioeco, None, travel_mode)\n",
    "biogeme_socioeco = bio.BIOGEME(database, logprob_socioeco)\n",
    "biogeme_socioeco.modelName = 'logit_lpmc_socioeco'\n",
    "all_results['Socioeco.'] = biogeme_socioeco.estimate()"
   ]
  },
  {
   "cell_type": "code",
   "execution_count": 74,
   "id": "3cd894fb",
   "metadata": {
    "scrolled": true
   },
   "outputs": [
    {
     "name": "stdout",
     "output_type": "stream",
     "text": [
      "Number of estimated parameters:\t13\n",
      "Sample size:\t5000\n",
      "Excluded observations:\t0\n",
      "Init log likelihood:\t-3833.867\n",
      "Final log likelihood:\t-3833.867\n",
      "Likelihood ratio test for the init. model:\t1.072513e-07\n",
      "Rho-square for the init. model:\t1.4e-11\n",
      "Rho-square-bar for the init. model:\t-0.00339\n",
      "Akaike Information Criterion:\t7693.733\n",
      "Bayesian Information Criterion:\t7778.457\n",
      "Final gradient norm:\t2.8314E-02\n",
      "Nbr of threads:\t8\n",
      "\n"
     ]
    }
   ],
   "source": [
    "print(all_results['Socioeco.'].printGeneralStatistics())"
   ]
  },
  {
   "cell_type": "code",
   "execution_count": 75,
   "id": "b0ae7277",
   "metadata": {},
   "outputs": [
    {
     "data": {
      "text/html": [
       "<div>\n",
       "<style scoped>\n",
       "    .dataframe tbody tr th:only-of-type {\n",
       "        vertical-align: middle;\n",
       "    }\n",
       "\n",
       "    .dataframe tbody tr th {\n",
       "        vertical-align: top;\n",
       "    }\n",
       "\n",
       "    .dataframe thead th {\n",
       "        text-align: right;\n",
       "    }\n",
       "</style>\n",
       "<table border=\"1\" class=\"dataframe\">\n",
       "  <thead>\n",
       "    <tr style=\"text-align: right;\">\n",
       "      <th></th>\n",
       "      <th>Value</th>\n",
       "      <th>Rob. Std err</th>\n",
       "      <th>Rob. t-test</th>\n",
       "      <th>Rob. p-value</th>\n",
       "    </tr>\n",
       "  </thead>\n",
       "  <tbody>\n",
       "    <tr>\n",
       "      <th>beta_cost</th>\n",
       "      <td>-0.169051</td>\n",
       "      <td>0.020736</td>\n",
       "      <td>-8.152740</td>\n",
       "      <td>4.440892e-16</td>\n",
       "    </tr>\n",
       "    <tr>\n",
       "      <th>beta_fuel_type_3</th>\n",
       "      <td>0.071290</td>\n",
       "      <td>0.021848</td>\n",
       "      <td>3.262958</td>\n",
       "      <td>1.102558e-03</td>\n",
       "    </tr>\n",
       "    <tr>\n",
       "      <th>beta_fuel_type_4</th>\n",
       "      <td>-0.360814</td>\n",
       "      <td>0.021738</td>\n",
       "      <td>-16.597930</td>\n",
       "      <td>0.000000e+00</td>\n",
       "    </tr>\n",
       "    <tr>\n",
       "      <th>beta_time_1</th>\n",
       "      <td>-8.565406</td>\n",
       "      <td>0.378249</td>\n",
       "      <td>-22.644892</td>\n",
       "      <td>0.000000e+00</td>\n",
       "    </tr>\n",
       "    <tr>\n",
       "      <th>beta_time_2</th>\n",
       "      <td>-5.890060</td>\n",
       "      <td>0.471991</td>\n",
       "      <td>-12.479178</td>\n",
       "      <td>0.000000e+00</td>\n",
       "    </tr>\n",
       "    <tr>\n",
       "      <th>beta_time_3</th>\n",
       "      <td>-3.032450</td>\n",
       "      <td>0.252594</td>\n",
       "      <td>-12.005229</td>\n",
       "      <td>0.000000e+00</td>\n",
       "    </tr>\n",
       "    <tr>\n",
       "      <th>beta_time_4</th>\n",
       "      <td>-7.345041</td>\n",
       "      <td>0.423679</td>\n",
       "      <td>-17.336350</td>\n",
       "      <td>0.000000e+00</td>\n",
       "    </tr>\n",
       "    <tr>\n",
       "      <th>constant_2</th>\n",
       "      <td>-4.972662</td>\n",
       "      <td>0.219508</td>\n",
       "      <td>-22.653671</td>\n",
       "      <td>0.000000e+00</td>\n",
       "    </tr>\n",
       "    <tr>\n",
       "      <th>constant_3</th>\n",
       "      <td>-2.586454</td>\n",
       "      <td>0.163045</td>\n",
       "      <td>-15.863458</td>\n",
       "      <td>0.000000e+00</td>\n",
       "    </tr>\n",
       "    <tr>\n",
       "      <th>constant_4</th>\n",
       "      <td>-1.334870</td>\n",
       "      <td>0.154656</td>\n",
       "      <td>-8.631204</td>\n",
       "      <td>0.000000e+00</td>\n",
       "    </tr>\n",
       "    <tr>\n",
       "      <th>constant_licence_2</th>\n",
       "      <td>0.743805</td>\n",
       "      <td>0.192303</td>\n",
       "      <td>3.867881</td>\n",
       "      <td>1.097850e-04</td>\n",
       "    </tr>\n",
       "    <tr>\n",
       "      <th>constant_licence_3</th>\n",
       "      <td>-0.614607</td>\n",
       "      <td>0.111462</td>\n",
       "      <td>-5.514067</td>\n",
       "      <td>3.506347e-08</td>\n",
       "    </tr>\n",
       "    <tr>\n",
       "      <th>constant_licence_4</th>\n",
       "      <td>0.656876</td>\n",
       "      <td>0.105445</td>\n",
       "      <td>6.229536</td>\n",
       "      <td>4.678200e-10</td>\n",
       "    </tr>\n",
       "  </tbody>\n",
       "</table>\n",
       "</div>"
      ],
      "text/plain": [
       "                       Value  Rob. Std err  Rob. t-test  Rob. p-value\n",
       "beta_cost          -0.169051      0.020736    -8.152740  4.440892e-16\n",
       "beta_fuel_type_3    0.071290      0.021848     3.262958  1.102558e-03\n",
       "beta_fuel_type_4   -0.360814      0.021738   -16.597930  0.000000e+00\n",
       "beta_time_1        -8.565406      0.378249   -22.644892  0.000000e+00\n",
       "beta_time_2        -5.890060      0.471991   -12.479178  0.000000e+00\n",
       "beta_time_3        -3.032450      0.252594   -12.005229  0.000000e+00\n",
       "beta_time_4        -7.345041      0.423679   -17.336350  0.000000e+00\n",
       "constant_2         -4.972662      0.219508   -22.653671  0.000000e+00\n",
       "constant_3         -2.586454      0.163045   -15.863458  0.000000e+00\n",
       "constant_4         -1.334870      0.154656    -8.631204  0.000000e+00\n",
       "constant_licence_2  0.743805      0.192303     3.867881  1.097850e-04\n",
       "constant_licence_3 -0.614607      0.111462    -5.514067  3.506347e-08\n",
       "constant_licence_4  0.656876      0.105445     6.229536  4.678200e-10"
      ]
     },
     "execution_count": 75,
     "metadata": {},
     "output_type": "execute_result"
    }
   ],
   "source": [
    "all_results['Socioeco.'].getEstimatedParameters()"
   ]
  },
  {
   "cell_type": "code",
   "execution_count": 76,
   "id": "d3cbadaa",
   "metadata": {},
   "outputs": [
    {
     "data": {
      "text/plain": [
       "LRTuple(message='H0 can be rejected at level 5.0%', statistic=1083.9667044994712, threshold=11.070497693516351)"
      ]
     },
     "execution_count": 76,
     "metadata": {},
     "output_type": "execute_result"
    }
   ],
   "source": [
    "all_results['Socioeco.'].likelihood_ratio_test(all_results['Alt. spec.'], 0.05)"
   ]
  },
  {
   "cell_type": "markdown",
   "id": "14b452f1",
   "metadata": {},
   "source": [
    "# Model 3, non-linear"
   ]
  },
  {
   "cell_type": "markdown",
   "id": "e86722c0",
   "metadata": {},
   "source": [
    "Using Model 2 as the base model, include an appropriate non-linear transformation of one of the variables. Report both the specification and the estimation results (as defined previously)."
   ]
  },
  {
   "cell_type": "markdown",
   "id": "78e92386",
   "metadata": {},
   "source": [
    "We first define the Box-Cox transform of the elapsed time variables."
   ]
  },
  {
   "cell_type": "code",
   "execution_count": 104,
   "id": "3eff59cb",
   "metadata": {},
   "outputs": [],
   "source": [
    "lambda_boxcox = Beta('lambda_boxcox', 1, None, None, 0)\n",
    "boxcox_time_1 = models.boxcox(dur_walking, lambda_boxcox)\n",
    "boxcox_time_2 = models.boxcox(dur_cycling, lambda_boxcox)\n",
    "boxcox_time_3 = models.boxcox(dur_pt, lambda_boxcox)\n",
    "boxcox_time_4 = models.boxcox(dur_driving, lambda_boxcox)"
   ]
  },
  {
   "cell_type": "markdown",
   "id": "ea64a6cf",
   "metadata": {},
   "source": [
    "\\begin{align*}\n",
    "V_1 &= \\beta_\\text{time,1} \\frac{\\text{time}_1^{\\ell}-1}{\\ell} \\\\\n",
    "V_2 &= \\text{cte}_2 + \\text{cte}_{l,2} \\text{licence}_2 + \\beta_\\text{time,2} \\frac{\\text{time}_2^{\\ell}-1}{\\ell} \\\\\n",
    "V_3 &= \\text{cte}_3 + \\text{cte}_{l,3} \\text{licence}_3  + \\beta_\\text{cost}  \\text{cost}_3 + \\beta_\\text{time,3} \\frac{\\text{time}_3^{\\ell}-1}{\\ell}  + \\beta_\\text{fuel,3} \\text{fueltype}_3  \\\\\n",
    "V_4 &= \\text{cte}_4 + \\text{cte}_{l,4} \\text{licence}_4 + \\beta_\\text{cost}  \\text{cost}_4 + \\beta_\\text{time,4} \\frac{\\text{time}_4^{\\ell}-1}{\\ell}  + \\beta_\\text{fuel,4} \\text{fueltype}_4  \\\\\n",
    "\\end{align*}"
   ]
  },
  {
   "cell_type": "code",
   "execution_count": 114,
   "id": "c7b18ee1",
   "metadata": {},
   "outputs": [],
   "source": [
    "constant_2 = Beta('constant_2', 0, None, None, 0)\n",
    "constant_licence_2 = Beta('constant_licence_2', 0, None, None, 0)\n",
    "constant_3 = Beta('constant_3', 0, None, None, 0)\n",
    "constant_licence_3 = Beta('constant_licence_3', 0, None, None, 0)\n",
    "constant_4 = Beta('constant_4', 0, None, None, 0)\n",
    "constant_licence_4 = Beta('constant_licence_4', 0, None, None, 0)\n",
    "beta_time_1 = Beta('beta_time_1', 0, None, None, 0)\n",
    "beta_time_2 = Beta('beta_time_2', 0, None, None, 0)\n",
    "beta_time_3 = Beta('beta_time_3', 0, None, None, 0)\n",
    "beta_time_4 = Beta('beta_time_4', 0, None, None, 0)\n",
    "beta_fuel_type_3 = Beta('beta_fuel_type_3', 0, None, None, 0)\n",
    "beta_fuel_type_4 = Beta('beta_fuel_type_4', 0, None, None, 0)\n",
    "Opt1_nonlinear = (beta_time_1 * boxcox_time_1)\n",
    "Opt2_nonlinear = (constant_2 + constant_licence_2 * driving_license +\n",
    "                 beta_time_2 * boxcox_time_2)\n",
    "Opt3_nonlinear = (constant_3 + constant_licence_3 * driving_license +\n",
    "                 beta_cost * cost_pt + beta_time_3 * boxcox_time_3 +\n",
    "                 beta_fuel_type_3 * fueltype)\n",
    "Opt4_nonlinear = (constant_4 + constant_licence_4 * driving_license +\n",
    "                 beta_cost * cost_driving + beta_time_4 * boxcox_time_4 +\n",
    "                 beta_fuel_type_4 * fueltype)\n",
    "V_nonlinear = {\n",
    "    1: Opt1_nonlinear,\n",
    "    2: Opt2_nonlinear,\n",
    "    3: Opt3_nonlinear,\n",
    "    4: Opt4_nonlinear\n",
    "}\n",
    "\n",
    "logprob_nonlinear = models.loglogit(V_nonlinear, None, travel_mode)\n",
    "biogeme_nonlinear = bio.BIOGEME(database, logprob_nonlinear)\n",
    "biogeme_nonlinear.modelName = 'logit_lpmc_nonlinear'\n",
    "all_results['Nonlinear.'] = biogeme_nonlinear.estimate()"
   ]
  },
  {
   "cell_type": "code",
   "execution_count": 115,
   "id": "fa52bf78",
   "metadata": {
    "scrolled": true
   },
   "outputs": [
    {
     "name": "stdout",
     "output_type": "stream",
     "text": [
      "Number of estimated parameters:\t14\n",
      "Sample size:\t5000\n",
      "Excluded observations:\t0\n",
      "Init log likelihood:\t-3778.683\n",
      "Final log likelihood:\t-3778.646\n",
      "Likelihood ratio test for the init. model:\t0.07389192\n",
      "Rho-square for the init. model:\t9.78e-06\n",
      "Rho-square-bar for the init. model:\t-0.0037\n",
      "Akaike Information Criterion:\t7585.292\n",
      "Bayesian Information Criterion:\t7676.532\n",
      "Final gradient norm:\t1.2233E-02\n",
      "Nbr of threads:\t8\n",
      "\n"
     ]
    }
   ],
   "source": [
    "print(all_results['Nonlinear.'].printGeneralStatistics())"
   ]
  },
  {
   "cell_type": "code",
   "execution_count": 116,
   "id": "a799d50d",
   "metadata": {},
   "outputs": [
    {
     "data": {
      "text/html": [
       "<div>\n",
       "<style scoped>\n",
       "    .dataframe tbody tr th:only-of-type {\n",
       "        vertical-align: middle;\n",
       "    }\n",
       "\n",
       "    .dataframe tbody tr th {\n",
       "        vertical-align: top;\n",
       "    }\n",
       "\n",
       "    .dataframe thead th {\n",
       "        text-align: right;\n",
       "    }\n",
       "</style>\n",
       "<table border=\"1\" class=\"dataframe\">\n",
       "  <thead>\n",
       "    <tr style=\"text-align: right;\">\n",
       "      <th></th>\n",
       "      <th>Value</th>\n",
       "      <th>Rob. Std err</th>\n",
       "      <th>Rob. t-test</th>\n",
       "      <th>Rob. p-value</th>\n",
       "    </tr>\n",
       "  </thead>\n",
       "  <tbody>\n",
       "    <tr>\n",
       "      <th>beta_cost</th>\n",
       "      <td>-0.156406</td>\n",
       "      <td>0.020186</td>\n",
       "      <td>-7.748322</td>\n",
       "      <td>9.325873e-15</td>\n",
       "    </tr>\n",
       "    <tr>\n",
       "      <th>beta_fuel_type_3</th>\n",
       "      <td>0.074338</td>\n",
       "      <td>0.023080</td>\n",
       "      <td>3.220869</td>\n",
       "      <td>1.278027e-03</td>\n",
       "    </tr>\n",
       "    <tr>\n",
       "      <th>beta_fuel_type_4</th>\n",
       "      <td>-0.347746</td>\n",
       "      <td>0.022504</td>\n",
       "      <td>-15.452451</td>\n",
       "      <td>0.000000e+00</td>\n",
       "    </tr>\n",
       "    <tr>\n",
       "      <th>beta_time_1</th>\n",
       "      <td>-5.984910</td>\n",
       "      <td>0.279031</td>\n",
       "      <td>-21.448903</td>\n",
       "      <td>0.000000e+00</td>\n",
       "    </tr>\n",
       "    <tr>\n",
       "      <th>beta_time_2</th>\n",
       "      <td>-3.847988</td>\n",
       "      <td>0.307005</td>\n",
       "      <td>-12.533955</td>\n",
       "      <td>0.000000e+00</td>\n",
       "    </tr>\n",
       "    <tr>\n",
       "      <th>beta_time_3</th>\n",
       "      <td>-2.594174</td>\n",
       "      <td>0.197006</td>\n",
       "      <td>-13.168001</td>\n",
       "      <td>0.000000e+00</td>\n",
       "    </tr>\n",
       "    <tr>\n",
       "      <th>beta_time_4</th>\n",
       "      <td>-4.209801</td>\n",
       "      <td>0.341785</td>\n",
       "      <td>-12.317117</td>\n",
       "      <td>0.000000e+00</td>\n",
       "    </tr>\n",
       "    <tr>\n",
       "      <th>constant_2</th>\n",
       "      <td>-2.816376</td>\n",
       "      <td>0.319803</td>\n",
       "      <td>-8.806605</td>\n",
       "      <td>0.000000e+00</td>\n",
       "    </tr>\n",
       "    <tr>\n",
       "      <th>constant_3</th>\n",
       "      <td>2.055477</td>\n",
       "      <td>0.213172</td>\n",
       "      <td>9.642350</td>\n",
       "      <td>0.000000e+00</td>\n",
       "    </tr>\n",
       "    <tr>\n",
       "      <th>constant_4</th>\n",
       "      <td>-0.075700</td>\n",
       "      <td>0.281571</td>\n",
       "      <td>-0.268848</td>\n",
       "      <td>7.880465e-01</td>\n",
       "    </tr>\n",
       "    <tr>\n",
       "      <th>constant_licence_2</th>\n",
       "      <td>0.763706</td>\n",
       "      <td>0.193920</td>\n",
       "      <td>3.938257</td>\n",
       "      <td>8.207552e-05</td>\n",
       "    </tr>\n",
       "    <tr>\n",
       "      <th>constant_licence_3</th>\n",
       "      <td>-0.639099</td>\n",
       "      <td>0.118270</td>\n",
       "      <td>-5.403750</td>\n",
       "      <td>6.526192e-08</td>\n",
       "    </tr>\n",
       "    <tr>\n",
       "      <th>constant_licence_4</th>\n",
       "      <td>0.662507</td>\n",
       "      <td>0.110238</td>\n",
       "      <td>6.009818</td>\n",
       "      <td>1.857320e-09</td>\n",
       "    </tr>\n",
       "    <tr>\n",
       "      <th>lambda_boxcox</th>\n",
       "      <td>0.390939</td>\n",
       "      <td>0.050058</td>\n",
       "      <td>7.809768</td>\n",
       "      <td>5.773160e-15</td>\n",
       "    </tr>\n",
       "  </tbody>\n",
       "</table>\n",
       "</div>"
      ],
      "text/plain": [
       "                       Value  Rob. Std err  Rob. t-test  Rob. p-value\n",
       "beta_cost          -0.156406      0.020186    -7.748322  9.325873e-15\n",
       "beta_fuel_type_3    0.074338      0.023080     3.220869  1.278027e-03\n",
       "beta_fuel_type_4   -0.347746      0.022504   -15.452451  0.000000e+00\n",
       "beta_time_1        -5.984910      0.279031   -21.448903  0.000000e+00\n",
       "beta_time_2        -3.847988      0.307005   -12.533955  0.000000e+00\n",
       "beta_time_3        -2.594174      0.197006   -13.168001  0.000000e+00\n",
       "beta_time_4        -4.209801      0.341785   -12.317117  0.000000e+00\n",
       "constant_2         -2.816376      0.319803    -8.806605  0.000000e+00\n",
       "constant_3          2.055477      0.213172     9.642350  0.000000e+00\n",
       "constant_4         -0.075700      0.281571    -0.268848  7.880465e-01\n",
       "constant_licence_2  0.763706      0.193920     3.938257  8.207552e-05\n",
       "constant_licence_3 -0.639099      0.118270    -5.403750  6.526192e-08\n",
       "constant_licence_4  0.662507      0.110238     6.009818  1.857320e-09\n",
       "lambda_boxcox       0.390939      0.050058     7.809768  5.773160e-15"
      ]
     },
     "execution_count": 116,
     "metadata": {},
     "output_type": "execute_result"
    }
   ],
   "source": [
    "all_results['Nonlinear.'].getEstimatedParameters()"
   ]
  },
  {
   "cell_type": "code",
   "execution_count": 117,
   "id": "471d269f",
   "metadata": {},
   "outputs": [
    {
     "data": {
      "text/plain": [
       "LRTuple(message='H0 can be rejected at level 5.0%', statistic=110.44155851373307, threshold=3.841458820694124)"
      ]
     },
     "execution_count": 117,
     "metadata": {},
     "output_type": "execute_result"
    }
   ],
   "source": [
    "all_results['Nonlinear.'].likelihood_ratio_test(all_results['Socioeco.'], 0.05)"
   ]
  },
  {
   "cell_type": "markdown",
   "id": "28b6f72c",
   "metadata": {},
   "source": [
    "# Comparison of the results"
   ]
  },
  {
   "cell_type": "code",
   "execution_count": 118,
   "id": "294474a2",
   "metadata": {},
   "outputs": [
    {
     "data": {
      "text/html": [
       "<div>\n",
       "<style scoped>\n",
       "    .dataframe tbody tr th:only-of-type {\n",
       "        vertical-align: middle;\n",
       "    }\n",
       "\n",
       "    .dataframe tbody tr th {\n",
       "        vertical-align: top;\n",
       "    }\n",
       "\n",
       "    .dataframe thead th {\n",
       "        text-align: right;\n",
       "    }\n",
       "</style>\n",
       "<table border=\"1\" class=\"dataframe\">\n",
       "  <thead>\n",
       "    <tr style=\"text-align: right;\">\n",
       "      <th></th>\n",
       "      <th>Base</th>\n",
       "      <th>Alt. spec.</th>\n",
       "      <th>Socioeco.</th>\n",
       "      <th>Nonlinear.</th>\n",
       "    </tr>\n",
       "  </thead>\n",
       "  <tbody>\n",
       "    <tr>\n",
       "      <th>Number of estimated parameters</th>\n",
       "      <td>5</td>\n",
       "      <td>8</td>\n",
       "      <td>13</td>\n",
       "      <td>14</td>\n",
       "    </tr>\n",
       "    <tr>\n",
       "      <th>Sample size</th>\n",
       "      <td>5000</td>\n",
       "      <td>5000</td>\n",
       "      <td>5000</td>\n",
       "      <td>5000</td>\n",
       "    </tr>\n",
       "    <tr>\n",
       "      <th>Final log likelihood</th>\n",
       "      <td>-4837.640324</td>\n",
       "      <td>-4375.849966</td>\n",
       "      <td>-3833.866614</td>\n",
       "      <td>-3778.645835</td>\n",
       "    </tr>\n",
       "    <tr>\n",
       "      <th>Akaike Information Criterion</th>\n",
       "      <td>9685.280647</td>\n",
       "      <td>8767.699933</td>\n",
       "      <td>7693.733228</td>\n",
       "      <td>7585.29167</td>\n",
       "    </tr>\n",
       "    <tr>\n",
       "      <th>Bayesian Information Criterion</th>\n",
       "      <td>9717.866613</td>\n",
       "      <td>8819.837478</td>\n",
       "      <td>7778.45674</td>\n",
       "      <td>7676.532374</td>\n",
       "    </tr>\n",
       "    <tr>\n",
       "      <th>beta_cost</th>\n",
       "      <td>-0.217267</td>\n",
       "      <td>-0.202346</td>\n",
       "      <td>-0.169051</td>\n",
       "      <td>-0.156406</td>\n",
       "    </tr>\n",
       "    <tr>\n",
       "      <th>beta_time</th>\n",
       "      <td>-4.583652</td>\n",
       "      <td></td>\n",
       "      <td></td>\n",
       "      <td></td>\n",
       "    </tr>\n",
       "    <tr>\n",
       "      <th>constant_2</th>\n",
       "      <td>-3.407951</td>\n",
       "      <td>-4.54823</td>\n",
       "      <td>-4.972662</td>\n",
       "      <td>-2.816376</td>\n",
       "    </tr>\n",
       "    <tr>\n",
       "      <th>constant_3</th>\n",
       "      <td>-0.306573</td>\n",
       "      <td>-2.497079</td>\n",
       "      <td>-2.586454</td>\n",
       "      <td>2.055477</td>\n",
       "    </tr>\n",
       "    <tr>\n",
       "      <th>constant_4</th>\n",
       "      <td>-0.956693</td>\n",
       "      <td>-1.853614</td>\n",
       "      <td>-1.33487</td>\n",
       "      <td>-0.0757</td>\n",
       "    </tr>\n",
       "    <tr>\n",
       "      <th>beta_time_1</th>\n",
       "      <td></td>\n",
       "      <td>-8.529148</td>\n",
       "      <td>-8.565406</td>\n",
       "      <td>-5.98491</td>\n",
       "    </tr>\n",
       "    <tr>\n",
       "      <th>beta_time_2</th>\n",
       "      <td></td>\n",
       "      <td>-5.584604</td>\n",
       "      <td>-5.89006</td>\n",
       "      <td>-3.847988</td>\n",
       "    </tr>\n",
       "    <tr>\n",
       "      <th>beta_time_3</th>\n",
       "      <td></td>\n",
       "      <td>-3.146894</td>\n",
       "      <td>-3.03245</td>\n",
       "      <td>-2.594174</td>\n",
       "    </tr>\n",
       "    <tr>\n",
       "      <th>beta_time_4</th>\n",
       "      <td></td>\n",
       "      <td>-6.858855</td>\n",
       "      <td>-7.345041</td>\n",
       "      <td>-4.209801</td>\n",
       "    </tr>\n",
       "    <tr>\n",
       "      <th>beta_fuel_type_3</th>\n",
       "      <td></td>\n",
       "      <td></td>\n",
       "      <td>0.07129</td>\n",
       "      <td>0.074338</td>\n",
       "    </tr>\n",
       "    <tr>\n",
       "      <th>beta_fuel_type_4</th>\n",
       "      <td></td>\n",
       "      <td></td>\n",
       "      <td>-0.360814</td>\n",
       "      <td>-0.347746</td>\n",
       "    </tr>\n",
       "    <tr>\n",
       "      <th>constant_licence_2</th>\n",
       "      <td></td>\n",
       "      <td></td>\n",
       "      <td>0.743805</td>\n",
       "      <td>0.763706</td>\n",
       "    </tr>\n",
       "    <tr>\n",
       "      <th>constant_licence_3</th>\n",
       "      <td></td>\n",
       "      <td></td>\n",
       "      <td>-0.614607</td>\n",
       "      <td>-0.639099</td>\n",
       "    </tr>\n",
       "    <tr>\n",
       "      <th>constant_licence_4</th>\n",
       "      <td></td>\n",
       "      <td></td>\n",
       "      <td>0.656876</td>\n",
       "      <td>0.662507</td>\n",
       "    </tr>\n",
       "    <tr>\n",
       "      <th>lambda_boxcox</th>\n",
       "      <td></td>\n",
       "      <td></td>\n",
       "      <td></td>\n",
       "      <td>0.390939</td>\n",
       "    </tr>\n",
       "  </tbody>\n",
       "</table>\n",
       "</div>"
      ],
      "text/plain": [
       "                                       Base   Alt. spec.    Socioeco.  \\\n",
       "Number of estimated parameters            5            8           13   \n",
       "Sample size                            5000         5000         5000   \n",
       "Final log likelihood           -4837.640324 -4375.849966 -3833.866614   \n",
       "Akaike Information Criterion    9685.280647  8767.699933  7693.733228   \n",
       "Bayesian Information Criterion  9717.866613  8819.837478   7778.45674   \n",
       "beta_cost                         -0.217267    -0.202346    -0.169051   \n",
       "beta_time                         -4.583652                             \n",
       "constant_2                        -3.407951     -4.54823    -4.972662   \n",
       "constant_3                        -0.306573    -2.497079    -2.586454   \n",
       "constant_4                        -0.956693    -1.853614     -1.33487   \n",
       "beta_time_1                                    -8.529148    -8.565406   \n",
       "beta_time_2                                    -5.584604     -5.89006   \n",
       "beta_time_3                                    -3.146894     -3.03245   \n",
       "beta_time_4                                    -6.858855    -7.345041   \n",
       "beta_fuel_type_3                                              0.07129   \n",
       "beta_fuel_type_4                                            -0.360814   \n",
       "constant_licence_2                                           0.743805   \n",
       "constant_licence_3                                          -0.614607   \n",
       "constant_licence_4                                           0.656876   \n",
       "lambda_boxcox                                                           \n",
       "\n",
       "                                 Nonlinear.  \n",
       "Number of estimated parameters           14  \n",
       "Sample size                            5000  \n",
       "Final log likelihood           -3778.645835  \n",
       "Akaike Information Criterion     7585.29167  \n",
       "Bayesian Information Criterion  7676.532374  \n",
       "beta_cost                         -0.156406  \n",
       "beta_time                                    \n",
       "constant_2                        -2.816376  \n",
       "constant_3                         2.055477  \n",
       "constant_4                          -0.0757  \n",
       "beta_time_1                        -5.98491  \n",
       "beta_time_2                       -3.847988  \n",
       "beta_time_3                       -2.594174  \n",
       "beta_time_4                       -4.209801  \n",
       "beta_fuel_type_3                   0.074338  \n",
       "beta_fuel_type_4                  -0.347746  \n",
       "constant_licence_2                 0.763706  \n",
       "constant_licence_3                -0.639099  \n",
       "constant_licence_4                 0.662507  \n",
       "lambda_boxcox                      0.390939  "
      ]
     },
     "execution_count": 118,
     "metadata": {},
     "output_type": "execute_result"
    }
   ],
   "source": [
    "res.compileEstimationResults(all_results)"
   ]
  },
  {
   "cell_type": "code",
   "execution_count": null,
   "id": "3be02268",
   "metadata": {},
   "outputs": [],
   "source": []
  }
 ],
 "metadata": {
  "kernelspec": {
   "display_name": "Python 3 (ipykernel)",
   "language": "python",
   "name": "python3"
  },
  "language_info": {
   "codemirror_mode": {
    "name": "ipython",
    "version": 3
   },
   "file_extension": ".py",
   "mimetype": "text/x-python",
   "name": "python",
   "nbconvert_exporter": "python",
   "pygments_lexer": "ipython3",
   "version": "3.10.4"
  }
 },
 "nbformat": 4,
 "nbformat_minor": 5
}
